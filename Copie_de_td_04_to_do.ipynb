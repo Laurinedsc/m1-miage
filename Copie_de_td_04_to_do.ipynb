{
  "cells": [
    {
      "cell_type": "markdown",
      "metadata": {
        "id": "view-in-github",
        "colab_type": "text"
      },
      "source": [
        "<a href=\"https://colab.research.google.com/github/lapointe05/m1-miage/blob/Oussama-BOULIDAME/Copie_de_td_04_to_do.ipynb\" target=\"_parent\"><img src=\"https://colab.research.google.com/assets/colab-badge.svg\" alt=\"Open In Colab\"/></a>"
      ]
    },
    {
      "cell_type": "markdown",
      "metadata": {
        "id": "597Hu82gSNCZ"
      },
      "source": [
        "<img src=\"https://upload.wikimedia.org/wikipedia/fr/0/0b/Polytech_Lyon_logo.png\" alt=\"drawing\" height=\"200\"/>\n",
        "\n",
        "# Algorithmique Avancée & Programmation en Python\n",
        "---\n",
        "\n"
      ]
    },
    {
      "cell_type": "markdown",
      "metadata": {
        "id": "EA-XK862WiMt"
      },
      "source": [
        "# TD 04\n",
        "\n",
        "Intro aux traitement de données\n",
        "\n",
        "```python\n",
        "print(\"Hello, friend! It's been a while...\")\n",
        "```\n",
        " \n",
        "Elements à consulter:\n",
        "\n",
        "\n",
        "Doc                                   |             Link\n",
        "--------------------------------------|------------------------------------\n",
        "Python en 30 jours | [>link<](https://moncoachdata.com/courses/apprendre-python-en-30-jours/)\n",
        "Get started with pandas | [>link<](https://colab.research.google.com/notebooks/snippets/pandas.ipynb)\n",
        "\n"
      ]
    },
    {
      "cell_type": "markdown",
      "metadata": {
        "id": "Y1g4EgT41MqJ"
      },
      "source": [
        "## Intro\n",
        "\n",
        "Le premier bloc devrait toujours contenir les installs/imports dont on aura besoin pour le reste"
      ]
    },
    {
      "cell_type": "code",
      "execution_count": null,
      "metadata": {
        "colab": {
          "base_uri": "https://localhost:8080/"
        },
        "id": "yjiE8c51VoT0",
        "outputId": "8f4c1652-73a6-473c-f93a-08dc6d9002ab"
      },
      "outputs": [
        {
          "output_type": "stream",
          "name": "stdout",
          "text": [
            "\u001b[?25l\r\u001b[K     |█▍                              | 10 kB 29.0 MB/s eta 0:00:01\r\u001b[K     |██▊                             | 20 kB 17.5 MB/s eta 0:00:01\r\u001b[K     |████                            | 30 kB 23.6 MB/s eta 0:00:01\r\u001b[K     |█████▍                          | 40 kB 11.8 MB/s eta 0:00:01\r\u001b[K     |██████▉                         | 51 kB 11.7 MB/s eta 0:00:01\r\u001b[K     |████████▏                       | 61 kB 13.7 MB/s eta 0:00:01\r\u001b[K     |█████████▌                      | 71 kB 12.4 MB/s eta 0:00:01\r\u001b[K     |██████████▉                     | 81 kB 13.6 MB/s eta 0:00:01\r\u001b[K     |████████████▎                   | 92 kB 13.8 MB/s eta 0:00:01\r\u001b[K     |█████████████▋                  | 102 kB 13.3 MB/s eta 0:00:01\r\u001b[K     |███████████████                 | 112 kB 13.3 MB/s eta 0:00:01\r\u001b[K     |████████████████▎               | 122 kB 13.3 MB/s eta 0:00:01\r\u001b[K     |█████████████████▊              | 133 kB 13.3 MB/s eta 0:00:01\r\u001b[K     |███████████████████             | 143 kB 13.3 MB/s eta 0:00:01\r\u001b[K     |████████████████████▍           | 153 kB 13.3 MB/s eta 0:00:01\r\u001b[K     |█████████████████████▊          | 163 kB 13.3 MB/s eta 0:00:01\r\u001b[K     |███████████████████████▏        | 174 kB 13.3 MB/s eta 0:00:01\r\u001b[K     |████████████████████████▌       | 184 kB 13.3 MB/s eta 0:00:01\r\u001b[K     |█████████████████████████▉      | 194 kB 13.3 MB/s eta 0:00:01\r\u001b[K     |███████████████████████████▏    | 204 kB 13.3 MB/s eta 0:00:01\r\u001b[K     |████████████████████████████▋   | 215 kB 13.3 MB/s eta 0:00:01\r\u001b[K     |██████████████████████████████  | 225 kB 13.3 MB/s eta 0:00:01\r\u001b[K     |███████████████████████████████▎| 235 kB 13.3 MB/s eta 0:00:01\r\u001b[K     |████████████████████████████████| 240 kB 13.3 MB/s \n",
            "\u001b[?25h  Building wheel for emoji (setup.py) ... \u001b[?25l\u001b[?25hdone\n"
          ]
        }
      ],
      "source": [
        "# Installs\n",
        "!pip install emoji --quiet"
      ]
    },
    {
      "cell_type": "code",
      "execution_count": null,
      "metadata": {
        "colab": {
          "base_uri": "https://localhost:8080/"
        },
        "id": "JhT-50uwz72F",
        "outputId": "35f8d89b-b418-48d1-b888-468d67b94ffd"
      },
      "outputs": [
        {
          "output_type": "stream",
          "name": "stdout",
          "text": [
            "Python is awesome 👍\n"
          ]
        }
      ],
      "source": [
        "# Imports\n",
        "import os\n",
        "import json\n",
        "from random import randint\n",
        "# import pandas as pd\n",
        "# import numpy as np\n",
        "from getpass import getpass\n",
        "import emoji\n",
        "\n",
        "print(emoji.emojize('Python is awesome :thumbs_up:'))"
      ]
    },
    {
      "cell_type": "markdown",
      "metadata": {
        "id": "5jpD7nr9NrKR"
      },
      "source": [
        "##EX01\n",
        "### Liste de dictionnaire\n",
        "\n",
        "* à partir d'un fichier  [csv](./td_04)\n",
        "\n",
        "\n",
        "\n",
        "* en résultat une liste de dicts qui doit contenir le titre de la série, la plateforme de streaming (légal), le nombre d'épisodes de la série, l'année de sortie et une note /10.\n"
      ]
    },
    {
      "cell_type": "code",
      "execution_count": 3,
      "metadata": {
        "id": "mvaCbuDl-Faz",
        "outputId": "39d40e13-1f69-4c71-bb9b-2654e0b315c5",
        "colab": {
          "base_uri": "https://localhost:8080/",
          "height": 235
        }
      },
      "outputs": [
        {
          "output_type": "error",
          "ename": "FileNotFoundError",
          "evalue": "ignored",
          "traceback": [
            "\u001b[0;31m---------------------------------------------------------------------------\u001b[0m",
            "\u001b[0;31mFileNotFoundError\u001b[0m                         Traceback (most recent call last)",
            "\u001b[0;32m<ipython-input-3-922168b800d5>\u001b[0m in \u001b[0;36m<module>\u001b[0;34m\u001b[0m\n\u001b[1;32m      1\u001b[0m \u001b[0;31m# Code here\u001b[0m\u001b[0;34m\u001b[0m\u001b[0;34m\u001b[0m\u001b[0;34m\u001b[0m\u001b[0m\n\u001b[1;32m      2\u001b[0m \u001b[0;32mimport\u001b[0m \u001b[0mcsv\u001b[0m\u001b[0;34m\u001b[0m\u001b[0;34m\u001b[0m\u001b[0m\n\u001b[0;32m----> 3\u001b[0;31m \u001b[0mf\u001b[0m\u001b[0;34m=\u001b[0m\u001b[0mopen\u001b[0m\u001b[0;34m(\u001b[0m\u001b[0;34m'C:\\M1 UCB LYON1\\python\\TD4\\netflix_titles.csv'\u001b[0m\u001b[0;34m,\u001b[0m\u001b[0;34m'r'\u001b[0m\u001b[0;34m,\u001b[0m \u001b[0mencoding\u001b[0m\u001b[0;34m=\u001b[0m\u001b[0;34m'utf-8'\u001b[0m\u001b[0;34m)\u001b[0m\u001b[0;34m\u001b[0m\u001b[0;34m\u001b[0m\u001b[0m\n\u001b[0m\u001b[1;32m      4\u001b[0m \u001b[0mfich\u001b[0m \u001b[0;34m=\u001b[0m \u001b[0mcsv\u001b[0m\u001b[0;34m.\u001b[0m\u001b[0mreader\u001b[0m\u001b[0;34m(\u001b[0m\u001b[0mf\u001b[0m\u001b[0;34m)\u001b[0m\u001b[0;34m\u001b[0m\u001b[0;34m\u001b[0m\u001b[0m\n\u001b[1;32m      5\u001b[0m \u001b[0mseries\u001b[0m \u001b[0;34m=\u001b[0m \u001b[0;34m{\u001b[0m\u001b[0;34m}\u001b[0m\u001b[0;34m\u001b[0m\u001b[0;34m\u001b[0m\u001b[0m\n",
            "\u001b[0;31mFileNotFoundError\u001b[0m: [Errno 2] No such file or directory: 'C:\\\\M1 UCB LYON1\\\\python\\\\TD4\\netflix_titles.csv'"
          ]
        }
      ],
      "source": [
        "# Code here\n",
        "import csv\n",
        "f=open('C:/M1 UCB LYON1/python/TD4/netflix_titles.csv','r', encoding='utf-8')\n",
        "fich = csv.reader(f)\n",
        "series = {}\n",
        "for serie in fich:\n",
        "    if serie[1]==\"TV Show\":\n",
        "        series[serie[0]]= {'Titre de la serie' : serie[2], 'Plateforme de streaming' : serie[8], 'Nombre d épisodes' : serie[9], 'Année de sortie': serie[7], 'note /10' : 10}\n",
        "\n",
        "print(series)"
      ]
    },
    {
      "cell_type": "markdown",
      "metadata": {
        "id": "XdJvMT9xVoRS"
      },
      "source": [
        "# Bonus (Mandatory)\n",
        "\n",
        "\n"
      ]
    },
    {
      "cell_type": "markdown",
      "metadata": {
        "id": "94-12vgPXG10"
      },
      "source": [
        "## Github\n",
        "Pour soumettre votre travail: \n",
        "\n",
        "1.   Commit changes to a branch and push to [github](https://google.com)\n",
        "2.   Create pull request / merge request\n"
      ]
    }
  ],
  "metadata": {
    "colab": {
      "collapsed_sections": [
        "Y1g4EgT41MqJ"
      ],
      "provenance": [],
      "include_colab_link": true
    },
    "kernelspec": {
      "display_name": "Python 3.7.9 ('stage23': venv)",
      "language": "python",
      "name": "python3"
    },
    "language_info": {
      "name": "python",
      "version": "3.7.9"
    },
    "vscode": {
      "interpreter": {
        "hash": "3f45e4e28fced15a12b4694155ea95b08e6e198f7a4414e8438d9413ea05e02f"
      }
    }
  },
  "nbformat": 4,
  "nbformat_minor": 0
}