{
  "nbformat": 4,
  "nbformat_minor": 0,
  "metadata": {
    "colab": {
      "provenance": [],
      "collapsed_sections": [
        "Y1g4EgT41MqJ",
        "5jpD7nr9NrKR",
        "BQBEhammPFtE",
        "cN_XcFu1dG5V"
      ],
      "include_colab_link": true
    },
    "kernelspec": {
      "name": "python3",
      "display_name": "Python 3"
    }
  },
  "cells": [
    {
      "cell_type": "markdown",
      "metadata": {
        "id": "view-in-github",
        "colab_type": "text"
      },
      "source": [
        "<a href=\"https://colab.research.google.com/github/lapointe05/m1-miage/blob/Manel_KALLOUD/KALLOUD_M1_MIAGE_TD_03.ipynb\" target=\"_parent\"><img src=\"https://colab.research.google.com/assets/colab-badge.svg\" alt=\"Open In Colab\"/></a>"
      ]
    },
    {
      "cell_type": "markdown",
      "metadata": {
        "id": "597Hu82gSNCZ"
      },
      "source": [
        "<img src=\"https://upload.wikimedia.org/wikipedia/fr/0/0b/Polytech_Lyon_logo.png\" alt=\"drawing\" height=\"200\"/>\n",
        "\n",
        "# Algorithmique Avancée & Programmation en Python\n",
        "---\n",
        "\n"
      ]
    },
    {
      "cell_type": "markdown",
      "source": [
        "# TD 03\n",
        "\n",
        "Intro aux traitement de données\n",
        "\n",
        "```python\n",
        "print(\"Hello, friend! It's been a while...\")\n",
        "```\n",
        " \n",
        "Elements à consulter:\n",
        "\n",
        "\n",
        "Doc                                   |             Link\n",
        "--------------------------------------|------------------------------------\n",
        "Python en 30 jours | [>link<](https://moncoachdata.com/courses/apprendre-python-en-30-jours/)\n",
        "Get started with pandas | [>link<](https://colab.research.google.com/notebooks/snippets/pandas.ipynb)"
      ],
      "metadata": {
        "id": "EA-XK862WiMt"
      }
    },
    {
      "cell_type": "markdown",
      "source": [
        "## Intro\n",
        "\n",
        "Le premier bloc devrait toujours contenir les installs/imports dont on aura besoin pour le reste"
      ],
      "metadata": {
        "id": "Y1g4EgT41MqJ"
      }
    },
    {
      "cell_type": "code",
      "source": [
        "# Installs\n",
        "!pip install emoji --quiet"
      ],
      "metadata": {
        "id": "yjiE8c51VoT0"
      },
      "execution_count": null,
      "outputs": []
    },
    {
      "cell_type": "code",
      "source": [
        "# Imports\n",
        "import os\n",
        "import json\n",
        "from random import randint\n",
        "# import pandas as pd\n",
        "# import numpy as np\n",
        "from getpass import getpass\n",
        "import emoji\n",
        "\n",
        "print(emoji.emojize('Python is awesome :thumbs_up:'))"
      ],
      "metadata": {
        "id": "JhT-50uwz72F",
        "colab": {
          "base_uri": "https://localhost:8080/"
        },
        "outputId": "13746b8a-6e07-4208-bbd2-20884034ce7b"
      },
      "execution_count": null,
      "outputs": [
        {
          "output_type": "stream",
          "name": "stdout",
          "text": [
            "Python is awesome 👍\n"
          ]
        }
      ]
    },
    {
      "cell_type": "markdown",
      "source": [
        "##EX01\n",
        "### Révision boucles / compréhension de listes\n",
        "\n",
        "Avec l'usage de la boucle `for`, répondez aux questions ci-dessous\n",
        "\n",
        "\n",
        "> PS: Code pris et modifié à partir d'exo sur github"
      ],
      "metadata": {
        "id": "5jpD7nr9NrKR"
      }
    },
    {
      "cell_type": "code",
      "source": [
        "##############################################################\n",
        "nombres = [1, 21, 5, 44, 4, 9, 5, 83, 29, 31, 25, 38]\n",
        "nombres_pairs = []\n",
        "\n",
        "for i in range (len(nombres)):\n",
        "  if (nombres[i]%2 == 0):\n",
        "    nombres_pairs.append(nombres[i])\n",
        "\n",
        "print( nombres_pairs)\n",
        "\n",
        "##############################################################\n",
        "\n",
        "nombres = range(-10, 10)\n",
        "nombres_positifs = []\n",
        "#nombres_negatifs = []\n",
        "\n",
        "\n",
        "for i in range (len(nombres)):\n",
        "  if (nombres[i] >= 0):\n",
        "    nombres_positifs.append(nombres[i])\n",
        " # else :\n",
        "   # nombres_negatifs.append(nombres[i])\n",
        "\n",
        "print(nombres_positifs)\n",
        "#print(nombres_negatifs)\n",
        "\n",
        "##############################################################\n",
        "\n",
        "nombres = range(5)\n",
        "nombres_x2 = []\n",
        "\n",
        "for i in range (len(nombres)):\n",
        "  nombres_x2.append(nombres[i]*2)\n",
        "\n",
        "print(nombres_x2)"
      ],
      "metadata": {
        "id": "8p4JXCtEyQBX",
        "colab": {
          "base_uri": "https://localhost:8080/"
        },
        "outputId": "a58d9410-4f84-4e9a-c907-9c9604f0610c"
      },
      "execution_count": null,
      "outputs": [
        {
          "output_type": "stream",
          "name": "stdout",
          "text": [
            "[44, 4, 38]\n",
            "[0, 1, 2, 3, 4, 5, 6, 7, 8, 9]\n",
            "[0, 2, 4, 6, 8]\n"
          ]
        }
      ]
    },
    {
      "cell_type": "markdown",
      "source": [
        "### PART 2\n",
        "Changez le code ci-dessus, et remplacez les blocs `for` par des [compréhensions de listes](https://duckduckgo.com/?q=list+comprehension+python)"
      ],
      "metadata": {
        "id": "BQBEhammPFtE"
      }
    },
    {
      "cell_type": "code",
      "source": [
        "##############################################################\n",
        "nombres = [1, 21, 5, 44, 4, 9, 5, 83, 29, 31, 25, 38]\n",
        "nombres_pairs = [nombres[i] for i in range(len(nombres)) if (nombres[i]%2==0)]\n",
        "\n",
        "#nombres_pairs = [nombres[i] for i in nombres if (nombres[i]%2==0)]\n",
        "\n",
        "print( nombres_pairs)\n",
        "\n",
        "##############################################################\n",
        "\n",
        "nombres = range(-10, 10)\n",
        "nombres_positifs = [nombres[i] for i in range(len(nombres)) if (nombres[i]>=0)]\n",
        "\n",
        "\n",
        "print(nombres_positifs)\n",
        "\n",
        "##############################################################\n",
        "\n",
        "nombres = range(5)\n",
        "nombres_x2 = [nombres[i]*2 for i in range(len(nombres)) ]\n",
        "\n",
        "print(nombres_x2)\n"
      ],
      "metadata": {
        "id": "zlMvZFGcPEAG",
        "colab": {
          "base_uri": "https://localhost:8080/"
        },
        "outputId": "905c6cfd-19b5-419b-9eec-cc4e8c155246"
      },
      "execution_count": null,
      "outputs": [
        {
          "output_type": "stream",
          "name": "stdout",
          "text": [
            "[44, 4, 38]\n",
            "[0, 1, 2, 3, 4, 5, 6, 7, 8, 9]\n",
            "[0, 2, 4, 6, 8]\n"
          ]
        }
      ]
    },
    {
      "cell_type": "markdown",
      "source": [
        "##EX02\n",
        "### Les sets\n",
        "\n",
        "  1. Créez un `set` vide et attribuez-le à une variable.\n",
        "  2. Ajoutez trois éléments à votre ensemble vide en utilisant soit plusieurs appels `add`, soit un seul appel de `update`.\n",
        "\n",
        "  3. Créez un deuxième `set` qui comprend au moins un élément commun avec le premier ensemble.\n",
        "\n",
        "  4. Trouvez l’union, la différence et l’intersection des deux `set`. >>\n",
        "Imprimez les résultats de chaque opération.\n",
        "\n",
        "  5. Créez un `set` de nombres en utilisant `range()`, puis demandez à l’utilisateur d’entrer un nombre. Indiquez à l’utilisateur si son nombre se situe ou non dans la plage de valeurs que vous avez spécifiée.\n",
        "\n",
        ">Bonus: \n",
        ">>Indiquer à l’utilisateur si son nombre était trop élevé ou trop bas."
      ],
      "metadata": {
        "id": "cN_XcFu1dG5V"
      }
    },
    {
      "cell_type": "code",
      "source": [
        "#-------------q1------------\n",
        "premier_set = set()\n",
        "\n",
        "#-------------q2------------\n",
        "#add\n",
        "premier_set.add(\"elem1\")\n",
        "premier_set.add(\"elem2\")\n",
        "premier_set.add(\"elem3\")\n",
        "\n",
        "print(\"Premier set: \", premier_set)\n",
        "\n",
        "\n",
        "#update\n",
        "autre_set = {1,5,9}\n",
        "premier_set.update(autre_set)\n",
        "\n",
        "print(\"Set update: \", premier_set)\n",
        "\n",
        "#-------------q3------------\n",
        "second_set = {'elem1', 1, 5, 9 }\n",
        "print(\"Second set: \", second_set)\n",
        "\n",
        "#-------------q4------------\n",
        "\n",
        "unionR = premier_set.union(second_set)\n",
        "\n",
        "list_premier_set = list(premier_set)\n",
        "list_second_set = list(second_set)\n",
        "\n",
        "intersectionR = premier_set.intersection(second_set)\n",
        " \n",
        "differenceR1 = premier_set-second_set\n",
        "differenceR2 = second_set-premier_set\n",
        "differenceR = differenceR1.union(differenceR2) \n",
        "\n",
        "#ou\n",
        "\n",
        "#differenceR1 = premier_set.difference(second_set)\n",
        "#differenceR2 = second_set.difference(premier_set) \n",
        "#differenceR = differenceR1.union(differenceR2)\n",
        "\n",
        "#ou\n",
        "\n",
        "#differenceR = premier_set.difference(second_set), second_set.difference(premier_set)  #liste ?\n",
        "\n",
        "\n",
        "\n",
        "print(\"Union: \",unionR)\n",
        "print(\"Intersection: \",intersectionR)\n",
        "print(\"Difference: \",differenceR)\n",
        "\n",
        "\n",
        "#-------------q5------------\n",
        "\n",
        "tertio_set = set(range(0,20,3))\n",
        "\n",
        "#x=randint(0,50)\n",
        "#y=randint(0,50), possibilité de faire avec var aléatoire\n",
        "\n",
        "\n",
        "user_input = int(input(\"Entrer votre nombre (entier): \"))\n",
        "estpresent = tertio_set.__contains__(user_input) \n",
        "\n",
        "if estpresent == True :\n",
        "  print(user_input,\" est bien dans le set: \", tertio_set)\n",
        "else :\n",
        "  print(user_input,\" n'est pas dans le set: \", tertio_set)\n",
        "\n",
        "#-------------Bonus------------\n",
        "\n",
        "  tertio_liste = list(tertio_set)\n",
        "\n",
        "  liste_triee = sorted(tertio_liste)\n",
        "\n",
        "  #print(liste_triee)\n",
        "\n",
        "  if user_input > liste_triee[-1]:\n",
        "    print(\"beaucoup moins\")\n",
        "  elif user_input < tertio_liste[0]: \n",
        "    print(\"beaucoup plus\")\n",
        "\n",
        "  else:\n",
        "\n",
        "    for i in range(len(tertio_liste)):\n",
        "        if user_input-tertio_liste[i] > 0  :\n",
        "          #prend le min automatiquement (?)\n",
        "          valminore = tertio_liste[i]\n",
        "          valmajore = tertio_liste[i+1]\n",
        "          val_a_comparer = min(user_input-valminore,valmajore-user_input)\n",
        "        \n",
        "\n",
        "    if user_input-valminore > valmajore-user_input :\n",
        "      print(\"un peu plus, il manque \", val_a_comparer)\n",
        "    elif user_input-valminore < valmajore-user_input :\n",
        "      print(\"un peu moins, \", val_a_comparer ,\" en trop\")\n",
        "  \n",
        "\n",
        "\n",
        "  #print(user_input, valminore, valmajore, val_a_comparer)\n",
        "\n",
        "\n"
      ],
      "metadata": {
        "id": "yzbCm94SwV6g",
        "colab": {
          "base_uri": "https://localhost:8080/"
        },
        "outputId": "7c693682-870b-4a49-db6c-1d06ef2db1d2"
      },
      "execution_count": null,
      "outputs": [
        {
          "output_type": "stream",
          "name": "stdout",
          "text": [
            "Entrer votre nombre (entier): -5\n",
            "-5  n'est pas dans le set:  {0, 3, 6, 9, 12, 15, 18}\n",
            "beaucoup plus\n"
          ]
        }
      ]
    },
    {
      "cell_type": "markdown",
      "source": [
        "## EX03\n",
        "### Revision listes\n",
        "1. Créez une liste de séries (`binge_watch_list`) contenant un seul tuple. Le tuple doit contenir le titre de la série, la plateforme de streaming (légal), le nombre d'épisodes de la série, l'année de sortie et une note /10.\n",
        "\n",
        "2. Créez une fonction (`input_series`) qui receuil des informations sur d'autres séries à l'aide de la fonction native `input`. Et nous retourne un tuple. \\n\n",
        "Tout les champs sont obligatoires.\n",
        "\n",
        "4. Utilisez `f-string` pour imprimer le nom et l’année de sortie de la série qu'on vient d'input.\n",
        "\n",
        "3. Alimenter la liste (`binge_watch_list`) avec le retour de la fonction (`input_series`) \\n\n",
        "Assurez vous que l'ordre des champs soit le même que dans (`binge_watch_list`).\n",
        "\n",
        "\n",
        "5. Afficher le nom et l’année de sortie de toutes les séries dans `binge_watch_list`.\n",
        "\n",
        "> Bonus:\n",
        "\n",
        "6. Supprimez la série la moins bien noté de `binge_watch_list`. Utilisez la méthode de votre choix."
      ],
      "metadata": {
        "id": "SHsrGdy-5AZK"
      }
    },
    {
      "cell_type": "code",
      "source": [
        "# Code here\n",
        "\n",
        "#-------------q1------------\n",
        "binge_watch_list = ((\"Le Prince de Bel Air\",\"Netflix\",\"148\",\"1990\",\"7.4\"),)\n",
        "\n",
        "#-------------q2------------\n",
        "\n",
        "def input_series():\n",
        "  global serie_tuple, name_input, year_input #réutilise en dehors de la fonction\n",
        "  print(\"Veuillez remplir les champs ci-dessous concernant la série: \")\n",
        "\n",
        "  name_input = input(\"Nom: \")\n",
        "  while (name_input == ''):\n",
        "    name_input=input(\"Nom: \")\n",
        "    \n",
        "  plateform_input = input(\"Plateforme: \")\n",
        "  while plateform_input == \"\":\n",
        "    plateform_input=input(\"Entrez une donnée: \")\n",
        "\n",
        "  episode_input = int(input(\"Nombre d'épisode: \"))\n",
        "  while episode_input == \"\":\n",
        "    episode_input=input(\"Entrez une donnée: \")\n",
        "\n",
        "  year_input = (input(\"Année de sortie: \"))\n",
        "  while episode_input == \"\":\n",
        "    year_input=input(\"Entrez une donnée: \")\n",
        "\n",
        "  grade_input = int(input(\"Note (sur 10): \"))\n",
        "  while grade_input == \"\":\n",
        "    grade_input=input(\"Entrez une donnée: \")\n",
        "\n",
        "\n",
        "  serie_tuple = (name_input,plateform_input,episode_input,year_input,grade_input)\n",
        "  return serie_tuple\n",
        "\n",
        "input_series()\n",
        "print(serie_tuple)\n",
        "#-------------q3------------\n",
        "\n",
        "print(f\"Le nom de la série est: {name_input}, sortie en {year_input}\")\n",
        "\n",
        "#-------------q4------------\n",
        "\n",
        "binge_watch_list_non_tuple = list(binge_watch_list)\n",
        "#print(binge_watch_list_non_tuple)\n",
        "\n",
        "binge_watch_list_non_tuple.insert(len(binge_watch_list_non_tuple),serie_tuple)\n",
        "#print(binge_watch_list_non_tuple)\n",
        "\n",
        "binge_watch_list_new = tuple(binge_watch_list_non_tuple)\n",
        "print(\"Nouvelle liste de tuple\",binge_watch_list_new)\n",
        "\n",
        "\n",
        "#-------------q5------------\n",
        "\n",
        "for i in t:\n",
        "  for j in range(4):\n",
        "    name_input\n",
        "    year_input\n",
        "print(f\"Le nom de la série est: {name_input}, sortie en {name_input}\")\n",
        "\n",
        "#global bwl\n",
        "#bwl =  binge_watch_list_new\n"
      ],
      "metadata": {
        "id": "jIatRWhm5Xzo",
        "colab": {
          "base_uri": "https://localhost:8080/"
        },
        "outputId": "4c9093d3-abcb-4a54-94de-97942d14515e"
      },
      "execution_count": null,
      "outputs": [
        {
          "output_type": "stream",
          "name": "stdout",
          "text": [
            "Veuillez remplir les champs ci-dessous concernant la série: \n",
            "Nom: a\n",
            "Plateforme: b\n",
            "Nombre d'épisode: 1\n",
            "Année de sortie: 2\n",
            "Note (sur 10): 3\n",
            "('a', 'b', 1, '2', 3)\n",
            "Le nom de la série est: a, sortie en 2\n",
            "Nouvelle liste de tuple (('Le Prince de Bel Air', 'Netflix', '148', '1990', '7.4'), ('a', 'b', 1, '2', 3))\n",
            "Le nom de la série est: a, sortie en a\n"
          ]
        }
      ]
    },
    {
      "cell_type": "markdown",
      "source": [
        "Transformer le code ci-dessous de liste a dictionnaire"
      ],
      "metadata": {
        "id": "-Zrebyjbxb89"
      }
    },
    {
      "cell_type": "code",
      "source": [
        "#Liste des typles binge_watch_list_new\n",
        "#binge_watch_list = ((\"Le Prince de Bel Air\",\"Netflix\",\"148\",\"1990\",\"7.4\"),)\n",
        "# conversion\n",
        "#binge_watch_list_dict = dict(bwl)\n",
        "\n",
        "# printing the result dict\n",
        "#print(binge_watch_list_dict)"
      ],
      "metadata": {
        "id": "wqwmWD1HxfKF"
      },
      "execution_count": null,
      "outputs": []
    },
    {
      "cell_type": "markdown",
      "source": [
        "## EX04\n",
        "### Révision strings / fonctions\n",
        "Implementer deux fonctions `input_password()` & `password_check(x)` qui :\n",
        "\n",
        "1. `input_password()` fait:\n",
        "    * Demande à l'utilisateur un mot de passe d'au moins 8 caractères, 12 c'est mieux.\n",
        "    * retourne ce dernier\n",
        "\n",
        "2. `password_check(x)` verifie:\n",
        "\n",
        "    * print `mot de passe trop court!` **avec une majuscule sur la première lettre** si la longueur du mot de passe entré est `plus petite que 8`.\n",
        "\n",
        "    * Verifier que le mot de passe soit une combinaison de `lettres majuscules, de lettres minuscules, de chiffres et de symboles.` \n",
        "    > Si le mot de passe manque de répondre à une condition, l'afficher à l'utilisateur\n",
        "\n",
        "    *  Afficher la phrase `\"Mot de passe valide.\"` si le mot de passe répond à **toutes les conditions**.\n",
        "\n",
        "> bonus \n",
        "\n",
        "* Verifier qu'un même mot de passe ne peut pas etre saisie deux fois, ex. utiliser une variable `previous_password`"
      ],
      "metadata": {
        "id": "W3BGjEYaf2UQ"
      }
    },
    {
      "cell_type": "code",
      "source": [
        "import getpass #ne fonctionne pas\n",
        "#-------------q1------------\n",
        "\n",
        "def input_password():\n",
        "  global p\n",
        "  p = input(\"Entrez un mot de passe d'au moins 8 caractères (12 c'est mieux): \")\n",
        "  return 'Votre mot de passe est: '+ p\n",
        "\n",
        "input_password()\n",
        "\n",
        "#-------------q2------------\n",
        "def password_check(x) :\n",
        "\n",
        "  global nb_nb\n",
        "  global nb_min\n",
        "  global nb_maj\n",
        "  \n",
        "  for lettre in p :\n",
        "    if lettre.isdigit == True:\n",
        "      nb_nb += 1\n",
        "    elif lettre.upper() != lettre:\n",
        "      nb_min += 1\n",
        "    elif lettre.lower() != lettre:\n",
        "      nb_maj += 1\n",
        "\n",
        "  if len(p) < 8:\n",
        "    print(\"Mot de passe trop court\")\n",
        "    input_password()\n",
        "\n",
        "  elif nb_nb == 0 :\n",
        "    print(\"Votre mot de passe ne comporte pas de chiffre !\")\n",
        "    input_password()\n",
        "\n",
        "  elif  nb_min ==0 :\n",
        "    print(\"Votre mot de passe ne comporte pas de minuscule !\")\n",
        "    input_password()\n",
        "\n",
        "  elif nb_maj ==0 :\n",
        "     print(\"Votre mot de passe ne comporte pas de majuscule !\")\n",
        "     input_password()\n",
        "\n",
        "  else :\n",
        "    print(\"Votre mot de passe est valide !\")\n",
        "\n",
        "password_check(p)\n"
      ],
      "metadata": {
        "id": "FS2OxAtBf1tB"
      },
      "execution_count": null,
      "outputs": []
    },
    {
      "cell_type": "markdown",
      "source": [
        "## EX05\n",
        "### To do list\n",
        "1. Créez une fonction (`to_do_list()`) qui demande à l'utilisateur de choisir parmis 5 options\n",
        "    1. Ajouter un élément à la to do list\n",
        "    2. Retirer un élément de la to do list\n",
        "    3. Afficher les éléments de la to do list\n",
        "    4. Vider la to do list\n",
        "    5. Quitter le programme\n",
        "2. L'utilisateur doit entrer un nombre (entre 1 et 5) pour choisir l'option souhaité \n",
        "    * Vous devez verifier que l'input est un nombre\n",
        "    * Vous devez verifier que l'input est entre 1 et 5\n",
        "\n",
        "3. Implementez chancune des options de la fonction 😃\n",
        "\n",
        "3. Exemple de run du code ci dessous 👇"
      ],
      "metadata": {
        "id": "nu6wbxZnc2vL"
      }
    },
    {
      "cell_type": "code",
      "source": [
        "def to_do_list():\n",
        "  print(\"Entrez un nombre pour choisir parmis les options: \"\n",
        "    \"\\n 1. Ajouter un élément à la to do list \"\n",
        "     \"\\n 2. Retirer un élément de la to do list \"\n",
        "    \t\"\\n 3. Afficher les éléments de la to do list \"\n",
        "    \t \"\\n 4. Vider la to do list \"\n",
        "      \t\"\\n 5. Quitter le programme \")\n",
        "  \n",
        "  user_input = input()\n",
        "\n",
        "  if user_input.isdigit() == False:\n",
        "    print(\"Veuillez entrer une donnée valide: \")\n",
        "    user_input = int(input())\n",
        "\n",
        "  \"\"\"\n",
        "  else: \n",
        "    if user_input== 1:\n",
        "      #code\n",
        "    elif user_input== 2:\n",
        "      #code\n",
        "    elif user_input== 3:\n",
        "      #code\n",
        "    elif user_input== 4:\n",
        "      #code\n",
        "    else :\n",
        "      #code\n",
        "    \"\"\"\n",
        "\n",
        "\n",
        "to_do_list()"
      ],
      "metadata": {
        "id": "FqgwJj-2USlc",
        "colab": {
          "base_uri": "https://localhost:8080/",
          "height": 484
        },
        "outputId": "2c4db3cf-7a80-4027-b0e4-e1645cad7172"
      },
      "execution_count": null,
      "outputs": [
        {
          "output_type": "stream",
          "name": "stdout",
          "text": [
            "Entrez un nombre pour choisir parmis les options: \n",
            " 1. Ajouter un élément à la to do list \n",
            " 2. Retirer un élément de la to do list \n",
            " 3. Afficher les éléments de la to do list \n",
            " 4. Vider la to do list \n",
            " 5. Quitter le programme \n",
            "a\n",
            "Veuillez entrer une donnée valide: \n"
          ]
        },
        {
          "output_type": "error",
          "ename": "KeyboardInterrupt",
          "evalue": "ignored",
          "traceback": [
            "\u001b[0;31m---------------------------------------------------------------------------\u001b[0m",
            "\u001b[0;31mKeyboardInterrupt\u001b[0m                         Traceback (most recent call last)",
            "\u001b[0;32m<ipython-input-44-1a7c7411e619>\u001b[0m in \u001b[0;36m<module>\u001b[0;34m\u001b[0m\n\u001b[1;32m     14\u001b[0m \u001b[0;34m\u001b[0m\u001b[0m\n\u001b[1;32m     15\u001b[0m \u001b[0;34m\u001b[0m\u001b[0m\n\u001b[0;32m---> 16\u001b[0;31m \u001b[0mto_do_list\u001b[0m\u001b[0;34m(\u001b[0m\u001b[0;34m)\u001b[0m\u001b[0;34m\u001b[0m\u001b[0;34m\u001b[0m\u001b[0m\n\u001b[0m",
            "\u001b[0;32m<ipython-input-44-1a7c7411e619>\u001b[0m in \u001b[0;36mto_do_list\u001b[0;34m()\u001b[0m\n\u001b[1;32m     11\u001b[0m   \u001b[0;32mif\u001b[0m \u001b[0muser_input\u001b[0m\u001b[0;34m.\u001b[0m\u001b[0misdigit\u001b[0m\u001b[0;34m(\u001b[0m\u001b[0;34m)\u001b[0m \u001b[0;34m==\u001b[0m \u001b[0;32mFalse\u001b[0m\u001b[0;34m:\u001b[0m\u001b[0;34m\u001b[0m\u001b[0;34m\u001b[0m\u001b[0m\n\u001b[1;32m     12\u001b[0m     \u001b[0mprint\u001b[0m\u001b[0;34m(\u001b[0m\u001b[0;34m\"Veuillez entrer une donnée valide: \"\u001b[0m\u001b[0;34m)\u001b[0m\u001b[0;34m\u001b[0m\u001b[0;34m\u001b[0m\u001b[0m\n\u001b[0;32m---> 13\u001b[0;31m     \u001b[0muser_input\u001b[0m \u001b[0;34m=\u001b[0m \u001b[0mint\u001b[0m\u001b[0;34m(\u001b[0m\u001b[0minput\u001b[0m\u001b[0;34m(\u001b[0m\u001b[0;34m)\u001b[0m\u001b[0;34m)\u001b[0m\u001b[0;34m\u001b[0m\u001b[0;34m\u001b[0m\u001b[0m\n\u001b[0m\u001b[1;32m     14\u001b[0m \u001b[0;34m\u001b[0m\u001b[0m\n\u001b[1;32m     15\u001b[0m \u001b[0;34m\u001b[0m\u001b[0m\n",
            "\u001b[0;32m/usr/local/lib/python3.7/dist-packages/ipykernel/kernelbase.py\u001b[0m in \u001b[0;36mraw_input\u001b[0;34m(self, prompt)\u001b[0m\n\u001b[1;32m    861\u001b[0m             \u001b[0mself\u001b[0m\u001b[0;34m.\u001b[0m\u001b[0m_parent_ident\u001b[0m\u001b[0;34m,\u001b[0m\u001b[0;34m\u001b[0m\u001b[0;34m\u001b[0m\u001b[0m\n\u001b[1;32m    862\u001b[0m             \u001b[0mself\u001b[0m\u001b[0;34m.\u001b[0m\u001b[0m_parent_header\u001b[0m\u001b[0;34m,\u001b[0m\u001b[0;34m\u001b[0m\u001b[0;34m\u001b[0m\u001b[0m\n\u001b[0;32m--> 863\u001b[0;31m             \u001b[0mpassword\u001b[0m\u001b[0;34m=\u001b[0m\u001b[0;32mFalse\u001b[0m\u001b[0;34m,\u001b[0m\u001b[0;34m\u001b[0m\u001b[0;34m\u001b[0m\u001b[0m\n\u001b[0m\u001b[1;32m    864\u001b[0m         )\n\u001b[1;32m    865\u001b[0m \u001b[0;34m\u001b[0m\u001b[0m\n",
            "\u001b[0;32m/usr/local/lib/python3.7/dist-packages/ipykernel/kernelbase.py\u001b[0m in \u001b[0;36m_input_request\u001b[0;34m(self, prompt, ident, parent, password)\u001b[0m\n\u001b[1;32m    902\u001b[0m             \u001b[0;32mexcept\u001b[0m \u001b[0mKeyboardInterrupt\u001b[0m\u001b[0;34m:\u001b[0m\u001b[0;34m\u001b[0m\u001b[0;34m\u001b[0m\u001b[0m\n\u001b[1;32m    903\u001b[0m                 \u001b[0;31m# re-raise KeyboardInterrupt, to truncate traceback\u001b[0m\u001b[0;34m\u001b[0m\u001b[0;34m\u001b[0m\u001b[0;34m\u001b[0m\u001b[0m\n\u001b[0;32m--> 904\u001b[0;31m                 \u001b[0;32mraise\u001b[0m \u001b[0mKeyboardInterrupt\u001b[0m\u001b[0;34m(\u001b[0m\u001b[0;34m\"Interrupted by user\"\u001b[0m\u001b[0;34m)\u001b[0m \u001b[0;32mfrom\u001b[0m \u001b[0;32mNone\u001b[0m\u001b[0;34m\u001b[0m\u001b[0;34m\u001b[0m\u001b[0m\n\u001b[0m\u001b[1;32m    905\u001b[0m             \u001b[0;32mexcept\u001b[0m \u001b[0mException\u001b[0m \u001b[0;32mas\u001b[0m \u001b[0me\u001b[0m\u001b[0;34m:\u001b[0m\u001b[0;34m\u001b[0m\u001b[0;34m\u001b[0m\u001b[0m\n\u001b[1;32m    906\u001b[0m                 \u001b[0mself\u001b[0m\u001b[0;34m.\u001b[0m\u001b[0mlog\u001b[0m\u001b[0;34m.\u001b[0m\u001b[0mwarning\u001b[0m\u001b[0;34m(\u001b[0m\u001b[0;34m\"Invalid Message:\"\u001b[0m\u001b[0;34m,\u001b[0m \u001b[0mexc_info\u001b[0m\u001b[0;34m=\u001b[0m\u001b[0;32mTrue\u001b[0m\u001b[0;34m)\u001b[0m\u001b[0;34m\u001b[0m\u001b[0;34m\u001b[0m\u001b[0m\n",
            "\u001b[0;31mKeyboardInterrupt\u001b[0m: Interrupted by user"
          ]
        }
      ]
    },
    {
      "cell_type": "code",
      "source": [
        "##"
      ],
      "metadata": {
        "id": "ixKJ8w3Wvmuq"
      },
      "execution_count": null,
      "outputs": []
    },
    {
      "cell_type": "markdown",
      "source": [
        "# Bonus (Mandatory)\n",
        "\n",
        "\n"
      ],
      "metadata": {
        "id": "XdJvMT9xVoRS"
      }
    },
    {
      "cell_type": "markdown",
      "source": [
        "## Github\n",
        "Pour soumettre votre travail: \n",
        "\n",
        "1.   Commit changes to a branch and push to [github](https://google.com)\n",
        "2.   Create pull request / merge request\n"
      ],
      "metadata": {
        "id": "94-12vgPXG10"
      }
    }
  ]
}