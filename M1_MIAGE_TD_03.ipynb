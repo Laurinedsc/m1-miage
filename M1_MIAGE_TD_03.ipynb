{
 "cells": [
  {
   "cell_type": "markdown",
   "metadata": {
    "colab_type": "text",
    "id": "view-in-github"
   },
   "source": [
    "<a href=\"https://colab.research.google.com/github/lapointe05/m1-miage/blob/main/M1_MIAGE_TD_03.ipynb\" target=\"_parent\"><img src=\"https://colab.research.google.com/assets/colab-badge.svg\" alt=\"Open In Colab\"/></a>"
   ]
  },
  {
   "cell_type": "markdown",
   "metadata": {
    "id": "597Hu82gSNCZ"
   },
   "source": [
    "<img src=\"https://upload.wikimedia.org/wikipedia/fr/0/0b/Polytech_Lyon_logo.png\" alt=\"drawing\" height=\"200\"/>\n",
    "\n",
    "# Algorithmique Avancée & Programmation en Python\n",
    "---\n",
    "\n"
   ]
  },
  {
   "cell_type": "markdown",
   "metadata": {
    "id": "EA-XK862WiMt"
   },
   "source": [
    "# TD 03\n",
    "\n",
    "Intro aux traitement de données\n",
    "\n",
    "```python\n",
    "print(\"Hello, friend! It's been a while...\")\n",
    "```\n",
    " \n",
    "Elements à consulter:\n",
    "\n",
    "\n",
    "Doc                                   |             Link\n",
    "--------------------------------------|------------------------------------\n",
    "Python en 30 jours | [>link<](https://moncoachdata.com/courses/apprendre-python-en-30-jours/)\n",
    "Get started with pandas | [>link<](https://colab.research.google.com/notebooks/snippets/pandas.ipynb)"
   ]
  },
  {
   "cell_type": "markdown",
   "metadata": {
    "id": "Y1g4EgT41MqJ"
   },
   "source": [
    "## Intro\n",
    "\n",
    "Le premier bloc devrait toujours contenir les installs/imports dont on aura besoin pour le reste"
   ]
  },
  {
   "cell_type": "code",
   "execution_count": 1,
   "metadata": {
    "colab": {
     "base_uri": "https://localhost:8080/"
    },
    "id": "yjiE8c51VoT0",
    "outputId": "88029a55-7ea9-4945-f975-2bdea0d2be95"
   },
   "outputs": [],
   "source": [
    "# Installs\n",
    "!pip install emoji --quiet"
   ]
  },
  {
   "cell_type": "code",
   "execution_count": 5,
   "metadata": {
    "colab": {
     "base_uri": "https://localhost:8080/"
    },
    "id": "JhT-50uwz72F",
    "outputId": "3e6b6a89-5efe-4122-9274-710c2d526432"
   },
   "outputs": [
    {
     "name": "stdout",
     "output_type": "stream",
     "text": [
      "Python is awesome 👍\n"
     ]
    }
   ],
   "source": [
    "# Imports\n",
    "import os\n",
    "import json\n",
    "from random import randint\n",
    "# import pandas as pd\n",
    "# import numpy as np\n",
    "from getpass import getpass\n",
    "import emoji\n",
    "\n",
    "print(emoji.emojize('Python is awesome :thumbs_up:'))"
   ]
  },
  {
   "cell_type": "markdown",
   "metadata": {
    "id": "5jpD7nr9NrKR"
   },
   "source": [
    "##EX01\n",
    "### Révision boucles / compréhension de listes\n",
    "\n",
    "Avec l'usage de la boucle `for`, répondez aux questions ci-dessous\n",
    "\n",
    "\n",
    "> PS: Code pris et modifié à partir d'exo sur github"
   ]
  },
  {
   "cell_type": "code",
   "execution_count": 7,
   "metadata": {
    "id": "8p4JXCtEyQBX"
   },
   "outputs": [
    {
     "name": "stdout",
     "output_type": "stream",
     "text": [
      "[44, 4, 38]\n",
      "[1, 2, 3, 4, 5, 6, 7, 8, 9]\n",
      "[0, 2, 4, 6, 8]\n"
     ]
    }
   ],
   "source": [
    "##############################################################\n",
    "nombres = [1, 21, 5, 44, 4, 9, 5, 83, 29, 31, 25, 38]\n",
    "nombres_pairs = []\n",
    "for i in nombres :\n",
    "    if i%2==0 :\n",
    "        nombres_pairs.append(i)\n",
    "print(nombres_pairs)\n",
    "\n",
    "##############################################################\n",
    "\n",
    "nombres = range(-10, 10)\n",
    "nombres_positifs = []\n",
    "for i in nombres :\n",
    "    if i > 0 :\n",
    "        nombres_positifs.append(i)\n",
    "print(nombres_positifs)\n",
    "\n",
    "##############################################################\n",
    "\n",
    "nombres = range(5)\n",
    "nombres_x2 = []\n",
    "for i in nombres :\n",
    "    nombres_x2.append(i*2)\n",
    "print(nombres_x2)"
   ]
  },
  {
   "cell_type": "markdown",
   "metadata": {
    "id": "BQBEhammPFtE"
   },
   "source": [
    "### PART 2\n",
    "Changez le code ci-dessus, et remplacez les blocs `for` par des [compréhensions de listes](https://duckduckgo.com/?q=list+comprehension+python)"
   ]
  },
  {
   "cell_type": "code",
   "execution_count": 8,
   "metadata": {
    "id": "zlMvZFGcPEAG"
   },
   "outputs": [
    {
     "name": "stdout",
     "output_type": "stream",
     "text": [
      "[44, 4, 38]\n",
      "[1, 2, 3, 4, 5, 6, 7, 8, 9]\n",
      "[0, 2, 4, 6, 8]\n"
     ]
    }
   ],
   "source": [
    "##############################################################\n",
    "nombres = [1, 21, 5, 44, 4, 9, 5, 83, 29, 31, 25, 38]\n",
    "nombres_pairs = [i for i in nombres if i%2==0]\n",
    "\n",
    "print(nombres_pairs)\n",
    "\n",
    "##############################################################\n",
    "\n",
    "nombres = range(-10, 10)\n",
    "nombres_positifs = [i for i in nombres if i>0]\n",
    "\n",
    "print(nombres_positifs)\n",
    "\n",
    "##############################################################\n",
    "\n",
    "nombres = range(5)\n",
    "nombres_x2 = [i*2 for i in nombres] \n",
    "print(nombres_x2)"
   ]
  },
  {
   "cell_type": "markdown",
   "metadata": {
    "id": "cN_XcFu1dG5V"
   },
   "source": [
    "##EX02\n",
    "### Les sets\n",
    "\n",
    "  1. Créez un `set` vide et attribuez-le à une variable.\n",
    "  2. Ajoutez trois éléments à votre ensemble vide en utilisant soit plusieurs appels `add`, soit un seul appel de `update`.\n",
    "\n",
    "  3. Créez un deuxième `set` qui comprend au moins un élément commun avec le premier ensemble.\n",
    "\n",
    "  4. Trouvez l’union, la différence et l’intersection des deux `set`. >>\n",
    "Imprimez les résultats de chaque opération.\n",
    "\n",
    "  5. Créez une `set` de nombres en utilisant `range()`, puis demandez à l’utilisateur d’entrer un nombre. Indiquez à l’utilisateur si son nombre se situe ou non dans la plage de valeurs que vous avez spécifiée.\n",
    "\n",
    ">Bonus: \n",
    ">>Indiquer à l’utilisateur si son nombre était trop élevé ou trop bas."
   ]
  },
  {
   "cell_type": "code",
   "execution_count": 3,
   "metadata": {
    "id": "yzbCm94SwV6g"
   },
   "outputs": [
    {
     "name": "stdout",
     "output_type": "stream",
     "text": [
      "{'C', 'D', 'E', 'A', 'B'}\n",
      "La union, s1 et s2 {'F', 'C', 'D', 'E', 'A', 'B'}\n",
      "La différence, s1-s2 =  {'C', 'A'}\n",
      "L'intersection, s1 & s2 =  {'E', 'B', 'D'}\n",
      "Saisissez un nombre : 20\n",
      "Un nombre saisie est dans le set? : True\n"
     ]
    }
   ],
   "source": [
    "# Code here\n",
    "s1 = set() #créer un set vide\n",
    "s1.add(\"A\")\n",
    "s1.update([\"B\",\"C\",\"D\",\"E\"])\n",
    "print(s1)\n",
    "s2 = {\"B\",\"D\",\"E\",\"F\"}\n",
    "print(\"La union, s1 et s2\", s1.union(s2))\n",
    "print(\"La différence, s1-s2 = \",s1-s2)\n",
    "print(\"L'intersection, s1 & s2 = \", s1&s2)\n",
    "\n",
    "def saisirNombre(s,nMin,nMax) :\n",
    "    n = int(input(\"Saisissez un nombre : \"))\n",
    "    #si un utilisateur saisit nMax < nMin \n",
    "    if nMax < nMin :\n",
    "        temp = nMax\n",
    "        nMax = nMin\n",
    "        nMin = temp\n",
    "        \n",
    "    while True :\n",
    "        if n < nMin :\n",
    "            print(\"Le nombre est trop bas!\")\n",
    "        elif n > nMax :\n",
    "            print(\"Le nombre est trop élevé!\")\n",
    "        else :\n",
    "            break\n",
    "        n = int(input(\"Saisissez un nombre : \"))\n",
    "        \n",
    "    for i in s :\n",
    "        if n == i :\n",
    "            return True\n",
    "    return False\n",
    "\n",
    "s = set(range(0,21))\n",
    "#print(\"Set s =\",s)\n",
    "print(f\"Un nombre saisie est dans le set? : {saisirNombre(s,0,20)}\")\n",
    "    "
   ]
  },
  {
   "cell_type": "markdown",
   "metadata": {
    "id": "SHsrGdy-5AZK"
   },
   "source": [
    "## EX03\n",
    "### Revision listes\n",
    "1. Créez une liste de séries (`binge_watch_list`) contenant un seul tuple. Le tuple doit contenir le titre de la série, la plateforme de streaming (légal), le nombre d'épisodes de la série, l'année de sortie et une note /10.\n",
    "\n",
    "2. Créez une fonction (`input_series`) qui receuil des informations sur d'autres séries à l'aide de la fonction native `input`. Et nous retourne un tuple. \\n\n",
    "Tout les champs sont obligatoires.\n",
    "\n",
    "4. Utilisez `f-string` pour imprimer le nom et l’année de sortie de la série qu'on vient d'input.\n",
    "\n",
    "3. Alimenter la liste (`binge_watch_list`) avec le retour de la fonction (`input_series`) \\n\n",
    "Assurez vous que l'ordre des champs soit le même que dans (`binge_watch_list`).\n",
    "\n",
    "\n",
    "5. Afficher le nom et l’année de sortie de toutes les séries dans `binge_watch_list`.\n",
    "\n",
    "> Bonus:\n",
    "\n",
    "6. Supprimez la série la moins bien noté de `binge_watch_list`. Utilisez la méthode de votre choix."
   ]
  },
  {
   "cell_type": "code",
   "execution_count": 2,
   "metadata": {
    "id": "jIatRWhm5Xzo"
   },
   "outputs": [
    {
     "name": "stdout",
     "output_type": "stream",
     "text": [
      "Saisissez un titre de series : Superstore\n",
      "Saisissez une plateforme de streaming : Netflix\n",
      "Saisissez un nombre d'épisodes de la série : 113\n",
      "Saisissez l'année de sortie : 2015\n",
      "Saisissez une note de la série : 7.8\n",
      "Vous saisissez la série : \n",
      "Titre : Superstore \n",
      "Année : 2015\n",
      "Après ajouter une série.\n",
      "Emily in Paris ,  2021\n",
      "Superstore ,  2015\n",
      "Après supprimer la série avec la note la moins bien.\n",
      "Superstore ,  2015\n"
     ]
    }
   ],
   "source": [
    "# Code here\n",
    "binge_watch_list = [(\"Emily in Paris\",\"Netflix\",10,2021,6.9)]\n",
    "#fonction input_series\n",
    "def input_series() :\n",
    "    while True :\n",
    "        titre = input(\"Saisissez un titre de series : \").strip()\n",
    "        plateforme = input(\"Saisissez une plateforme de streaming : \").strip()\n",
    "        nbEp = int(input(\"Saisissez un nombre d'épisodes de la série : \"))\n",
    "        annee = int(input(\"Saisissez l'année de sortie : \"))\n",
    "        note = float(input(\"Saisissez une note de la série : \"))\n",
    "        if titre and plateforme and nbEp and annee and note :\n",
    "            break\n",
    "    print(f\"Vous saisissez la série : \\nTitre : {titre} \\nAnnée : {annee}\")\n",
    "    return (titre,plateforme,nbEp,annee,note)\n",
    "\n",
    "def affiche_series(series) :\n",
    "    for s in series :\n",
    "        print(s[0],\", \",s[3])\n",
    "\n",
    "def sort_note(tup) :\n",
    "    #retourner la dernier élément dans une tuple, une note d'une série\n",
    "    return tup[-1]\n",
    "\n",
    "def supprimer_serie_note_la_moins_bien(lst):\n",
    "    lst_sort = sorted(lst,key=sort_note)\n",
    "    serie_a_retirer = lst_sort[0]\n",
    "    lst.remove(serie_a_retirer)\n",
    "\n",
    "serie_ajoute = input_series()\n",
    "binge_watch_list.append(serie_ajoute)\n",
    "print(\"Après ajouter une série.\")\n",
    "affiche_series(binge_watch_list)\n",
    "supprimer_serie_note_la_moins_bien(binge_watch_list)\n",
    "print(\"Après supprimer la série avec la note la moins bien.\")\n",
    "affiche_series(binge_watch_list)\n"
   ]
  },
  {
   "cell_type": "markdown",
   "metadata": {
    "id": "-Zrebyjbxb89"
   },
   "source": [
    "Transformer le code ci-dessous de liste a dictionnaire"
   ]
  },
  {
   "cell_type": "code",
   "execution_count": 3,
   "metadata": {
    "id": "wqwmWD1HxfKF"
   },
   "outputs": [
    {
     "name": "stdout",
     "output_type": "stream",
     "text": [
      "{0: ('Superstore', 'Netflix', 113, 2015, 7.8)}\n"
     ]
    }
   ],
   "source": [
    "binge_watch_dict = {}\n",
    "for i,tup in enumerate(binge_watch_list) :\n",
    "    binge_watch_dict[i] = tup \n",
    "print(binge_watch_dict)"
   ]
  },
  {
   "cell_type": "markdown",
   "metadata": {
    "id": "W3BGjEYaf2UQ"
   },
   "source": [
    "## EX04\n",
    "### Révision strings / fonctions\n",
    "Implementer deux fonctions `input_password()` & `password_check(x)` qui :\n",
    "\n",
    "1. `input_password()` fait:\n",
    "    * Demande à l'utilisateur un mot de passe d'au moins 8 caractères, 12 c'est mieux.\n",
    "    * retourne ce dernier\n",
    "\n",
    "2. `password_check(x)` verifie:\n",
    "\n",
    "    * print `mot de passe trop court!` **avec une majuscule sur la première lettre** si la longueur du mot de passe entré est `plus petite que 8`.\n",
    "\n",
    "    * Verifier que le mot de passe soit une combinaison de `lettres majuscules, de lettres minuscules, de chiffres et de symboles.` \n",
    "    > Si le mot de passe manque de répondre à une condition, l'afficher à l'utilisateur\n",
    "\n",
    "    *  Afficher la phrase `\"Mot de passe valide.\"` si le mot de passe répond à **toutes les conditions**.\n",
    "\n",
    "> bonus \n",
    "\n",
    "* Verifier qu'un même mot de passe ne peut pas etre saisie deux fois, ex. utiliser une variable `previous_password`"
   ]
  },
  {
   "cell_type": "code",
   "execution_count": 11,
   "metadata": {
    "colab": {
     "base_uri": "https://localhost:8080/",
     "height": 53
    },
    "id": "FS2OxAtBf1tB",
    "outputId": "c29ca3c4-258f-4a5f-9496-ef14df6508aa"
   },
   "outputs": [
    {
     "name": "stdout",
     "output_type": "stream",
     "text": [
      "Saisissez au moins 8 caratères (nous vous conseillons au moins 12 caratères): ········\n",
      "Mot de passe trop court!\n",
      "Il faut au moins une lettres majuscule.\n",
      "Il faut au moins un chiffre.\n",
      "Il faut au moins une caratère non alphanumérique (un symbole)\n",
      "Saisissez au moins 8 caratères (nous vous conseillons au moins 12 caratères): ········\n",
      "Mot de passe trop court!\n",
      "Il faut au moins un chiffre.\n",
      "Il faut au moins une caratère non alphanumérique (un symbole)\n",
      "Saisissez au moins 8 caratères (nous vous conseillons au moins 12 caratères): ········\n",
      "Il faut au moins une caratère non alphanumérique (un symbole)\n",
      "Saisissez au moins 8 caratères (nous vous conseillons au moins 12 caratères): ········\n",
      "Mot de passe valide.\n",
      "Saisissez au moins 8 caratères (nous vous conseillons au moins 12 caratères): ········\n",
      "Un nouveau mot de passe doit être différent du mot de passe précédent.\n",
      "Saisissez au moins 8 caratères (nous vous conseillons au moins 12 caratères): ········\n",
      "Mot de passe valide.\n"
     ]
    }
   ],
   "source": [
    "# Start from this\n",
    "import re\n",
    "# import Régulière expression \n",
    "\n",
    "def input_password() :\n",
    "    p = getpass(\"Saisissez au moins 8 caratères (nous vous conseillons au moins 12 caratères): \")\n",
    "    return p\n",
    "        \n",
    "def password_check(x) :\n",
    "    global previous_password\n",
    "    while True :\n",
    "        nb_caratere = len(x)\n",
    "        match_lettres_majuscules = re.search(\"[A-Z]\",x)\n",
    "        match_lettres_minuscules = re.search(\"[a-z]\",x)\n",
    "        #match des chiffres au moins 1\n",
    "        match_chiffres = re.search(\"\\d+\",x)\n",
    "        #match des caractères non alphanumérique\n",
    "        match_symboles = re.search(\"\\W\",x)\n",
    "        #if match return match objet sinon None\n",
    "        if nb_caratere >= 8 and match_lettres_majuscules and match_lettres_minuscules and match_chiffres and match_symboles :\n",
    "            if  x != previous_password :\n",
    "                print(\"Mot de passe valide.\")\n",
    "                previous_password = x\n",
    "                break\n",
    "            else: \n",
    "                print(\"Un nouveau mot de passe doit être différent du mot de passe précédent.\")\n",
    "                x = input_password()\n",
    "                continue\n",
    "        if nb_caratere < 8 :\n",
    "            print(\"mot de passe trop court!\".capitalize())    \n",
    "        if match_lettres_majuscules == None :\n",
    "            print(\"Il faut au moins une lettres majuscule.\")\n",
    "        if match_lettres_minuscules == None :\n",
    "            print(\"Il faut au moins une lettre minuscule.\")\n",
    "        if match_chiffres == None :\n",
    "            print(\"Il faut au moins un chiffre.\")\n",
    "        if match_symboles == None :\n",
    "            print(\"Il faut au moins une caratère non alphanumérique (un symbole)\")\n",
    "        x = input_password()\n",
    "\n",
    "previous_password =\"\"\n",
    "p = input_password()\n",
    "password_check(p)\n",
    "#recheck si on peut saisir le même mot de passe ou non\n",
    "p = input_password()\n",
    "password_check(p)\n"
   ]
  },
  {
   "cell_type": "markdown",
   "metadata": {
    "id": "nu6wbxZnc2vL"
   },
   "source": [
    "## EX05\n",
    "### To do list\n",
    "1. Créez une fonction (`to_do_list()`) qui demande à l'utilisateur de choisir parmis 5 options\n",
    "    1. Ajouter un élément à la to do list\n",
    "    2. Retirer un élément de la to do list\n",
    "    3. Afficher les éléments de la to do list\n",
    "    4. Vider la to do list\n",
    "    5. Quitter le programme\n",
    "2. L'utilisateur doit entrer un nombre (entre 1 et 5) pour choisir l'option souhaité \n",
    "    * Vous devez verifier que l'input est un nombre\n",
    "    * Vous devez verifier que l'input est entre 1 et 5\n",
    "\n",
    "3. Implementez chancune des options de la fonction 😃\n",
    "\n",
    "3. Exemple de run du code ci dessous 👇"
   ]
  },
  {
   "cell_type": "code",
   "execution_count": null,
   "metadata": {
    "colab": {
     "base_uri": "https://localhost:8080/"
    },
    "id": "FqgwJj-2USlc",
    "outputId": "8161f044-f38d-449c-c745-51350373eb8c"
   },
   "outputs": [
    {
     "name": "stdout",
     "output_type": "stream",
     "text": [
      "\n",
      "  Entrer un nombre pour choisir parmis les options: \n",
      "\n",
      "  \t 1. Ajouter un élément à la to do list \n",
      "\n",
      "  \t 2. Retirer un élément de la to do list \n",
      "\n",
      "  \t 3. Afficher les éléments de la to do list \n",
      "\n",
      "  \t 4. Vider la to do list \n",
      "\n",
      "  \t 5. Quitter le programme \n",
      "\n",
      "-> 3\n",
      "\n",
      "  To do list: \n",
      "\n",
      "  \t 1. Nourrir le chat \n",
      "\n",
      "  \t 2. Préparer le cours de Python 👍 \n",
      "\n",
      "  \t 3. Manger \n",
      "\n",
      "  \t 4. Dormir \n",
      "\n",
      "\n",
      "    \n"
     ]
    }
   ],
   "source": []
  },
  {
   "cell_type": "code",
   "execution_count": 28,
   "metadata": {
    "id": "ixKJ8w3Wvmuq"
   },
   "outputs": [
    {
     "name": "stdout",
     "output_type": "stream",
     "text": [
      "Entrer un nombre pour choisir parmis les options: \n",
      "\n",
      "  \t1. Ajouter un élément à la to do list \n",
      "\n",
      "  \t2. Retirer un élément de la to do list \n",
      "\n",
      "  \t3. Afficher les éléments de la to do list \n",
      "\n",
      "  \t4. Vider la to do list \n",
      "\n",
      "  \t5. Quitter le programme \n",
      "    \n",
      "-> 3\n",
      "To do list:\n",
      "\t 1 .  Nourrir le chat \n",
      "\n",
      "\t 2 .  Préparer le cours de Python \n",
      "\n",
      "\t 3 .  Manger \n",
      "\n",
      "\t 4 .  Dormir \n",
      "\n",
      "Entrer un nombre pour choisir parmis les options: \n",
      "\n",
      "  \t1. Ajouter un élément à la to do list \n",
      "\n",
      "  \t2. Retirer un élément de la to do list \n",
      "\n",
      "  \t3. Afficher les éléments de la to do list \n",
      "\n",
      "  \t4. Vider la to do list \n",
      "\n",
      "  \t5. Quitter le programme \n",
      "    \n",
      "-> 1\n",
      "Saisissez un nouveau élément 'to do' : \n",
      "Faire du sport\n",
      "Faire du sport est ajouté.\n",
      "\n",
      "Entrer un nombre pour choisir parmis les options: \n",
      "\n",
      "  \t1. Ajouter un élément à la to do list \n",
      "\n",
      "  \t2. Retirer un élément de la to do list \n",
      "\n",
      "  \t3. Afficher les éléments de la to do list \n",
      "\n",
      "  \t4. Vider la to do list \n",
      "\n",
      "  \t5. Quitter le programme \n",
      "    \n",
      "-> 2\n",
      "Saisissez une position d'élément à être retiré de la liste (pos = indice de la liste + 1) :\n",
      "6\n",
      "La position est invalide!\n",
      "\n",
      "Entrer un nombre pour choisir parmis les options: \n",
      "\n",
      "  \t1. Ajouter un élément à la to do list \n",
      "\n",
      "  \t2. Retirer un élément de la to do list \n",
      "\n",
      "  \t3. Afficher les éléments de la to do list \n",
      "\n",
      "  \t4. Vider la to do list \n",
      "\n",
      "  \t5. Quitter le programme \n",
      "    \n",
      "-> 3\n",
      "To do list:\n",
      "\t 1 .  Nourrir le chat \n",
      "\n",
      "\t 2 .  Préparer le cours de Python \n",
      "\n",
      "\t 3 .  Manger \n",
      "\n",
      "\t 4 .  Dormir \n",
      "\n",
      "\t 5 .  Faire du sport \n",
      "\n",
      "Entrer un nombre pour choisir parmis les options: \n",
      "\n",
      "  \t1. Ajouter un élément à la to do list \n",
      "\n",
      "  \t2. Retirer un élément de la to do list \n",
      "\n",
      "  \t3. Afficher les éléments de la to do list \n",
      "\n",
      "  \t4. Vider la to do list \n",
      "\n",
      "  \t5. Quitter le programme \n",
      "    \n",
      "-> 2\n",
      "Saisissez une position d'élément à être retiré de la liste (pos = indice de la liste + 1) :\n",
      "3\n",
      "L'élément 3 est supprimé.\n",
      "\n",
      "Entrer un nombre pour choisir parmis les options: \n",
      "\n",
      "  \t1. Ajouter un élément à la to do list \n",
      "\n",
      "  \t2. Retirer un élément de la to do list \n",
      "\n",
      "  \t3. Afficher les éléments de la to do list \n",
      "\n",
      "  \t4. Vider la to do list \n",
      "\n",
      "  \t5. Quitter le programme \n",
      "    \n",
      "-> 3\n",
      "To do list:\n",
      "\t 1 .  Nourrir le chat \n",
      "\n",
      "\t 2 .  Préparer le cours de Python \n",
      "\n",
      "\t 3 .  Dormir \n",
      "\n",
      "\t 4 .  Faire du sport \n",
      "\n",
      "Entrer un nombre pour choisir parmis les options: \n",
      "\n",
      "  \t1. Ajouter un élément à la to do list \n",
      "\n",
      "  \t2. Retirer un élément de la to do list \n",
      "\n",
      "  \t3. Afficher les éléments de la to do list \n",
      "\n",
      "  \t4. Vider la to do list \n",
      "\n",
      "  \t5. Quitter le programme \n",
      "    \n",
      "-> 4\n",
      "To do list est vidée.\n",
      "\n",
      "Entrer un nombre pour choisir parmis les options: \n",
      "\n",
      "  \t1. Ajouter un élément à la to do list \n",
      "\n",
      "  \t2. Retirer un élément de la to do list \n",
      "\n",
      "  \t3. Afficher les éléments de la to do list \n",
      "\n",
      "  \t4. Vider la to do list \n",
      "\n",
      "  \t5. Quitter le programme \n",
      "    \n",
      "-> 3\n",
      "To do list est vide.\n",
      "\n",
      "Entrer un nombre pour choisir parmis les options: \n",
      "\n",
      "  \t1. Ajouter un élément à la to do list \n",
      "\n",
      "  \t2. Retirer un élément de la to do list \n",
      "\n",
      "  \t3. Afficher les éléments de la to do list \n",
      "\n",
      "  \t4. Vider la to do list \n",
      "\n",
      "  \t5. Quitter le programme \n",
      "    \n",
      "-> 5\n",
      "Quit\n"
     ]
    }
   ],
   "source": [
    "##\n",
    "def  input_choix() :\n",
    "    print(\"\"\"Entrer un nombre pour choisir parmis les options: \n",
    "\n",
    "  \t1. Ajouter un élément à la to do list \n",
    "\n",
    "  \t2. Retirer un élément de la to do list \n",
    "\n",
    "  \t3. Afficher les éléments de la to do list \n",
    "\n",
    "  \t4. Vider la to do list \n",
    "\n",
    "  \t5. Quitter le programme \n",
    "    \"\"\")\n",
    "    while True :\n",
    "        choix = input(\"-> \")\n",
    "        if choix.isdigit() :\n",
    "            choix = int(choix)\n",
    "            if choix in range(1,6) :\n",
    "                return choix\n",
    "            else :\n",
    "                 print(\"Saisissez un nombre entre 1 et 5.\")\n",
    "        else :\n",
    "            print(\"Saisissez un nombre entre 1 et 5.\")\n",
    "\n",
    "def gerer_liste(lst) :\n",
    "    while True :\n",
    "        choix = input_choix()\n",
    "        if choix == 1 :\n",
    "            new_to_do = input(\"Saisissez un nouveau élément 'to do' : \\n\")\n",
    "            lst.append(new_to_do)\n",
    "            print(f\"{new_to_do} est ajouté.\\n\")\n",
    "        elif choix == 2 :\n",
    "            pos = input(\"Saisissez une position d'élément à être retiré de la liste (pos = indice de la liste + 1) :\\n\")\n",
    "            if pos.isdigit() :\n",
    "                pos = int(pos)\n",
    "                if pos in range(1,len(lst)+1):\n",
    "                    del lst[pos-1]\n",
    "                    print(f\"L'élément {pos} est supprimé.\\n\")\n",
    "                else :\n",
    "                    print(\"La position est invalide!\\n\")\n",
    "            else :\n",
    "                print(\"La position est invalide!\\n\")\n",
    "        elif choix == 3 :\n",
    "            if lst :\n",
    "                print(\"To do list:\")\n",
    "                for i,elm in enumerate(lst,1) :\n",
    "                    print(\"\\t\",i,\". \",elm,\"\\n\")\n",
    "            else :\n",
    "                print(\"To do list est vide.\\n\")\n",
    "        elif choix == 4 :\n",
    "            lst.clear()\n",
    "            print(\"To do list est vidée.\\n\")\n",
    "        elif choix == 5 :\n",
    "            print(\"Quit\")\n",
    "            break\n",
    "            \n",
    "to_do_list = [\"Nourrir le chat\",\n",
    "              \"Préparer le cours de Python\",\n",
    "             \"Manger\",\n",
    "             \"Dormir\"]\n",
    "gerer_liste(to_do_list)"
   ]
  },
  {
   "cell_type": "markdown",
   "metadata": {
    "id": "XdJvMT9xVoRS"
   },
   "source": [
    "# Bonus (Mandatory)\n",
    "\n",
    "\n"
   ]
  },
  {
   "cell_type": "markdown",
   "metadata": {
    "id": "94-12vgPXG10"
   },
   "source": [
    "## Github\n",
    "Pour soumettre votre travail: \n",
    "\n",
    "1.   Commit changes to a branch and push to [github](https://google.com)\n",
    "2.   Create pull request / merge request\n"
   ]
  }
 ],
 "metadata": {
  "colab": {
   "collapsed_sections": [
    "Y1g4EgT41MqJ",
    "SHsrGdy-5AZK",
    "W3BGjEYaf2UQ"
   ],
   "include_colab_link": true,
   "provenance": []
  },
  "kernelspec": {
   "display_name": "Python 3 (ipykernel)",
   "language": "python",
   "name": "python3"
  },
  "language_info": {
   "codemirror_mode": {
    "name": "ipython",
    "version": 3
   },
   "file_extension": ".py",
   "mimetype": "text/x-python",
   "name": "python",
   "nbconvert_exporter": "python",
   "pygments_lexer": "ipython3",
   "version": "3.9.7"
  }
 },
 "nbformat": 4,
 "nbformat_minor": 1
}
