{
  "cells": [
    {
      "cell_type": "markdown",
      "metadata": {
        "id": "view-in-github",
        "colab_type": "text"
      },
      "source": [
        "<a href=\"https://colab.research.google.com/github/lapointe05/m1-miage/blob/Oussama-BOULIDAME/M1_MIAGE_TD_06.ipynb\" target=\"_parent\"><img src=\"https://colab.research.google.com/assets/colab-badge.svg\" alt=\"Open In Colab\"/></a>"
      ]
    },
    {
      "cell_type": "markdown",
      "metadata": {
        "id": "597Hu82gSNCZ"
      },
      "source": [
        "<img src=\"https://upload.wikimedia.org/wikipedia/fr/0/0b/Polytech_Lyon_logo.png\" alt=\"drawing\" height=\"200\"/>\n",
        "\n",
        "# Traitement de données & Programmation en Python\n",
        "---\n",
        "\n"
      ]
    },
    {
      "cell_type": "markdown",
      "metadata": {
        "id": "EA-XK862WiMt"
      },
      "source": [
        "# TD 06\n",
        "\n",
        "Traitement de données\n",
        "\n",
        "Elements à consulter:\n",
        "\n",
        "\n",
        "\n",
        "\n",
        "\n",
        "Doc                                   |             Link\n",
        "--------------------------------------|------------------------------------\n",
        "Github Helper      | [>link<](#scrollTo=Github_101)\n",
        "Python en 30 jours | [>link<](https://moncoachdata.com/courses/apprendre-python-en-30-jours/)\n",
        "Get started with pandas | [>link<](https://colab.research.google.com/notebooks/snippets/pandas.ipynb)"
      ]
    },
    {
      "cell_type": "markdown",
      "metadata": {
        "id": "Y1g4EgT41MqJ"
      },
      "source": [
        "## Intro\n",
        "\n",
        "Le premier bloc devrait toujours contenir les installs/imports dont on aura besoin pour le reste"
      ]
    },
    {
      "cell_type": "code",
      "execution_count": null,
      "metadata": {
        "colab": {
          "base_uri": "https://localhost:8080/"
        },
        "id": "yjiE8c51VoT0",
        "outputId": "28dfb7ec-63c5-4731-f520-12463f0bca1b"
      },
      "outputs": [
        {
          "name": "stdout",
          "output_type": "stream",
          "text": [
            "Python is awesome 👍\n"
          ]
        }
      ],
      "source": [
        "# Installs\n",
        "print(\"Python is awesome 👍\")\n",
        "import os\n",
        "import json\n",
        "from random import randint\n",
        "import pandas as pd\n",
        "import numpy as np"
      ]
    },
    {
      "cell_type": "markdown",
      "metadata": {
        "id": "SHsrGdy-5AZK"
      },
      "source": [
        "## EX01\n",
        "### Dataframes\n",
        "\n",
        "* Importer la librairie pandas\n",
        "* lire dataset 'tv_shows.csv' dans une variable tv_data\n",
        "* Afficher les 10 premieres lignes du dataset\n",
        "* Créer une colonne \"sreaming_platform\" qui contient le nom de la plateforme de streaming en se basant sur les colonnes (hulu, prime, disney, netflix)\n",
        "* Drop les colonnes (hulu, prime, disney, netflix)\n",
        "* Afficher le nombre de shows par plateforme de streaming\n",
        "* Afficher la note moyenne (imdb) par plateforme de streaming\n",
        "* Assigner a une variable top_shows, les meilleurs shows par plateforme de streaming et afficher cette dernière\n",
        "> bonus \n",
        "* Faire un graphique avec le nombre de shows par année (sur Y, et sur l'axe X les années) par plateforme de streaming (en series). Libres sur le choix du graphique [help](https://pandas.pydata.org/docs/reference/api/pandas.DataFrame.plot.bar.html)"
      ]
    },
    {
      "cell_type": "code",
      "execution_count": 34,
      "metadata": {
        "colab": {
          "base_uri": "https://localhost:8080/"
        },
        "id": "n_jOsgGllUhC",
        "outputId": "760e8537-a731-4255-ce3c-bda865872e27"
      },
      "outputs": [
        {
          "output_type": "stream",
          "name": "stdout",
          "text": [
            "         ID                                  Title  Year  Age    IMDb  \\\n",
            "0         1                           Breaking Bad  2008  18+  9.4/10   \n",
            "1         2                        Stranger Things  2016  16+  8.7/10   \n",
            "2         3                        Attack on Titan  2013  18+  9.0/10   \n",
            "3         4                       Better Call Saul  2015  18+  8.8/10   \n",
            "4         5                                   Dark  2017  16+  8.8/10   \n",
            "...     ...                                    ...   ...  ...     ...   \n",
            "21467  5713                       Paradise Islands  2017  NaN     NaN   \n",
            "21468  5714                         Mexico Untamed  2018  NaN     NaN   \n",
            "21469  5715                  Wild Centeral America  2020  NaN     NaN   \n",
            "21470  5716                            Wild Russia  2018  NaN     NaN   \n",
            "21471  5717  Fearless Adventures with Jack Randall  2018  NaN     NaN   \n",
            "\n",
            "      Rotten Tomatoes  Type streaming_platform  value  \n",
            "0             100/100     1            Netflix      1  \n",
            "1              96/100     1            Netflix      1  \n",
            "2              95/100     1            Netflix      1  \n",
            "3              94/100     1            Netflix      1  \n",
            "4              93/100     1            Netflix      1  \n",
            "...               ...   ...                ...    ...  \n",
            "21467          10/100     1            Disney+      1  \n",
            "21468          10/100     1            Disney+      1  \n",
            "21469          10/100     1            Disney+      1  \n",
            "21470          10/100     1            Disney+      1  \n",
            "21471          10/100     1            Disney+      1  \n",
            "\n",
            "[21472 rows x 9 columns]\n",
            "streaming_platform\n",
            "Disney+        5368\n",
            "Hulu           5368\n",
            "Netflix        5368\n",
            "Prime Video    5368\n",
            "dtype: int64\n",
            "streaming_platform\n",
            "Disney+        7.086019\n",
            "Hulu           7.086019\n",
            "Netflix        7.086019\n",
            "Prime Video    7.086019\n",
            "Name: IMDb, dtype: float64\n",
            "         ID                              Title  Year Age  IMDb  \\\n",
            "14538  4054  The Secret World of Nature: Spain  2020  7+   9.6   \n",
            "3802   4054  The Secret World of Nature: Spain  2020  7+   9.6   \n",
            "9170   4054  The Secret World of Nature: Spain  2020  7+   9.6   \n",
            "19906  4054  The Secret World of Nature: Spain  2020  7+   9.6   \n",
            "\n",
            "      Rotten Tomatoes  Type streaming_platform  value  \n",
            "14538          51/100     1        Prime Video      1  \n",
            "3802           51/100     1            Netflix      0  \n",
            "9170           51/100     1               Hulu      0  \n",
            "19906          51/100     1            Disney+      0  \n"
          ]
        }
      ],
      "source": [
        "# Code here\n",
        "import pandas as pd\n",
        "\n",
        "#1\n",
        "tv_data = pd.read_csv(\"tv_shows.csv\", sep='|')\n",
        "#2\n",
        "tv_data.head(10)\n",
        "#3\n",
        "col= tv_data.columns\n",
        "platform=['Netflix','Hulu','Prime Video','Disney+']\n",
        "col = ['ID','Title','Year','Age','IMDb','Rotten Tomatoes','Type']\n",
        "data_streaming = pd.melt(tv_data,id_vars=col,value_vars=platform,var_name='streaming_platform')\n",
        "print(data_streaming)\n",
        "#4\n",
        "tv_data = tv_data.drop(columns=['Netflix','Hulu','Prime Video','Disney+'])\n",
        "#5\n",
        "platform_nbre = data_streaming.groupby('streaming_platform').size()\n",
        "print(platform_nbre)\n",
        "#6\n",
        "data_streaming['IMDb'] = data_streaming['IMDb'].str.split('/').str[0]\n",
        "data_streaming['IMDb'] = data_streaming['IMDb'].astype(float)\n",
        "\n",
        "moy_note = data_streaming.groupby('streaming_platform')['IMDb'].mean()\n",
        "\n",
        "print(moy_note)\n",
        "\n",
        "#7\n",
        "top_shows = data_streaming.sort_values(by=['streaming_platform', 'IMDb'], ascending=False).groupby('streaming_platform').head(1)\n",
        "print(top_shows)\n",
        "\n",
        "\n",
        "\n"
      ]
    },
    {
      "cell_type": "markdown",
      "metadata": {
        "id": "Q8WBS9oVKcWs"
      },
      "source": [
        "##EX02\n",
        "### Pandas Power\n",
        "\n",
        "TBD (apres la pause)"
      ]
    },
    {
      "cell_type": "code",
      "execution_count": null,
      "metadata": {
        "id": "EjbTgYNbCaIj"
      },
      "outputs": [],
      "source": [
        "# Code here\n"
      ]
    }
  ],
  "metadata": {
    "colab": {
      "provenance": [],
      "include_colab_link": true
    },
    "kernelspec": {
      "display_name": "Python 3",
      "name": "python3"
    }
  },
  "nbformat": 4,
  "nbformat_minor": 0
}