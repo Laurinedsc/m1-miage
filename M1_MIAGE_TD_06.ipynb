{
  "cells": [
    {
      "cell_type": "markdown",
      "metadata": {
        "id": "view-in-github",
        "colab_type": "text"
      },
      "source": [
        "<a href=\"https://colab.research.google.com/github/lapointe05/m1-miage/blob/Rayene_Hakoume/M1_MIAGE_TD_06.ipynb\" target=\"_parent\"><img src=\"https://colab.research.google.com/assets/colab-badge.svg\" alt=\"Open In Colab\"/></a>"
      ]
    },
    {
      "cell_type": "markdown",
      "metadata": {
        "id": "597Hu82gSNCZ"
      },
      "source": [
        "<img src=\"https://upload.wikimedia.org/wikipedia/fr/0/0b/Polytech_Lyon_logo.png\" alt=\"drawing\" height=\"200\"/>\n",
        "\n",
        "# Traitement de données & Programmation en Python\n",
        "---\n",
        "\n"
      ]
    },
    {
      "cell_type": "markdown",
      "metadata": {
        "id": "EA-XK862WiMt"
      },
      "source": [
        "# TD 06\n",
        "\n",
        "Traitement de données\n",
        "\n",
        "Elements à consulter:\n",
        "\n",
        "\n",
        "\n",
        "\n",
        "\n",
        "Doc                                   |             Link\n",
        "--------------------------------------|------------------------------------\n",
        "Github Helper      | [>link<](#scrollTo=Github_101)\n",
        "Python en 30 jours | [>link<](https://moncoachdata.com/courses/apprendre-python-en-30-jours/)\n",
        "Get started with pandas | [>link<](https://colab.research.google.com/notebooks/snippets/pandas.ipynb)"
      ]
    },
    {
      "cell_type": "markdown",
      "metadata": {
        "id": "Y1g4EgT41MqJ"
      },
      "source": [
        "## Intro\n",
        "\n",
        "Le premier bloc devrait toujours contenir les installs/imports dont on aura besoin pour le reste"
      ]
    },
    {
      "cell_type": "code",
      "execution_count": null,
      "metadata": {
        "colab": {
          "base_uri": "https://localhost:8080/"
        },
        "id": "yjiE8c51VoT0",
        "outputId": "05badd93-ade2-4869-a423-ee64de0bb70c"
      },
      "outputs": [
        {
          "output_type": "stream",
          "name": "stdout",
          "text": [
            "Python is awesome 👍\n"
          ]
        }
      ],
      "source": [
        "# Installs\n",
        "print(\"Python is awesome 👍\")"
      ]
    },
    {
      "cell_type": "markdown",
      "metadata": {
        "id": "SHsrGdy-5AZK"
      },
      "source": [
        "## EX01\n",
        "### Dataframes\n",
        "\n",
        "* Importer la librairie pandas\n",
        "* lire dataset 'tv_shows.csv' dans une variable tv_data\n",
        "* Afficher les 10 premieres lignes du dataset\n",
        "* Créer une colonne \"sreaming_platform\" qui contient le nom de la plateforme de streaming en se basant sur les colonnes (hulu, prime, disney, netflix)\n",
        "* Drop les colonnes (hulu, prime, disney, netflix)\n",
        "* Afficher le nombre de shows par plateforme de streaming\n",
        "* Afficher la note moyenne (imdb) par plateforme de streaming\n",
        "* Assigner a une variable top_shows, les meilleurs shows par plateforme de streaming et afficher cette dernière\n",
        "> bonus \n",
        "* Faire un graphique avec le nombre de shows par année (sur Y, et sur l'axe X les années) par plateforme de streaming (en series). Libres sur le choix du graphique [help](https://pandas.pydata.org/docs/reference/api/pandas.DataFrame.plot.bar.html)"
      ]
    },
    {
      "cell_type": "code",
      "execution_count": null,
      "metadata": {
        "id": "n_jOsgGllUhC",
        "colab": {
          "base_uri": "https://localhost:8080/"
        },
        "outputId": "0cc6a268-4250-4a5f-a9f2-fcbe94c97fea"
      },
      "outputs": [
        {
          "output_type": "stream",
          "name": "stdout",
          "text": [
            "4444444444444444444444444444444\n",
            "        ID                                  Title  Year  Age    IMDb  \\\n",
            "0        1                           Breaking Bad  2008  18+  9.4/10   \n",
            "1        2                        Stranger Things  2016  16+  8.7/10   \n",
            "2        3                        Attack on Titan  2013  18+  9.0/10   \n",
            "3        4                       Better Call Saul  2015  18+  8.8/10   \n",
            "4        5                                   Dark  2017  16+  8.8/10   \n",
            "...    ...                                    ...   ...  ...     ...   \n",
            "5363  5713                       Paradise Islands  2017  NaN     NaN   \n",
            "5364  5714                         Mexico Untamed  2018  NaN     NaN   \n",
            "5365  5715                  Wild Centeral America  2020  NaN     NaN   \n",
            "5366  5716                            Wild Russia  2018  NaN     NaN   \n",
            "5367  5717  Fearless Adventures with Jack Randall  2018  NaN     NaN   \n",
            "\n",
            "     Rotten Tomatoes  Netflix  Hulu  Prime Video  Disney+  Type  \n",
            "0            100/100        1     0            0        0     1  \n",
            "1             96/100        1     0            0        0     1  \n",
            "2             95/100        1     1            0        0     1  \n",
            "3             94/100        1     0            0        0     1  \n",
            "4             93/100        1     0            0        0     1  \n",
            "...              ...      ...   ...          ...      ...   ...  \n",
            "5363          10/100        0     0            0        1     1  \n",
            "5364          10/100        0     0            0        1     1  \n",
            "5365          10/100        0     0            0        1     1  \n",
            "5366          10/100        0     0            0        1     1  \n",
            "5367          10/100        0     0            0        1     1  \n",
            "\n",
            "[5368 rows x 11 columns]\n",
            "streaming_platform\n",
            "Disney+        5368\n",
            "Hulu           5368\n",
            "Netflix        5368\n",
            "Prime Video    5368\n",
            "dtype: int64\n",
            "streaming_platform\n",
            "Disney+        16104\n",
            "Hulu            5368\n",
            "Netflix            0\n",
            "Prime Video    10736\n",
            "Name: IMDb, dtype: int64\n"
          ]
        }
      ],
      "source": [
        "from IPython.utils.py3compat import platform\n",
        "# Code here\n",
        "\n",
        "#Importer la librairie pandas\n",
        "import pandas as pd\n",
        "#lire dataset 'tv_shows.csv' dans une variable tv_data\n",
        "tv_data = pd.read_csv('tv_shows.csv',sep=\"|\")\n",
        "#Afficher les 10 premières lignes du dataset\n",
        "#tv_data.head(10)\n",
        "#Créer une colonne \"sreaming_platform\" qui contient le nom de la plateforme de \n",
        "#streaming en se basant sur les colonnes (hulu, prime, disney, netflix)\n",
        "col= tv_data.columns\n",
        "platform=['Netflix','Hulu','Prime Video','Disney+']\n",
        "col = ['ID','Title','Year','Age','IMDb','Rotten Tomatoes','Type']\n",
        "pd.melt(tv_data,id_vars=col,value_vars=platform,var_name='sreaming_platform')\n",
        "print(4444444444444444444444444444444)\n",
        "print(tv_data)\n",
        "#Drop les colonnes (hulu, prime, disney, netflix) \n",
        "#print(tv_data.drop(columns=['Hulu','Prime Video','Disney+','Netflix']))\n",
        "\n",
        "\n",
        "# Afficher le nombre de shows par plateforme de streaming\n",
        "melted_data = pd.melt(tv_data, id_vars=col, value_vars=platform, var_name='streaming_platform')\n",
        "platform_count = melted_data.groupby('streaming_platform').size()\n",
        "print(platform_count)\n",
        "\n",
        "#Afficher la note moyenne (imdb) par plateforme de streaming\n",
        "\n",
        "# Convert the IMDb column to a numeric data type\n",
        "\n",
        "melted_data['IMDb'] = pd.to_numeric(melted_data['IMDb'], errors='coerce').fillna(0)\n",
        "\n",
        "\n",
        "\n",
        "\n",
        "\n",
        "# Group the data by streaming platform and get the mean of the IMDb column\n",
        "platform_mean_rating = melted_data.groupby('streaming_platform')['IMDb'].mean()\n",
        "\n",
        "# Print the mean rating\n",
        "#print(platform_mean_rating)\n",
        "\n",
        "# Print the top show for each platform\n",
        "top_shows = melted_data.groupby('streaming_platform')['IMDb'].apply(lambda x: x.idxmax())\n",
        "print(top_shows)\n",
        "\n",
        "\n",
        "\n",
        "\n",
        "\n",
        "\n",
        "\n",
        "\n"
      ]
    },
    {
      "cell_type": "markdown",
      "metadata": {
        "id": "Q8WBS9oVKcWs"
      },
      "source": [
        "##EX02\n",
        "### Pandas Power\n",
        "\n",
        "TBD (apres la pause)"
      ]
    },
    {
      "cell_type": "code",
      "execution_count": null,
      "metadata": {
        "id": "EjbTgYNbCaIj"
      },
      "outputs": [],
      "source": [
        "# Code here\n"
      ]
    }
  ],
  "metadata": {
    "colab": {
      "provenance": [],
      "include_colab_link": true
    },
    "kernelspec": {
      "display_name": "Python 3",
      "name": "python3"
    }
  },
  "nbformat": 4,
  "nbformat_minor": 0
}