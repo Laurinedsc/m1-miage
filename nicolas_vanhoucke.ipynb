{
 "cells": [
  {
   "cell_type": "markdown",
   "metadata": {
    "colab_type": "text",
    "id": "view-in-github"
   },
   "source": [
    "<a href=\"https://colab.research.google.com/github/lapointe05/m1-miage/blob/main/M1_MIAGE_TD_03.ipynb\" target=\"_parent\"><img src=\"https://colab.research.google.com/assets/colab-badge.svg\" alt=\"Open In Colab\"/></a>"
   ]
  },
  {
   "cell_type": "markdown",
   "metadata": {
    "id": "597Hu82gSNCZ"
   },
   "source": [
    "<img src=\"https://upload.wikimedia.org/wikipedia/fr/0/0b/Polytech_Lyon_logo.png\" alt=\"drawing\" height=\"200\"/>\n",
    "\n",
    "# Algorithmique Avancée & Programmation en Python\n",
    "---\n",
    "\n"
   ]
  },
  {
   "cell_type": "markdown",
   "metadata": {
    "id": "EA-XK862WiMt"
   },
   "source": [
    "# TD 03\n",
    "\n",
    "Intro aux traitement de données\n",
    "\n",
    "```python\n",
    "print(\"Hello, friend! It's been a while...\")\n",
    "```\n",
    " \n",
    "Elements à consulter:\n",
    "\n",
    "\n",
    "Doc                                   |             Link\n",
    "--------------------------------------|------------------------------------\n",
    "Python en 30 jours | [>link<](https://moncoachdata.com/courses/apprendre-python-en-30-jours/)\n",
    "Get started with pandas | [>link<](https://colab.research.google.com/notebooks/snippets/pandas.ipynb)"
   ]
  },
  {
   "cell_type": "markdown",
   "metadata": {
    "id": "Y1g4EgT41MqJ"
   },
   "source": [
    "## Intro\n",
    "\n",
    "Le premier bloc devrait toujours contenir les installs/imports dont on aura besoin pour le reste"
   ]
  },
  {
   "cell_type": "code",
   "execution_count": null,
   "metadata": {
    "colab": {
     "base_uri": "https://localhost:8080/"
    },
    "id": "yjiE8c51VoT0",
    "outputId": "88029a55-7ea9-4945-f975-2bdea0d2be95"
   },
   "outputs": [
    {
     "name": "stdout",
     "output_type": "stream",
     "text": [
      "\u001b[?25l\r\n",
      "\u001b[K     |█▍                              | 10 kB 17.8 MB/s eta 0:00:01\r\n",
      "\u001b[K     |██▊                             | 20 kB 7.8 MB/s eta 0:00:01\r\n",
      "\u001b[K     |████                            | 30 kB 10.5 MB/s eta 0:00:01\r\n",
      "\u001b[K     |█████▍                          | 40 kB 4.6 MB/s eta 0:00:01\r\n",
      "\u001b[K     |██████▉                         | 51 kB 4.6 MB/s eta 0:00:01\r\n",
      "\u001b[K     |████████▏                       | 61 kB 5.5 MB/s eta 0:00:01\r\n",
      "\u001b[K     |█████████▌                      | 71 kB 5.9 MB/s eta 0:00:01\r\n",
      "\u001b[K     |██████████▉                     | 81 kB 5.6 MB/s eta 0:00:01\r\n",
      "\u001b[K     |████████████▎                   | 92 kB 6.2 MB/s eta 0:00:01\r\n",
      "\u001b[K     |█████████████▋                  | 102 kB 5.1 MB/s eta 0:00:01\r\n",
      "\u001b[K     |███████████████                 | 112 kB 5.1 MB/s eta 0:00:01\r\n",
      "\u001b[K     |████████████████▎               | 122 kB 5.1 MB/s eta 0:00:01\r\n",
      "\u001b[K     |█████████████████▊              | 133 kB 5.1 MB/s eta 0:00:01\r\n",
      "\u001b[K     |███████████████████             | 143 kB 5.1 MB/s eta 0:00:01\r\n",
      "\u001b[K     |████████████████████▍           | 153 kB 5.1 MB/s eta 0:00:01\r\n",
      "\u001b[K     |█████████████████████▊          | 163 kB 5.1 MB/s eta 0:00:01\r\n",
      "\u001b[K     |███████████████████████▏        | 174 kB 5.1 MB/s eta 0:00:01\r\n",
      "\u001b[K     |████████████████████████▌       | 184 kB 5.1 MB/s eta 0:00:01\r\n",
      "\u001b[K     |█████████████████████████▉      | 194 kB 5.1 MB/s eta 0:00:01\r\n",
      "\u001b[K     |███████████████████████████▏    | 204 kB 5.1 MB/s eta 0:00:01\r\n",
      "\u001b[K     |████████████████████████████▋   | 215 kB 5.1 MB/s eta 0:00:01\r\n",
      "\u001b[K     |██████████████████████████████  | 225 kB 5.1 MB/s eta 0:00:01\r\n",
      "\u001b[K     |███████████████████████████████▎| 235 kB 5.1 MB/s eta 0:00:01\r\n",
      "\u001b[K     |████████████████████████████████| 240 kB 5.1 MB/s \n",
      "\u001b[?25h  Building wheel for emoji (setup.py) ... \u001b[?25l\u001b[?25hdone\n"
     ]
    }
   ],
   "source": [
    "# Installs\n",
    "!pip install emoji --quiet"
   ]
  },
  {
   "cell_type": "code",
   "execution_count": null,
   "metadata": {
    "colab": {
     "base_uri": "https://localhost:8080/"
    },
    "id": "JhT-50uwz72F",
    "outputId": "3e6b6a89-5efe-4122-9274-710c2d526432"
   },
   "outputs": [
    {
     "name": "stdout",
     "output_type": "stream",
     "text": [
      "Python is awesome 👍\n"
     ]
    }
   ],
   "source": [
    "# Imports\n",
    "import os\n",
    "import json\n",
    "from random import randint\n",
    "# import pandas as pd\n",
    "# import numpy as np\n",
    "from getpass import getpass\n",
    "import emoji\n",
    "import re\n",
    "import getpass as getpass\n",
    "\n",
    "print(emoji.emojize('Python is awesome :thumbs_up:'))"
   ]
  },
  {
   "cell_type": "markdown",
   "metadata": {
    "id": "5jpD7nr9NrKR"
   },
   "source": [
    "##EX01\n",
    "### Révision boucles / compréhension de listes\n",
    "\n",
    "Avec l'usage de la boucle `for`, répondez aux questions ci-dessous\n",
    "\n",
    "\n",
    "> PS: Code pris et modifié à partir d'exo sur github"
   ]
  },
  {
   "cell_type": "code",
   "execution_count": 6,
   "metadata": {
    "id": "8p4JXCtEyQBX"
   },
   "outputs": [
    {
     "name": "stdout",
     "output_type": "stream",
     "text": [
      "[44, 4, 38]\n",
      "[1, 2, 3, 4, 5, 6, 7, 8, 9]\n",
      "[0, 2, 4, 6, 8]\n"
     ]
    }
   ],
   "source": [
    "##############################################################\n",
    "nombres = [1, 21, 5, 44, 4, 9, 5, 83, 29, 31, 25, 38]\n",
    "nombres_pairs = []\n",
    "for i in range(len(nombres)):\n",
    "    if nombres[i]%2 == 0:\n",
    "        nombres_pairs.append(nombres[i])\n",
    "print(nombres_pairs)\n",
    "\n",
    "##############################################################\n",
    "\n",
    "nombres = range(-10, 10)\n",
    "nombres_positifs = []\n",
    "for i in range(len(nombres)):\n",
    "    if nombres[i] > 0:\n",
    "        nombres_positifs.append(nombres[i])\n",
    "print(nombres_positifs)\n",
    "\n",
    "##############################################################\n",
    "\n",
    "nombres = range(5)\n",
    "nombres_x2 = []\n",
    "for i in range(len(nombres)):\n",
    "    nombres_x2.append(nombres[i]*2)\n",
    "print(nombres_x2)"
   ]
  },
  {
   "cell_type": "markdown",
   "metadata": {
    "id": "BQBEhammPFtE"
   },
   "source": [
    "### PART 2\n",
    "Changez le code ci-dessus, et remplacez les blocs `for` par des [compréhensions de listes](https://duckduckgo.com/?q=list+comprehension+python)"
   ]
  },
  {
   "cell_type": "code",
   "execution_count": 1,
   "metadata": {
    "id": "zlMvZFGcPEAG"
   },
   "outputs": [
    {
     "name": "stdout",
     "output_type": "stream",
     "text": [
      "[44, 4, 38]\n",
      "[1, 2, 3, 4, 5, 6, 7, 8, 9]\n",
      "[0, 2, 4, 6, 8]\n"
     ]
    }
   ],
   "source": [
    "##############################################################\n",
    "nombres = [1, 21, 5, 44, 4, 9, 5, 83, 29, 31, 25, 38]\n",
    "nombres_pairs = []\n",
    "nombres_pairs = [nombres[i] for i in range(len(nombres)) if nombres[i]%2 == 0]  \n",
    "print(nombres_pairs)\n",
    "\n",
    "##############################################################\n",
    "\n",
    "nombres = range(-10, 10)\n",
    "nombres_positifs = []\n",
    "nombres_positifs = [nombres[i] for i in range(len(nombres)) if nombres[i] > 0]\n",
    "print(nombres_positifs)\n",
    "\n",
    "##############################################################\n",
    "\n",
    "nombres = range(5)\n",
    "nombres_x2 = []\n",
    "nombres_x2 = [nombres[i] *2 for i in range(len(nombres))]\n",
    "print(nombres_x2)"
   ]
  },
  {
   "cell_type": "markdown",
   "metadata": {
    "id": "cN_XcFu1dG5V"
   },
   "source": [
    "##EX02\n",
    "### Les sets\n",
    "\n",
    "  1. Créez un `set` vide et attribuez-le à une variable.\n",
    "  2. Ajoutez trois éléments à votre ensemble vide en utilisant soit plusieurs appels `add`, soit un seul appel de `update`.\n",
    "\n",
    "  3. Créez un deuxième `set` qui comprend au moins un élément commun avec le premier ensemble.\n",
    "\n",
    "  4. Trouvez l’union, la différence et l’intersection des deux `set`. >>\n",
    "Imprimez les résultats de chaque opération.\n",
    "\n",
    "  5. Créez une `set` de nombres en utilisant `range()`, puis demandez à l’utilisateur d’entrer un nombre. Indiquez à l’utilisateur si son nombre se situe ou non dans la plage de valeurs que vous avez spécifiée.\n",
    "\n",
    ">Bonus: \n",
    ">>Indiquer à l’utilisateur si son nombre était trop élevé ou trop bas."
   ]
  },
  {
   "cell_type": "code",
   "execution_count": 13,
   "metadata": {
    "id": "yzbCm94SwV6g"
   },
   "outputs": [
    {
     "name": "stdout",
     "output_type": "stream",
     "text": [
      "Rentrez un nombre svp -1\n",
      "Le nombre n'est pas dans la plage de valeurs\n",
      "Le nombre est trop petit\n",
      "{0, 1, 2, 3, 4}\n",
      "{'elt2', 'elt3', 'elt1'}\n",
      "{'elt3', 'elt1', 'elt', 'elt2'}\n",
      "{'elt3'}\n",
      "{'elt', 'elt2', 'elt1'}\n"
     ]
    }
   ],
   "source": [
    "s = set() \n",
    "s.update([\"elt1\",\"elt2\",\"elt3\"])\n",
    "s2 = {\"elt\",\"elt3\",\"elt\"}\n",
    "union = s.union(s2)\n",
    "inter = s.intersection(s2)\n",
    "diff = s.symmetric_difference(s2)\n",
    "s3 = set(range(5))\n",
    "n = int(input(\"Rentrez un nombre svp \"))\n",
    "if n in s3:\n",
    "    print(\"Le nombre est dans la plage de valeurs\")\n",
    "else :\n",
    "    print(\"Le nombre n'est pas dans la plage de valeurs\")\n",
    "    test_petit = False\n",
    "    for i in s3:\n",
    "        if n < i:\n",
    "            test_petit = True\n",
    "    if test_petit == True:\n",
    "        print(\"Le nombre est trop petit\")\n",
    "    else:\n",
    "        print(\"Le nombre est trop grand\")\n",
    "print(s3)\n",
    "print(s)\n",
    "print(union)\n",
    "print(inter)\n",
    "print(diff)"
   ]
  },
  {
   "cell_type": "markdown",
   "metadata": {
    "id": "SHsrGdy-5AZK"
   },
   "source": [
    "## EX03\n",
    "### Revision listes\n",
    "1. Créez une liste de séries (`binge_watch_list`) contenant un seul tuple. Le tuple doit contenir le titre de la série, la plateforme de streaming (légal), le nombre d'épisodes de la série, l'année de sortie et une note /10.\n",
    "\n",
    "2. Créez une fonction (`input_series`) qui receuil des informations sur d'autres séries à l'aide de la fonction native `input`. Et nous retourne un tuple. \\n\n",
    "Tout les champs sont obligatoires.\n",
    "\n",
    "4. Utilisez `f-string` pour imprimer le nom et l’année de sortie de la série qu'on vient d'input.\n",
    "\n",
    "3. Alimenter la liste (`binge_watch_list`) avec le retour de la fonction (`input_series`) \\n\n",
    "Assurez vous que l'ordre des champs soit le même que dans (`binge_watch_list`).\n",
    "\n",
    "\n",
    "5. Afficher le nom et l’année de sortie de toutes les séries dans `binge_watch_list`.\n",
    "\n",
    "> Bonus:\n",
    "\n",
    "6. Supprimez la série la moins bien noté de `binge_watch_list`. Utilisez la méthode de votre choix."
   ]
  },
  {
   "cell_type": "code",
   "execution_count": 31,
   "metadata": {
    "id": "jIatRWhm5Xzo"
   },
   "outputs": [
    {
     "name": "stdout",
     "output_type": "stream",
     "text": [
      "Titre de la série : test\n",
      "Plateforme de streaming : a\n",
      "Nombre d'épisodes : 2\n",
      "Année de sortie : 1\n",
      "Note (sur 10) : 10\n",
      "Titre de la série : test\n",
      "Année de sortie : 1\n",
      "[('How to get away with murder', 'Netflix', 60, 2014, 9), ('test', 'a', 2, 1, 10)]\n",
      "Titre de la série : How to get away with murder\n",
      "Année de sortie : 2014\n",
      "Titre de la série : test\n",
      "Année de sortie : 1\n",
      "[('test', 'a', 2, 1, 10)]\n"
     ]
    }
   ],
   "source": [
    "# Code here\n",
    "binge_watch_list = []\n",
    "binge_watch_list.append((\"How to get away with murder\", \"Netflix\", 60, 2014, 9))\n",
    "\n",
    "def input_series():\n",
    "    titre = input(\"Titre de la série : \")\n",
    "    while titre == \"\":\n",
    "        titre = input(\"Titre de la série : \")\n",
    "    plateforme = input(\"Plateforme de streaming : \")\n",
    "    while plateforme == \"\":\n",
    "        plateforme = input(\"Plateforme de streaming : \")\n",
    "    nb_episodes = int(input(\"Nombre d'épisodes : \"))\n",
    "    while nb_episodes <= 0:\n",
    "        nb_episodes = int(input(\"Nombre d'épisodes : \"))\n",
    "    annee_sortie = int(input(\"Année de sortie : \"))\n",
    "    note = int(input(\"Note (sur 10) : \"))\n",
    "    while note < 0 or note > 10:\n",
    "        note = int(input(\"Note (sur 10) : \"))\n",
    "    print(f\"Titre de la série : {titre}\\nAnnée de sortie : {annee_sortie}\")\n",
    "    return (titre, plateforme, nb_episodes, annee_sortie, note)\n",
    "\n",
    "binge_watch_list.append(input_series())\n",
    "print(binge_watch_list)\n",
    "\n",
    "for serie in binge_watch_list:\n",
    "    print(f\"Titre de la série : {serie[0]}\\nAnnée de sortie : {serie[3]}\")\n",
    "\n",
    "note_min = 11\n",
    "serie_a_sup = \"\"\n",
    "for serie in binge_watch_list:\n",
    "    if note_min > serie[4]:\n",
    "        serie_a_sup = serie\n",
    "        note_min = serie[4]\n",
    "binge_watch_list.remove(serie_a_sup)\n",
    "print(binge_watch_list)"
   ]
  },
  {
   "cell_type": "markdown",
   "metadata": {
    "id": "-Zrebyjbxb89"
   },
   "source": [
    "Transformer le code ci-dessous de liste a dictionnaire"
   ]
  },
  {
   "cell_type": "code",
   "execution_count": 39,
   "metadata": {
    "id": "wqwmWD1HxfKF"
   },
   "outputs": [
    {
     "name": "stdout",
     "output_type": "stream",
     "text": [
      "Titre de la série : test\n",
      "Plateforme de streaming : a\n",
      "Nombre d'épisodes : 3\n",
      "Année de sortie : 1\n",
      "Note (sur 10) : 10\n",
      "Titre de la série : test\n",
      "Année de sortie : 1\n",
      "{'How to get away with murder': ('How to get away with murder', 'Netflix', 60, 2014, 9), 'test': ('test', 'a', 3, 1, 10)}\n",
      "Titre de la série : How to get away with murder\n",
      "Année de sortie : 2014\n",
      "Titre de la série : test\n",
      "Année de sortie : 1\n",
      "{'test': ('test', 'a', 3, 1, 10)}\n"
     ]
    }
   ],
   "source": [
    "binge_watch_dictio = {}\n",
    "binge_watch_dictio[\"How to get away with murder\"]= (\"How to get away with murder\", \"Netflix\", 60, 2014, 9)\n",
    "\n",
    "def input_series():\n",
    "    titre = input(\"Titre de la série : \")\n",
    "    while titre == \"\":\n",
    "        titre = input(\"Titre de la série : \")\n",
    "    plateforme = input(\"Plateforme de streaming : \")\n",
    "    while plateforme == \"\":\n",
    "        plateforme = input(\"Plateforme de streaming : \")\n",
    "    nb_episodes = int(input(\"Nombre d'épisodes : \"))\n",
    "    while nb_episodes <= 0:\n",
    "        nb_episodes = int(input(\"Nombre d'épisodes : \"))\n",
    "    annee_sortie = int(input(\"Année de sortie : \"))\n",
    "    note = int(input(\"Note (sur 10) : \"))\n",
    "    while note < 0 or note > 10:\n",
    "        note = int(input(\"Note (sur 10) : \"))\n",
    "    print(f\"Titre de la série : {titre}\\nAnnée de sortie : {annee_sortie}\")\n",
    "    return (titre, plateforme, nb_episodes, annee_sortie, note)\n",
    "\n",
    "serie = input_series()\n",
    "binge_watch_dictio[serie[0]] = serie\n",
    "print(binge_watch_dictio)\n",
    "\n",
    "for titre,infos in binge_watch_dictio.items():\n",
    "    print(f\"Titre de la série : {infos[0]}\\nAnnée de sortie : {infos[3]}\")\n",
    "\n",
    "note_min = 11\n",
    "serie_a_sup = \"\"\n",
    "for titre,infos in binge_watch_dictio.items():\n",
    "    if note_min > infos[4]:\n",
    "        serie_a_sup = titre\n",
    "        note_min = infos[4]\n",
    "del(binge_watch_dictio[serie_a_sup])\n",
    "print(binge_watch_dictio)"
   ]
  },
  {
   "cell_type": "markdown",
   "metadata": {
    "id": "W3BGjEYaf2UQ"
   },
   "source": [
    "## EX04\n",
    "### Révision strings / fonctions\n",
    "Implementer deux fonctions `input_password()` & `password_check(x)` qui :\n",
    "\n",
    "1. `input_password()` fait:\n",
    "    * Demande à l'utilisateur un mot de passe d'au moins 8 caractères, 12 c'est mieux.\n",
    "    * retourne ce dernier\n",
    "\n",
    "2. `password_check(x)` verifie:\n",
    "\n",
    "    * print `mot de passe trop court!` **avec une majuscule sur la première lettre** si la longueur du mot de passe entré est `plus petite que 8`.\n",
    "\n",
    "    * Verifier que le mot de passe soit une combinaison de `lettres majuscules, de lettres minuscules, de chiffres et de symboles.` \n",
    "    > Si le mot de passe manque de répondre à une condition, l'afficher à l'utilisateur\n",
    "\n",
    "    *  Afficher la phrase `\"Mot de passe valide.\"` si le mot de passe répond à **toutes les conditions**.\n",
    "\n",
    "> bonus \n",
    "\n",
    "* Verifier qu'un même mot de passe ne peut pas etre saisie deux fois, ex. utiliser une variable `previous_password`"
   ]
  },
  {
   "cell_type": "code",
   "execution_count": 50,
   "metadata": {
    "colab": {
     "base_uri": "https://localhost:8080/",
     "height": 53
    },
    "id": "FS2OxAtBf1tB",
    "outputId": "c29ca3c4-258f-4a5f-9496-ef14df6508aa"
   },
   "outputs": [
    {
     "name": "stdout",
     "output_type": "stream",
     "text": [
      "Veuillez saisir un mot de passe de 8 caractères minimum ········\n",
      "mot de passe trop court!\n",
      "veuillez rajouter un chiffre dans le mot de passe\n",
      "veuillez rajouter une lettre majusucule dans le mot de passe\n",
      "veuillez rajouter un symbole dans le mot de passe\n",
      "Veuillez saisir un mot de passe de 8 caractères minimum ········\n",
      "veuillez rajouter un symbole dans le mot de passe\n",
      "Veuillez saisir un mot de passe de 8 caractères minimum ········\n",
      "Mot de passe valide.\n"
     ]
    }
   ],
   "source": [
    "# Start from this\n",
    "def input_password():\n",
    "    p = getpass.getpass(\"Veuillez saisir un mot de passe de 8 caractères minimum \")\n",
    "    return p\n",
    "\n",
    "def password_check(p, ancien_p):\n",
    "    p_valid = True\n",
    "    if len(p) < 8:\n",
    "        print(\"mot de passe trop court!\")\n",
    "        p_valid = False\n",
    "    if not re.search('[0-9]', p):\n",
    "        print(\"veuillez rajouter un chiffre dans le mot de passe\")\n",
    "        p_valid = False\n",
    "    if not re.search('[A-Z]', p):\n",
    "        print(\"veuillez rajouter une lettre majusucule dans le mot de passe\")\n",
    "        p_valid = False\n",
    "    if not re.search('[!\"#$%&()*+,-./:;<=>?@ [\\]^_` {|}~]', p):\n",
    "        print(\"veuillez rajouter un symbole dans le mot de passe\")\n",
    "        p_valid = False\n",
    "    if p == ancien_p:\n",
    "        print(\"veuillez ne pas réutiliser votre ancien mot de passe\")\n",
    "        p_valid = False\n",
    "    if p_valid:\n",
    "        print(\"Mot de passe valide.\")\n",
    "    return p_valid\n",
    "ancien_p = \"\"\n",
    "p = input_password()\n",
    "p_valid = password_check(p, ancien_p)\n",
    "while not p_valid:\n",
    "    p = input_password()\n",
    "    p_valid = password_check(p, ancien_p)\n",
    "    "
   ]
  },
  {
   "cell_type": "markdown",
   "metadata": {
    "id": "nu6wbxZnc2vL"
   },
   "source": [
    "## EX05\n",
    "### To do list\n",
    "1. Créez une fonction (`to_do_list()`) qui demande à l'utilisateur de choisir parmis 5 options\n",
    "    1. Ajouter un élément à la to do list\n",
    "    2. Retirer un élément de la to do list\n",
    "    3. Afficher les éléments de la to do list\n",
    "    4. Vider la to do list\n",
    "    5. Quitter le programme\n",
    "2. L'utilisateur doit entrer un nombre (entre 1 et 5) pour choisir l'option souhaité \n",
    "    * Vous devez verifier que l'input est un nombre\n",
    "    * Vous devez verifier que l'input est entre 1 et 5\n",
    "\n",
    "3. Implementez chancune des options de la fonction 😃\n",
    "\n",
    "3. Exemple de run du code ci dessous 👇"
   ]
  },
  {
   "cell_type": "code",
   "execution_count": 79,
   "metadata": {
    "colab": {
     "base_uri": "https://localhost:8080/"
    },
    "id": "FqgwJj-2USlc",
    "outputId": "8161f044-f38d-449c-c745-51350373eb8c"
   },
   "outputs": [
    {
     "name": "stdout",
     "output_type": "stream",
     "text": [
      "1. Ajouter un élément à la to do list\n",
      "2. Retirer un élément de la to do list\n",
      "3. Afficher les éléments de la to do list \n",
      "4. Vider la to do list\n",
      "5.Quitter le programme\n",
      "1\n",
      "\n",
      "Veuillez saisir l'élément à ajouter : test\n",
      "1. Ajouter un élément à la to do list\n",
      "2. Retirer un élément de la to do list\n",
      "3. Afficher les éléments de la to do list \n",
      "4. Vider la to do list\n",
      "5.Quitter le programme\n",
      "3\n",
      "To do list:\n",
      "1. test\n",
      "1. Ajouter un élément à la to do list\n",
      "2. Retirer un élément de la to do list\n",
      "3. Afficher les éléments de la to do list \n",
      "4. Vider la to do list\n",
      "5.Quitter le programme\n",
      "2\n",
      "\n",
      "Veuillez saisir le numéro de l'élément à supprimer : 1\n",
      "1. Ajouter un élément à la to do list\n",
      "2. Retirer un élément de la to do list\n",
      "3. Afficher les éléments de la to do list \n",
      "4. Vider la to do list\n",
      "5.Quitter le programme\n",
      "3\n",
      "To do list:\n",
      "1. Ajouter un élément à la to do list\n",
      "2. Retirer un élément de la to do list\n",
      "3. Afficher les éléments de la to do list \n",
      "4. Vider la to do list\n",
      "5.Quitter le programme\n",
      "1\n",
      "\n",
      "Veuillez saisir l'élément à ajouter : test2\n",
      "1. Ajouter un élément à la to do list\n",
      "2. Retirer un élément de la to do list\n",
      "3. Afficher les éléments de la to do list \n",
      "4. Vider la to do list\n",
      "5.Quitter le programme\n",
      "4\n",
      "Liste vidée\n",
      "1. Ajouter un élément à la to do list\n",
      "2. Retirer un élément de la to do list\n",
      "3. Afficher les éléments de la to do list \n",
      "4. Vider la to do list\n",
      "5.Quitter le programme\n",
      "3\n",
      "To do list:\n",
      "1. Ajouter un élément à la to do list\n",
      "2. Retirer un élément de la to do list\n",
      "3. Afficher les éléments de la to do list \n",
      "4. Vider la to do list\n",
      "5.Quitter le programme\n",
      "5\n",
      "Fin du programme\n"
     ]
    }
   ],
   "source": [
    "def to_do_list():\n",
    "    list = []\n",
    "    stop = False\n",
    "    while not stop:\n",
    "        choix = input(\"1. Ajouter un élément à la to do list\\n2. Retirer un élément de la to do list\\n3. Afficher les éléments de la to do list \\n4. Vider la to do list\\n5.Quitter le programme\\n\")\n",
    "        while not choix.isdigit() or int(choix) > 5 or int(choix) < 1:\n",
    "            print(\"Veuillez choisir un numéro d'un choix existant\")\n",
    "            choix = input(\"1. Ajouter un élément à la to do list\\n2. Retirer un élément de la to do list\\n3. Afficher les éléments de la to do list \\n4. Vider la to do list\\n5.Quitter le programme\\n\")\n",
    "        choix = int(choix)\n",
    "        if choix == 1:\n",
    "            element = input(\"\\nVeuillez saisir l'élément à ajouter : \")\n",
    "            list.append(element)\n",
    "        if choix == 2:\n",
    "            element = input(\"\\nVeuillez saisir le numéro de l'élément à supprimer : \")\n",
    "            while not element.isdigit() or int(element) > len(list):\n",
    "                element = input(\"\\nVeuillez saisir le numéro d'un élément existant à supprimer : \")\n",
    "            list.pop(int(element)-1)\n",
    "        if choix == 3:\n",
    "            print(\"To do list:\")\n",
    "            i = 1\n",
    "            for element in list:\n",
    "                print(f\"{i}. {element}\")\n",
    "                i+=1\n",
    "        if choix == 4:\n",
    "            list.clear()\n",
    "            print(\"Liste vidée\")\n",
    "        if choix == 5:\n",
    "            print(\"Fin du programme\")\n",
    "            stop = True\n",
    "            break\n",
    "        \n",
    "to_do_list()"
   ]
  },
  {
   "cell_type": "code",
   "execution_count": null,
   "metadata": {
    "id": "ixKJ8w3Wvmuq"
   },
   "outputs": [],
   "source": [
    "##"
   ]
  },
  {
   "cell_type": "markdown",
   "metadata": {
    "id": "XdJvMT9xVoRS"
   },
   "source": [
    "# Bonus (Mandatory)\n",
    "\n",
    "\n"
   ]
  },
  {
   "cell_type": "markdown",
   "metadata": {
    "id": "94-12vgPXG10"
   },
   "source": [
    "## Github\n",
    "Pour soumettre votre travail: \n",
    "\n",
    "1.   Commit changes to a branch and push to [github](https://google.com)\n",
    "2.   Create pull request / merge request\n"
   ]
  }
 ],
 "metadata": {
  "colab": {
   "collapsed_sections": [
    "Y1g4EgT41MqJ",
    "SHsrGdy-5AZK",
    "W3BGjEYaf2UQ"
   ],
   "include_colab_link": true,
   "provenance": []
  },
  "kernelspec": {
   "display_name": "Python 3.9.13 64-bit",
   "language": "python",
   "name": "python3"
  },
  "language_info": {
   "codemirror_mode": {
    "name": "ipython",
    "version": 3
   },
   "file_extension": ".py",
   "mimetype": "text/x-python",
   "name": "python",
   "nbconvert_exporter": "python",
   "pygments_lexer": "ipython3",
   "version": "3.9.13"
  },
  "vscode": {
   "interpreter": {
    "hash": "52634da84371cba311ea128a5ea7cdc41ff074b781779e754b270ff9f8153cee"
   }
  }
 },
 "nbformat": 4,
 "nbformat_minor": 1
}
