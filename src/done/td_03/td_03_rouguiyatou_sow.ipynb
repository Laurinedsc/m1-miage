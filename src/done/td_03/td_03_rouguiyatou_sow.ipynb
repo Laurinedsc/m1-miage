{
 "cells": [
  {
   "cell_type": "markdown",
   "metadata": {
    "colab_type": "text",
    "id": "view-in-github"
   },
   "source": [
    "<a href=\"https://colab.research.google.com/github/lapointe05/m1-miage/blob/main/M1_MIAGE_TD_03.ipynb\" target=\"_parent\"><img src=\"https://colab.research.google.com/assets/colab-badge.svg\" alt=\"Open In Colab\"/></a>"
   ]
  },
  {
   "cell_type": "markdown",
   "metadata": {
    "id": "597Hu82gSNCZ"
   },
   "source": [
    "<img src=\"https://upload.wikimedia.org/wikipedia/fr/0/0b/Polytech_Lyon_logo.png\" alt=\"drawing\" height=\"200\"/>\n",
    "\n",
    "# Algorithmique Avancée & Programmation en Python\n",
    "---\n",
    "\n"
   ]
  },
  {
   "cell_type": "markdown",
   "metadata": {
    "id": "EA-XK862WiMt"
   },
   "source": [
    "# TD 03\n",
    "\n",
    "Intro aux traitement de données\n",
    "\n",
    "```python\n",
    "print(\"Hello, friend! It's been a while...\")\n",
    "```\n",
    " \n",
    "Elements à consulter:\n",
    "\n",
    "\n",
    "Doc                                   |             Link\n",
    "--------------------------------------|------------------------------------\n",
    "Python en 30 jours | [>link<](https://moncoachdata.com/courses/apprendre-python-en-30-jours/)\n",
    "Get started with pandas | [>link<](https://colab.research.google.com/notebooks/snippets/pandas.ipynb)"
   ]
  },
  {
   "cell_type": "markdown",
   "metadata": {
    "id": "Y1g4EgT41MqJ"
   },
   "source": [
    "## Intro\n",
    "\n",
    "Le premier bloc devrait toujours contenir les installs/imports dont on aura besoin pour le reste"
   ]
  },
  {
   "cell_type": "code",
   "execution_count": 1,
   "metadata": {
    "colab": {
     "base_uri": "https://localhost:8080/"
    },
    "id": "yjiE8c51VoT0",
    "outputId": "88029a55-7ea9-4945-f975-2bdea0d2be95"
   },
   "outputs": [],
   "source": [
    "# Installs\n",
    "!pip install emoji --quiet"
   ]
  },
  {
   "cell_type": "code",
   "execution_count": 2,
   "metadata": {
    "colab": {
     "base_uri": "https://localhost:8080/"
    },
    "id": "JhT-50uwz72F",
    "outputId": "3e6b6a89-5efe-4122-9274-710c2d526432"
   },
   "outputs": [
    {
     "name": "stdout",
     "output_type": "stream",
     "text": [
      "Python is awesome 👍\n"
     ]
    }
   ],
   "source": [
    "# Imports\n",
    "import os\n",
    "import json\n",
    "from random import randint\n",
    "# import pandas as pd\n",
    "# import numpy as np\n",
    "from getpass import getpass\n",
    "import emoji\n",
    "\n",
    "print(emoji.emojize('Python is awesome :thumbs_up:'))"
   ]
  },
  {
   "cell_type": "markdown",
   "metadata": {
    "id": "5jpD7nr9NrKR"
   },
   "source": [
    "##EX01\n",
    "### Révision boucles / compréhension de listes\n",
    "\n",
    "Avec l'usage de la boucle `for`, répondez aux questions ci-dessous\n",
    "\n",
    "\n",
    "> PS: Code pris et modifié à partir d'exo sur github"
   ]
  },
  {
   "cell_type": "code",
   "execution_count": 3,
   "metadata": {
    "id": "8p4JXCtEyQBX"
   },
   "outputs": [
    {
     "name": "stdout",
     "output_type": "stream",
     "text": [
      "[44, 4, 38]\n",
      "[0, 1, 2, 3, 4, 5, 6, 7, 8, 9]\n",
      "[0, 2, 4, 6, 8]\n"
     ]
    }
   ],
   "source": [
    "##############################################################\n",
    "nombres = [1, 21, 5, 44, 4, 9, 5, 83, 29, 31, 25, 38]\n",
    "nombres_pairs =[] \n",
    "for x in nombres:\n",
    "    if x%2==0:\n",
    "         nombres_pairs.append(x)\n",
    "\n",
    "print(nombres_pairs)\n",
    "\n",
    "##############################################################\n",
    "\n",
    "nombres = range(-10, 10)\n",
    "nombres_positifs = []\n",
    "for x in nombres:\n",
    "    if x>=0:\n",
    "        nombres_positifs.append(x)\n",
    "print(nombres_positifs)\n",
    "\n",
    "##############################################################\n",
    "\n",
    "nombres = range(5)\n",
    "nombres_x2 = []\n",
    "for x in nombres:\n",
    "    x=x*2\n",
    "    nombres_x2.append(x)\n",
    "print(nombres_x2)"
   ]
  },
  {
   "cell_type": "markdown",
   "metadata": {
    "id": "BQBEhammPFtE"
   },
   "source": [
    "### PART 2\n",
    "Changez le code ci-dessus, et remplacez les blocs `for` par des [compréhensions de listes](https://duckduckgo.com/?q=list+comprehension+python)"
   ]
  },
  {
   "cell_type": "code",
   "execution_count": null,
   "metadata": {
    "id": "zlMvZFGcPEAG"
   },
   "outputs": [],
   "source": []
  },
  {
   "cell_type": "markdown",
   "metadata": {
    "id": "cN_XcFu1dG5V"
   },
   "source": [
    "##EX02\n",
    "### Les sets\n",
    "\n",
    "  1. Créez un `set` vide et attribuez-le à une variable.\n",
    "  2. Ajoutez trois éléments à votre ensemble vide en utilisant soit plusieurs appels `add`, soit un seul appel de `update`.\n",
    "\n",
    "  3. Créez un deuxième `set` qui comprend au moins un élément commun avec le premier ensemble.\n",
    "\n",
    "  4. Trouvez l’union, la différence et l’intersection des deux `set`. >>\n",
    "Imprimez les résultats de chaque opération.\n",
    "\n",
    "  5. Créez une `set` de nombres en utilisant `range()`, puis demandez à l’utilisateur d’entrer un nombre. Indiquez à l’utilisateur si son nombre se situe ou non dans la plage de valeurs que vous avez spécifiée.\n",
    "\n",
    ">Bonus: \n",
    ">>Indiquer à l’utilisateur si son nombre était trop élevé ou trop bas."
   ]
  },
  {
   "cell_type": "code",
   "execution_count": 4,
   "metadata": {
    "id": "yzbCm94SwV6g"
   },
   "outputs": [
    {
     "name": "stdout",
     "output_type": "stream",
     "text": [
      "{'rose', 'ali', 'baba'}\n",
      "{'rose', 'thomas', 'victor'}\n",
      "{'victor', 'rose', 'ali', 'thomas', 'baba'}\n",
      "{'rose'}\n",
      "{'ali', 'baba'}\n",
      "{0, 1, 2, 3, 4, 5, 6, 7, 8, 9}\n",
      "Donner un nombre entier:3\n",
      " bien trouvé!\n"
     ]
    }
   ],
   "source": [
    "# Code here\n",
    "s1=set()\n",
    "s1.update([\"rose\",\"ali\",\"baba\"])\n",
    "print(s1)\n",
    "s2=set()\n",
    "s2.update([\"rose\",\"victor\",\"thomas\"])\n",
    "print(s2)\n",
    "s3=set()\n",
    "s3 = s1.union(s2)\n",
    "print(s3)\n",
    "s4=s1.intersection(s2)\n",
    "print(s4)\n",
    "s5=s1.difference(s2)\n",
    "print(s5)\n",
    "s=set(range(10))\n",
    "print(s)\n",
    "nbr=int(input(\"Donner un nombre entier:\"))\n",
    "if nbr in s:\n",
    "    print(\" bien trouvé!\" )\n",
    "else:\n",
    "    print(\"non trouvé\")\n",
    "\n",
    "\n"
   ]
  },
  {
   "cell_type": "code",
   "execution_count": null,
   "metadata": {},
   "outputs": [],
   "source": []
  },
  {
   "cell_type": "markdown",
   "metadata": {
    "id": "SHsrGdy-5AZK"
   },
   "source": [
    "## EX03\n",
    "### Revision listes\n",
    "1. Créez une liste de séries (`binge_watch_list`) contenant un seul tuple. Le tuple doit contenir le titre de la série, la plateforme de streaming (légal), le nombre d'épisodes de la série, l'année de sortie et une note /10.\n",
    "\n",
    "2. Créez une fonction (`input_series`) qui receuil des informations sur d'autres séries à l'aide de la fonction native `input`. Et nous retourne un tuple. \\n\n",
    "Tout les champs sont obligatoires.\n",
    "\n",
    "4. Utilisez `f-string` pour imprimer le nom et l’année de sortie de la série qu'on vient d'input.\n",
    "\n",
    "3. Alimenter la liste (`binge_watch_list`) avec le retour de la fonction (`input_series`) \\n\n",
    "Assurez vous que l'ordre des champs soit le même que dans (`binge_watch_list`).\n",
    "\n",
    "\n",
    "5. Afficher le nom et l’année de sortie de toutes les séries dans `binge_watch_list`.\n",
    "\n",
    "> Bonus:\n",
    "\n",
    "6. Supprimez la série la moins bien noté de `binge_watch_list`. Utilisez la méthode de votre choix."
   ]
  },
  {
   "cell_type": "code",
   "execution_count": 5,
   "metadata": {
    "id": "jIatRWhm5Xzo"
   },
   "outputs": [
    {
     "name": "stdout",
     "output_type": "stream",
     "text": [
      "Donnez le titre de la série:a\n",
      "Donnez la plateforme de streaming:b\n",
      "Donnez le nombre d'épisodes de la série:c\n",
      "Donnez l'année de sortie:d\n",
      "Donnez la note:e\n",
      "('a', 'b', 'c', 'd', 'e')\n",
      "titre de la serie : a et annee de sortie: d \n",
      "(('top boy', 'netflix', '21', '2019', '9'), ('upload', 'amazon prime', '21', '2020', '7'), ('ma famille dabord', 'dysney', '123', '2001', '8'), ('a', 'b', 'c', 'd', 'e'))\n",
      "nom:top boy et annee:2019\n",
      "nom:upload et annee:2020\n",
      "nom:ma famille dabord et annee:2001\n",
      "nom:a et annee:d\n"
     ]
    }
   ],
   "source": [
    "# Code here\n",
    "binge_watch_list=((\"top boy\",\"netflix\",\"21\",\"2019\",\"9\"),\n",
    "                 (\"upload\",\"amazon prime\",\"21\",\"2020\",\"7\"),\n",
    "                 (\"ma famille dabord\",\"dysney\",\"123\",\"2001\",\"8\"),)\n",
    "#print(binge_watch_list)\n",
    "def input_series():\n",
    "    global titre,annee,res\n",
    "    titre=input(\"Donnez le titre de la série:\")\n",
    "    plateforme=input(\"Donnez la plateforme de streaming:\")\n",
    "    episodes=input(\"Donnez le nombre d\\'épisodes de la série:\")\n",
    "    annee=input(\"Donnez l'année de sortie:\")\n",
    "    note=input(\"Donnez la note:\")\n",
    "    res=(titre,plateforme,episodes,annee,note)\n",
    "    return res\n",
    "\n",
    "input_series()\n",
    "print(res)\n",
    "print(f'titre de la serie : {titre} et annee de sortie: {annee} ')\n",
    "'''binge_watch_list=binge_watch_list+(res)\n",
    "print(binge_watch_list)\n",
    "print(binge_watch_list[4])'''\n",
    "l=list(binge_watch_list)\n",
    "l.insert(len(l),res)\n",
    "t=tuple(l)\n",
    "print(t)\n",
    "for x in t:\n",
    "    nom=x[0]\n",
    "    annee=x[3]\n",
    "    print(f'nom:{nom} et annee:{annee}')\n",
    "\n",
    "\n",
    "\n",
    "\n",
    "\n"
   ]
  },
  {
   "cell_type": "markdown",
   "metadata": {
    "id": "-Zrebyjbxb89"
   },
   "source": [
    "Transformer le code ci-dessous de liste a dictionnaire"
   ]
  },
  {
   "cell_type": "code",
   "execution_count": null,
   "metadata": {
    "id": "wqwmWD1HxfKF"
   },
   "outputs": [],
   "source": []
  },
  {
   "cell_type": "markdown",
   "metadata": {
    "id": "W3BGjEYaf2UQ"
   },
   "source": [
    "## EX04\n",
    "### Révision strings / fonctions\n",
    "Implementer deux fonctions `input_password()` & `password_check(x)` qui :\n",
    "\n",
    "1. `input_password()` fait:\n",
    "    * Demande à l'utilisateur un mot de passe d'au moins 8 caractères, 12 c'est mieux.\n",
    "    * retourne ce dernier\n",
    "\n",
    "2. `password_check(x)` verifie:\n",
    "\n",
    "    * print `mot de passe trop court!` **avec une majuscule sur la première lettre** si la longueur du mot de passe entré est `plus petite que 8`.\n",
    "\n",
    "    * Verifier que le mot de passe soit une combinaison de `lettres majuscules, de lettres minuscules, de chiffres et de symboles.` \n",
    "    > Si le mot de passe manque de répondre à une condition, l'afficher à l'utilisateur\n",
    "\n",
    "    *  Afficher la phrase `\"Mot de passe valide.\"` si le mot de passe répond à **toutes les conditions**.\n",
    "\n",
    "> bonus \n",
    "\n",
    "* Verifier qu'un même mot de passe ne peut pas etre saisie deux fois, ex. utiliser une variable `previous_password`"
   ]
  },
  {
   "cell_type": "code",
   "execution_count": 30,
   "metadata": {
    "colab": {
     "base_uri": "https://localhost:8080/",
     "height": 53
    },
    "id": "FS2OxAtBf1tB",
    "outputId": "c29ca3c4-258f-4a5f-9496-ef14df6508aa"
   },
   "outputs": [
    {
     "name": "stdout",
     "output_type": "stream",
     "text": [
      "Veuillez entrer votre mot de passe: ········\n",
      "votre premiere lettre n'est pas en majuscule!\n",
      "vote mot de passe n'a pas de lettre minuscule!\n"
     ]
    },
    {
     "data": {
      "text/plain": [
       "'&SRZHJJfhdf'"
      ]
     },
     "execution_count": 30,
     "metadata": {},
     "output_type": "execute_result"
    }
   ],
   "source": [
    "# Start from this\n",
    "p = getpass(\"Veuillez entrer votre mot de passe: \")\n",
    "p\n",
    "\n",
    "def input_password():\n",
    "    if len(p)<8:\n",
    "        print(\"Mot de passe trop court!\")\n",
    "    return p\n",
    "\n",
    "input_password()\n",
    "def passwordcheck(x):\n",
    "    if p[0].isupper()==False:\n",
    "        print(\"votre premiere lettre n'est pas en majuscule!\")\n",
    "    for x in p:\n",
    "        if(x.isalpha()==False):\n",
    "            print(\"vote mot de passe n'a pas de lettre minuscule!\")\n",
    "            break\n",
    "        if(x.isdigit()==False):\n",
    "            print(\"vote mot de passe n'a pas de chiffre!\")\n",
    "            break\n",
    "        if x==\"@\" | x==\"&\" | x==\"!\" |x==\"#\" | x==\"$\":\n",
    "            print(\"Mot de passe Valide!\")\n",
    "        else:\n",
    "            print(\"Mot de passe sans caractéres spéciaux!\")\n",
    "    return p\n",
    "                \n",
    "    \n",
    "passwordcheck(p)\n",
    "        \n",
    "\n",
    "    "
   ]
  },
  {
   "cell_type": "code",
   "execution_count": null,
   "metadata": {},
   "outputs": [],
   "source": []
  },
  {
   "cell_type": "code",
   "execution_count": null,
   "metadata": {
    "colab": {
     "base_uri": "https://localhost:8080/"
    },
    "id": "FqgwJj-2USlc",
    "outputId": "8161f044-f38d-449c-c745-51350373eb8c"
   },
   "outputs": [],
   "source": []
  },
  {
   "cell_type": "code",
   "execution_count": null,
   "metadata": {
    "id": "ixKJ8w3Wvmuq"
   },
   "outputs": [],
   "source": [
    "##"
   ]
  },
  {
   "cell_type": "markdown",
   "metadata": {
    "id": "XdJvMT9xVoRS"
   },
   "source": [
    "# Bonus (Mandatory)\n",
    "\n",
    "\n"
   ]
  },
  {
   "cell_type": "markdown",
   "metadata": {
    "id": "94-12vgPXG10"
   },
   "source": [
    "## Github\n",
    "Pour soumettre votre travail: \n",
    "\n",
    "1.   Commit changes to a branch and push to [github](https://google.com)\n",
    "2.   Create pull request / merge request\n"
   ]
  }
 ],
 "metadata": {
  "colab": {
   "collapsed_sections": [
    "Y1g4EgT41MqJ",
    "SHsrGdy-5AZK",
    "W3BGjEYaf2UQ"
   ],
   "include_colab_link": true,
   "provenance": []
  },
  "kernelspec": {
   "display_name": "Python 3 (ipykernel)",
   "language": "python",
   "name": "python3"
  },
  "language_info": {
   "codemirror_mode": {
    "name": "ipython",
    "version": 3
   },
   "file_extension": ".py",
   "mimetype": "text/x-python",
   "name": "python",
   "nbconvert_exporter": "python",
   "pygments_lexer": "ipython3",
   "version": "3.9.13"
  }
 },
 "nbformat": 4,
 "nbformat_minor": 1
}
