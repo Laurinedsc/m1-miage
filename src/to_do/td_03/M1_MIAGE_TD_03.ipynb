{
 "cells": [
  {
   "cell_type": "markdown",
   "metadata": {
    "colab_type": "text",
    "id": "view-in-github"
   },
   "source": [
    "###### <a href=\"https://colab.research.google.com/github/lapointe05/m1-miage/blob/main/M1_MIAGE_TD_03.ipynb\" target=\"_parent\"><img src=\"https://colab.research.google.com/assets/colab-badge.svg\" alt=\"Open In Colab\"/></a>"
   ]
  },
  {
   "cell_type": "markdown",
   "metadata": {
    "id": "597Hu82gSNCZ"
   },
   "source": [
    "<img src=\"https://upload.wikimedia.org/wikipedia/fr/0/0b/Polytech_Lyon_logo.png\" alt=\"drawing\" height=\"200\"/>\n",
    "\n",
    "# Algorithmique Avancée & Programmation en Python\n",
    "---\n",
    "\n"
   ]
  },
  {
   "cell_type": "markdown",
   "metadata": {
    "id": "EA-XK862WiMt"
   },
   "source": [
    "# TD 03\n",
    "\n",
    "Intro aux traitement de données\n",
    "\n",
    "```python\n",
    "print(\"Hello, friend! It's been a while...\")\n",
    "```\n",
    " \n",
    "Elements à consulter:\n",
    "\n",
    "\n",
    "Doc                                   |             Link\n",
    "--------------------------------------|------------------------------------\n",
    "Python en 30 jours | [>link<](https://moncoachdata.com/courses/apprendre-python-en-30-jours/)\n",
    "Get started with pandas | [>link<](https://colab.research.google.com/notebooks/snippets/pandas.ipynb)"
   ]
  },
  {
   "cell_type": "markdown",
   "metadata": {
    "id": "Y1g4EgT41MqJ"
   },
   "source": [
    "## Intro\n",
    "\n",
    "Le premier bloc devrait toujours contenir les installs/imports dont on aura besoin pour le reste"
   ]
  },
  {
   "cell_type": "code",
   "execution_count": 6,
   "metadata": {
    "colab": {
     "base_uri": "https://localhost:8080/"
    },
    "id": "yjiE8c51VoT0",
    "outputId": "88029a55-7ea9-4945-f975-2bdea0d2be95"
   },
   "outputs": [],
   "source": [
    "# Installs\n",
    "!pip install emoji --quiet"
   ]
  },
  {
   "cell_type": "code",
   "execution_count": 7,
   "metadata": {
    "colab": {
     "base_uri": "https://localhost:8080/"
    },
    "id": "JhT-50uwz72F",
    "outputId": "3e6b6a89-5efe-4122-9274-710c2d526432"
   },
   "outputs": [
    {
     "name": "stdout",
     "output_type": "stream",
     "text": [
      "Python is awesome 👍\n"
     ]
    }
   ],
   "source": [
    "# Imports\n",
    "import os\n",
    "import json\n",
    "from random import randint\n",
    "# import pandas as pd\n",
    "# import numpy as np\n",
    "from getpass import getpass\n",
    "import emoji\n",
    "\n",
    "print(emoji.emojize('Python is awesome :thumbs_up:'))"
   ]
  },
  {
   "cell_type": "markdown",
   "metadata": {
    "id": "5jpD7nr9NrKR"
   },
   "source": [
    "##EX01\n",
    "### Révision boucles / compréhension de listes\n",
    "\n",
    "Avec l'usage de la boucle `for`, répondez aux questions ci-dessous\n",
    "\n",
    "\n",
    "> PS: Code pris et modifié à partir d'exo sur github"
   ]
  },
  {
   "cell_type": "code",
   "execution_count": 15,
   "metadata": {
    "id": "8p4JXCtEyQBX"
   },
   "outputs": [
    {
     "name": "stdout",
     "output_type": "stream",
     "text": [
      "Nombre impair : 1\n",
      "Nombre impair : 21\n",
      "Nombre impair : 5\n",
      "Nombre pair : 44\n",
      "Nombre pair : 4\n",
      "Nombre impair : 9\n",
      "Nombre impair : 5\n",
      "Nombre impair : 83\n",
      "Nombre impair : 29\n",
      "Nombre impair : 31\n",
      "Nombre impair : 25\n",
      "Nombre pair : 38\n",
      "[44, 4, 38]\n",
      "Nombre négatif : -10\n",
      "Nombre négatif : -9\n",
      "Nombre négatif : -8\n",
      "Nombre négatif : -7\n",
      "Nombre négatif : -6\n",
      "Nombre négatif : -5\n",
      "Nombre négatif : -4\n",
      "Nombre négatif : -3\n",
      "Nombre négatif : -2\n",
      "Nombre négatif : -1\n",
      "Nombre positif : 0\n",
      "Nombre positif : 1\n",
      "Nombre positif : 2\n",
      "Nombre positif : 3\n",
      "Nombre positif : 4\n",
      "Nombre positif : 5\n",
      "Nombre positif : 6\n",
      "Nombre positif : 7\n",
      "Nombre positif : 8\n",
      "Nombre positif : 9\n",
      "[0, 1, 2, 3, 4, 5, 6, 7, 8, 9]\n",
      "Nombre d'origine : 0\n",
      "Nombre final : 0\n",
      "Nombre d'origine : 1\n",
      "Nombre final : 2\n",
      "Nombre d'origine : 2\n",
      "Nombre final : 4\n",
      "Nombre d'origine : 3\n",
      "Nombre final : 6\n",
      "Nombre d'origine : 4\n",
      "Nombre final : 8\n",
      "[0, 2, 4, 6, 8]\n"
     ]
    }
   ],
   "source": [
    "##############################################################\n",
    "nombres = [1, 21, 5, 44, 4, 9, 5, 83, 29, 31, 25, 38]\n",
    "nombres_pairs = []\n",
    "\n",
    "#Display the even and odd numbers\n",
    "for i in nombres:\n",
    "    if (i % 2) == 0 :\n",
    "        print(f\"Nombre pair : {i}\")\n",
    "        nombres_pairs.append(i)\n",
    "    else:\n",
    "        print(f\"Nombre impair : {i}\")\n",
    "\n",
    "print(nombres_pairs)\n",
    "\n",
    "##############################################################\n",
    "\n",
    "nombres = range(-10, 10)\n",
    "nombres_positifs = []\n",
    "\n",
    "#Display the positive numbers from -10 to 9\n",
    "for i in range(-10, 10):\n",
    "    if i >= 0 :\n",
    "        print(f\"Nombre positif : {i}\")\n",
    "        nombres_positifs.append(i)\n",
    "    else:\n",
    "        print(f\"Nombre négatif : {i}\") \n",
    "\n",
    "print(nombres_positifs)\n",
    "\n",
    "##############################################################\n",
    "\n",
    "nombres = range(5)\n",
    "nombres_x2 = []\n",
    "\n",
    "#Multiplie by 2 the given numbers\n",
    "for i in nombres:\n",
    "    print(f\"Nombre d'origine : {i}\")\n",
    "    print(f\"Nombre final : {i*2}\")\n",
    "    nombres_x2.append(i*2)\n",
    "    \n",
    "print(nombres_x2)"
   ]
  },
  {
   "cell_type": "markdown",
   "metadata": {
    "id": "BQBEhammPFtE"
   },
   "source": [
    "### PART 2\n",
    "Changez le code ci-dessus, et remplacez les blocs `for` par des [compréhensions de listes](https://duckduckgo.com/?q=list+comprehension+python)"
   ]
  },
  {
   "cell_type": "code",
   "execution_count": 22,
   "metadata": {
    "id": "zlMvZFGcPEAG"
   },
   "outputs": [
    {
     "name": "stdout",
     "output_type": "stream",
     "text": [
      "[44, 4, 38]\n",
      "[-10, -9, -8, -7, -6, -5, -4, -3, -2, -1, 0, 1, 2, 3, 4, 5, 6, 7, 8, 9]\n",
      "[0, 2, 4, 6, 8]\n"
     ]
    }
   ],
   "source": [
    "##############################################################\n",
    "nombres = [1, 21, 5, 44, 4, 9, 5, 83, 29, 31, 25, 38]\n",
    "nombres_pairs = []\n",
    "\n",
    "#Same as Part 1 but with lists\n",
    "nombres_pairs = [nb for nb in nombres if nb % 2 == 0]\n",
    "\n",
    "print(nombres_pairs)\n",
    "\n",
    "##############################################################\n",
    "\n",
    "nombres = range(-10, 10)\n",
    "nombres_positifs = []\n",
    "\n",
    "#Same as Part 1 but with lists\n",
    "nombres_positifs = [nb for nb in nombres if nb >= 0]\n",
    "\n",
    "print(nombres_positifs)\n",
    "\n",
    "##############################################################\n",
    "\n",
    "nombres = range(5)\n",
    "nombres_x2 = []\n",
    "\n",
    "#Same as Part 1 but with lists\n",
    "nombres_x2 = [nb*2 for nb in nombres]\n",
    "    \n",
    "print(nombres_x2)"
   ]
  },
  {
   "cell_type": "markdown",
   "metadata": {
    "id": "cN_XcFu1dG5V"
   },
   "source": [
    "##EX02\n",
    "### Les sets\n",
    "\n",
    "  1. Créez un `set` vide et attribuez-le à une variable.\n",
    "  2. Ajoutez trois éléments à votre ensemble vide en utilisant soit plusieurs appels `add`, soit un seul appel de `update`.\n",
    "\n",
    "  3. Créez un deuxième `set` qui comprend au moins un élément commun avec le premier ensemble.\n",
    "\n",
    "  4. Trouvez l’union, la différence et l’intersection des deux `set`. >>\n",
    "Imprimez les résultats de chaque opération.\n",
    "\n",
    "  5. Créez une `set` de nombres en utilisant `range()`, puis demandez à l’utilisateur d’entrer un nombre. Indiquez à l’utilisateur si son nombre se situe ou non dans la plage de valeurs que vous avez spécifiée.\n",
    "\n",
    ">Bonus: \n",
    ">>Indiquer à l’utilisateur si son nombre était trop élevé ou trop bas."
   ]
  },
  {
   "cell_type": "code",
   "execution_count": 35,
   "metadata": {
    "id": "yzbCm94SwV6g"
   },
   "outputs": [
    {
     "name": "stdout",
     "output_type": "stream",
     "text": [
      "Magnifique set : {'Hunter x Hunter', 'Full Metal Alchemist : Brotherhood', 'DanMachi'}\n",
      "Incroyable set : {'Hunter x Hunter', 'Kuroko no Basket', 'Code Geass'}\n",
      "Union : {'Hunter x Hunter', 'Full Metal Alchemist : Brotherhood', 'Kuroko no Basket', 'Code Geass', 'DanMachi'}\n",
      "Difference : {'DanMachi', 'Full Metal Alchemist : Brotherhood'}\n",
      "Intersection : {'Hunter x Hunter'}\n",
      "Entrez un nombre3\n",
      "Chiffre en dehors de l'intervalle\n",
      "Sublime set : {0, 1, 2, 3, 4}\n"
     ]
    }
   ],
   "source": [
    "# Code here\n",
    "#1 Creates a set\n",
    "magnifiqueset = set()\n",
    "\n",
    "#2 Fills a set with excellent japanese animations\n",
    "for i in {\"Hunter x Hunter\", \"DanMachi\", \"Full Metal Alchemist : Brotherhood\"}:\n",
    "    magnifiqueset.add(i)\n",
    "    \n",
    "print(f\"Magnifique set : {magnifiqueset}\")\n",
    "\n",
    "#3 Fills a second set with incredible animations from Japan\n",
    "incroyableset = set()\n",
    "for i in {\"Hunter x Hunter\", \"Code Geass\",\"Kuroko no Basket\"}:\n",
    "    incroyableset.add(i)\n",
    "    \n",
    "print(f\"Incroyable set : {incroyableset}\")\n",
    "\n",
    "#4 Makes the union, the difference and the intersection between the gorgeous and the incredible sets\n",
    "union = magnifiqueset.union(incroyableset)\n",
    "print(f\"Union : {union}\")\n",
    "    \n",
    "diff = magnifiqueset.difference(incroyableset)\n",
    "print(f\"Difference : {diff}\")\n",
    "\n",
    "inter = magnifiqueset.intersection(incroyableset)\n",
    "print(f\"Intersection : {inter}\")\n",
    "\n",
    "#5 Creates and fills a sublim set with numbers in a certain range and asks the user a number.\n",
    "#Then, tells if the given number is inside the set or not\n",
    "sublimeset = set()\n",
    "sublimeset.update(range(0,5))\n",
    "\n",
    "nb = input(\"Entrez un nombre : \")\n",
    "\n",
    "if nb in sublimeset:\n",
    "    print(\"Chiffre compris dans l'intervalle\")\n",
    "else:\n",
    "    print(\"Chiffre en dehors de l'intervalle\")\n",
    "\n",
    "print(f\"Sublime set : {sublimeset}\")"
   ]
  },
  {
   "cell_type": "markdown",
   "metadata": {
    "id": "SHsrGdy-5AZK"
   },
   "source": [
    "## EX03\n",
    "### Revision listes\n",
    "1. Créez une liste de séries (`binge_watch_list`) contenant un seul tuple. Le tuple doit contenir le titre de la série, la plateforme de streaming (légal), le nombre d'épisodes de la série, l'année de sortie et une note /10.\n",
    "\n",
    "2. Créez une fonction (`input_series`) qui receuil des informations sur d'autres séries à l'aide de la fonction native `input`. Et nous retourne un tuple. \\n\n",
    "Tout les champs sont obligatoires.\n",
    "\n",
    "4. Utilisez `f-string` pour imprimer le nom et l’année de sortie de la série qu'on vient d'input.\n",
    "\n",
    "3. Alimenter la liste (`binge_watch_list`) avec le retour de la fonction (`input_series`) \\n\n",
    "Assurez vous que l'ordre des champs soit le même que dans (`binge_watch_list`).\n",
    "\n",
    "\n",
    "5. Afficher le nom et l’année de sortie de toutes les séries dans `binge_watch_list`.\n",
    "\n",
    "> Bonus:\n",
    "\n",
    "6. Supprimez la série la moins bien noté de `binge_watch_list`. Utilisez la méthode de votre choix."
   ]
  },
  {
   "cell_type": "code",
   "execution_count": 22,
   "metadata": {
    "id": "jIatRWhm5Xzo"
   },
   "outputs": [
    {
     "name": "stdout",
     "output_type": "stream",
     "text": [
      "Entre le nom de la serie : serieASupprimer\n",
      "Entre la plateforme de streaming : netflixu\n",
      "Entre le nombre d'episodes de la serie : 42\n",
      "Entre l'annee de sortie de la serie : 2012\n",
      "Entre la note de la serie (entre 0 et 10) : 1\n",
      "\n",
      "Nom de la série : serieASupprimer\n",
      "Annee de sortie de la serie : 2012\n",
      "\n",
      "Titre de la serie : Arcane\n",
      "Annee de sortie : 2021\n",
      "\n",
      "Titre de la serie : serieASupprimer\n",
      "Annee de sortie : 2012\n",
      "\n",
      "Nouvelle liste : [('Arcane', 'Netflix', 18, 2021, 10)]\n"
     ]
    }
   ],
   "source": [
    "# Code here\n",
    "\n",
    "binge_watch_list = [(\"Arcane\", \"Netflix\", 18, 2021, 10)]\n",
    "\n",
    "\n",
    "def input_series():\n",
    "    \"\"\"Ask informations for the serie and return a tuple of those informations.\n",
    "Verifies if the informations are correct too\"\"\"\n",
    "    \n",
    "    titre = input(\"Entre le nom de la serie : \")\n",
    "    plateforme = input(\"Entre la plateforme de streaming : \")\n",
    "    \n",
    "    nbepisodes = input(\"Entre le nombre d'episodes de la serie : \")\n",
    "    while not isinstance(nbepisodes, int):\n",
    "        try :\n",
    "            nbepisodes = int(nbepisodes)\n",
    "        except:\n",
    "            print(\"Entre un nombre : \")\n",
    "            nbepisodes = input(\"Entre le nombre d'episodes de la serie : \")\n",
    "        \n",
    "    annee = input(\"Entre l'annee de sortie de la serie : \")\n",
    "    while not isinstance(annee, int):\n",
    "        try :\n",
    "            annee = int(annee)\n",
    "        except:\n",
    "            print(\"Entre un nombre : \")\n",
    "            annee = input(\"Entre l'annee de sortie de la serie : \")\n",
    "\n",
    "\n",
    "    note = input(\"Entre la note de la serie (entre 0 et 10) : \")\n",
    "    while not isinstance(note, int) :\n",
    "        try :\n",
    "            note = int(note)\n",
    "        except:\n",
    "            print(\"Entre un nombre : \")\n",
    "            note = input(\"Entre la note de la serie (entre 0 et 10): \")\n",
    "        else:\n",
    "            if note < 0 or note > 10:\n",
    "                print(\"Note invalide, entre une note entre 0 et 10 \")\n",
    "                note = \"\"\n",
    "\n",
    "    print(f\"\"\"\\nNom de la série : {titre}\n",
    "Annee de sortie de la serie : {annee}\"\"\")\n",
    "    \n",
    "    return (titre,plateforme,nbepisodes,annee,note)\n",
    "\n",
    "def affichage_elements(liste_serie):\n",
    "    \"\"\"Displays the list\"\"\"\n",
    "    \n",
    "    for serie in liste_serie:\n",
    "        print(f\"\"\"\\nTitre de la serie : {serie[0]}\n",
    "Annee de sortie : {serie[3]}\"\"\")\n",
    "        \n",
    "\n",
    "def supprimer_pire_serie_ever(liste_serie):\n",
    "    \"\"\"Finds the worse rated serie, deletes it from the list and displays the new list\"\"\"\n",
    "    indice = 0\n",
    "    notemin = 11\n",
    "    note = 11\n",
    "    for serie in liste_serie:\n",
    "        note = serie[4]\n",
    "        if note < notemin:\n",
    "            notemin = note\n",
    "            indice = liste_serie.index(serie)\n",
    "    del(liste_serie[indice])\n",
    "    \n",
    "    print(f\"\"\"\\nNouvelle liste : {liste_serie}\"\"\")\n",
    "    \n",
    "        \n",
    "infosSerie = input_series()\n",
    "binge_watch_list.append(infosSerie)\n",
    "\n",
    "affichage_elements(binge_watch_list)\n",
    "\n",
    "supprimer_pire_serie_ever(binge_watch_list)\n"
   ]
  },
  {
   "cell_type": "code",
   "execution_count": null,
   "metadata": {},
   "outputs": [],
   "source": []
  },
  {
   "cell_type": "markdown",
   "metadata": {
    "id": "-Zrebyjbxb89"
   },
   "source": [
    "Transformer le code ci-dessous de liste a dictionnaire"
   ]
  },
  {
   "cell_type": "code",
   "execution_count": 32,
   "metadata": {
    "id": "wqwmWD1HxfKF"
   },
   "outputs": [
    {
     "name": "stdout",
     "output_type": "stream",
     "text": [
      "Entre le nom de la serie : serieNulle\n",
      "Entre la plateforme de streaming : nullflix\n",
      "Entre le nombre d'episodes de la serie : 1\n",
      "Entre l'annee de sortie de la serie : 2022\n",
      "Entre la note de la serie (entre 0 et 10) : 1\n",
      "\n",
      "Nom de la série : serieNulle\n",
      "Annee de sortie de la serie : 2022\n",
      "\n",
      "Titre de la serie : Arcane\n",
      "Annee de sortie : 2021\n",
      "\n",
      "Titre de la serie : serieNulle\n",
      "Annee de sortie : 2022\n",
      "\n",
      "Nouveau dictionnaire : {'serie 1': ('Arcane', 'Netflix', 18, 2021, 10)}\n"
     ]
    }
   ],
   "source": [
    "# Code here\n",
    "\n",
    "binge_watch_dictionnaire = {\"serie 1\" : (\"Arcane\",\"Netflix\", 18, 2021, 10)}\n",
    "\n",
    "\n",
    "def input_series():\n",
    "    \"\"\"Same as Exercise 3 but with a dictionary\"\"\"\n",
    "    \n",
    "    titre = input(\"Entre le nom de la serie : \")\n",
    "    plateforme = input(\"Entre la plateforme de streaming : \")\n",
    "    \n",
    "    nbepisodes = input(\"Entre le nombre d'episodes de la serie : \")\n",
    "    while not isinstance(nbepisodes, int):\n",
    "        try :\n",
    "            nbepisodes = int(nbepisodes)\n",
    "        except:\n",
    "            print(\"Entre un nombre : \")\n",
    "            nbepisodes = input(\"Entre le nombre d'episodes de la serie : \")\n",
    "        \n",
    "    annee = input(\"Entre l'annee de sortie de la serie : \")\n",
    "    while not isinstance(annee, int):\n",
    "        try :\n",
    "            annee = int(annee)\n",
    "        except:\n",
    "            print(\"Entre un nombre : \")\n",
    "            annee = input(\"Entre l'annee de sortie de la serie : \")\n",
    "\n",
    "\n",
    "    note = input(\"Entre la note de la serie (entre 0 et 10) : \")\n",
    "    while not isinstance(note, int) :\n",
    "        try :\n",
    "            note = int(note)\n",
    "        except:\n",
    "            print(\"Entre un nombre : \")\n",
    "            note = input(\"Entre la note de la serie (entre 0 et 10): \")\n",
    "        else:\n",
    "            if note < 0 or note > 10:\n",
    "                print(\"Note invalide, entre une note entre 0 et 10 \")\n",
    "                note = \"\"\n",
    "\n",
    "    print(f\"\"\"\\nNom de la série : {titre}\n",
    "Annee de sortie de la serie : {annee}\"\"\")\n",
    "    \n",
    "    return (titre,plateforme,nbepisodes,annee,note)\n",
    "\n",
    "def affichage_elements(dictionnaire_serie):\n",
    "    \"\"\"Same as Exercise 3 but with a dictionary\"\"\"\n",
    "    \n",
    "    for serie,infos in dictionnaire_serie.items():\n",
    "        print(f\"\"\"\\nTitre de la serie : {infos[0]}\n",
    "Annee de sortie : {infos[3]}\"\"\")\n",
    "        \n",
    "\n",
    "def supprimer_pire_serie_ever(dictionnaire_serie):\n",
    "    \"\"\"Same as Exercise 3 but with a dictionary\"\"\"\n",
    "    nomSerieNulle = \"\"\n",
    "    notemin = 11\n",
    "    note = 11\n",
    "    for serie,infos in dictionnaire_serie.items():\n",
    "        note = infos[4]\n",
    "        if note < notemin:\n",
    "            notemin = note\n",
    "            nomSerieNulle = serie\n",
    "    del(dictionnaire_serie[nomSerieNulle])\n",
    "    \n",
    "    print(f\"\"\"\\nNouveau dictionnaire : {dictionnaire_serie}\"\"\")\n",
    "    \n",
    "        \n",
    "infosSerie = input_series()\n",
    "binge_watch_dictionnaire[infosSerie[0]] = infosSerie\n",
    "\n",
    "affichage_elements(binge_watch_dictionnaire)\n",
    "\n",
    "supprimer_pire_serie_ever(binge_watch_dictionnaire)"
   ]
  },
  {
   "cell_type": "markdown",
   "metadata": {
    "id": "W3BGjEYaf2UQ"
   },
   "source": [
    "## EX04\n",
    "### Révision strings / fonctions\n",
    "Implementer deux fonctions `input_password()` & `password_check(x)` qui :\n",
    "\n",
    "1. `input_password()` fait:\n",
    "    * Demande à l'utilisateur un mot de passe d'au moins 8 caractères, 12 c'est mieux.\n",
    "    * retourne ce dernier\n",
    "\n",
    "2. `password_check(x)` verifie:\n",
    "\n",
    "    * print `mot de passe trop court!` **avec une majuscule sur la première lettre** si la longueur du mot de passe entré est `plus petite que 8`.\n",
    "\n",
    "    * Verifier que le mot de passe soit une combinaison de `lettres majuscules, de lettres minuscules, de chiffres et de symboles.` \n",
    "    > Si le mot de passe manque de répondre à une condition, l'afficher à l'utilisateur\n",
    "\n",
    "    *  Afficher la phrase `\"Mot de passe valide.\"` si le mot de passe répond à **toutes les conditions**.\n",
    "\n",
    "> bonus \n",
    "\n",
    "* Verifier qu'un même mot de passe ne peut pas etre saisie deux fois, ex. utiliser une variable `previous_password`"
   ]
  },
  {
   "cell_type": "code",
   "execution_count": 53,
   "metadata": {
    "colab": {
     "base_uri": "https://localhost:8080/",
     "height": 53
    },
    "id": "FS2OxAtBf1tB",
    "outputId": "c29ca3c4-258f-4a5f-9496-ef14df6508aa"
   },
   "outputs": [
    {
     "name": "stdout",
     "output_type": "stream",
     "text": [
      "Entre un mdp de 8 caracteres : ········\n",
      "C'EST QUI QUI FAIT DES GRANDS MOTS DE PASSE ? C'EST TOI\n",
      "Symbole OK\n",
      "Nombre OK\n",
      "Majuscule OK\n",
      "Minuscule OK\n",
      "MAIS C'EST QU'IL SAIT Y FAIRE AVEC LES MOTS DE PASSE\n",
      "Mot de passe : izenpiznr45!A\n"
     ]
    }
   ],
   "source": [
    "# Start from this\n",
    "import getpass as gp\n",
    "import re\n",
    "\n",
    "def input_password():\n",
    "    \"\"\"Ask the user a password\"\"\"\n",
    "    pwd = gp.getpass(\"Entre un mdp de 8 caracteres : \")\n",
    "    return pwd\n",
    "\n",
    "def password_check(pwd):\n",
    "    \"\"\"Check if the password is correct : \n",
    "    8 characters minimum, one uppercase, one lowercase, one symbol and one number at least.\n",
    "    Special mention if the password is 12+ characters\n",
    "    Uses the re library to use regular expressions\"\"\"\n",
    "    minuscule = False\n",
    "    majuscule = False\n",
    "    symbole = False\n",
    "    nombre = False\n",
    "    \n",
    "    while len(pwd) < 8:\n",
    "        pwd = gp.getpass(\"Mot de passe trop court, entre un mdp de 8 caractères minimum\")\n",
    "        \n",
    "    if len(pwd) >= 12 :\n",
    "        print(\"C'EST QUI QUI FAIT DES GRANDS MOTS DE PASSE ? C'EST TOI\")\n",
    "    else:\n",
    "        print(\"Bon. Tu t'es pas cassé la tête mais ça passe\")\n",
    "                         \n",
    "    for i in pwd:\n",
    "        if i in ['&','#','!','/','?','$','£','@','&','[','§','-',']']:\n",
    "            symbole = True\n",
    "            print(\"Symbole OK\")\n",
    "               \n",
    "    if re.search('[0-9]',pwd):\n",
    "        print(\"Nombre OK\")\n",
    "        nombre = True\n",
    "    else : \n",
    "        print(\"Pas de nombre dans le mot de passe. Recommence\")\n",
    "        pwd = input_password()\n",
    "        pwd = password_check(pwd)  \n",
    "        \n",
    "    if re.search('[A-Z]',pwd):\n",
    "        print(\"Majuscule OK\")\n",
    "        majuscule = True\n",
    "    else : \n",
    "        print(\"Pas de majuscule dans le mot de passe. Recommence\")\n",
    "        pwd = input_password()\n",
    "        pwd = password_check(pwd)  \n",
    "        \n",
    "    if re.search('[a-z]',pwd):\n",
    "        print(\"Minuscule OK\")\n",
    "        minuscule = True\n",
    "    else : \n",
    "        print(\"Pas de minuscule dans le mot de passe. Recommence\")\n",
    "        pwd = input_password()\n",
    "        pwd = password_check(pwd)  \n",
    "        \n",
    "        \n",
    "    if symbole != True:\n",
    "        print(\"Pas de symbole dans le mot de passe. Recommence\")\n",
    "        pwd = input_password()\n",
    "        pwd = password_check(pwd)        \n",
    "        \n",
    "    if symbole == True and nombre == True and majuscule == True and minuscule == True:\n",
    "        print(\"MAIS C'EST QU'IL SAIT Y FAIRE AVEC LES MOTS DE PASSE, C'EST BIEN\")\n",
    "                     \n",
    "    return pwd\n",
    "\n",
    "pwd = input_password()\n",
    "real_pwd = password_check(pwd)\n",
    "print(f\"Mot de passe : {real_pwd}\")"
   ]
  },
  {
   "cell_type": "markdown",
   "metadata": {
    "id": "nu6wbxZnc2vL"
   },
   "source": [
    "## EX05\n",
    "### To do list\n",
    "1. Créez une fonction (`to_do_list()`) qui demande à l'utilisateur de choisir parmis 5 options\n",
    "    1. Ajouter un élément à la to do list\n",
    "    2. Retirer un élément de la to do list\n",
    "    3. Afficher les éléments de la to do list\n",
    "    4. Vider la to do list\n",
    "    5. Quitter le programme\n",
    "2. L'utilisateur doit entrer un nombre (entre 1 et 5) pour choisir l'option souhaité \n",
    "    * Vous devez verifier que l'input est un nombre\n",
    "    * Vous devez verifier que l'input est entre 1 et 5\n",
    "\n",
    "3. Implementez chancune des options de la fonction 😃\n",
    "\n",
    "3. Exemple de run du code ci dessous 👇"
   ]
  },
  {
   "cell_type": "code",
   "execution_count": 72,
   "metadata": {
    "colab": {
     "base_uri": "https://localhost:8080/"
    },
    "id": "FqgwJj-2USlc",
    "outputId": "8161f044-f38d-449c-c745-51350373eb8c"
   },
   "outputs": [
    {
     "name": "stdout",
     "output_type": "stream",
     "text": [
      "Merci de choisir entre les 5 options:\n",
      "        1 - Ajouter un élément à la to-do-list\n",
      "        2 - Retirer un élément de la to-do-list\n",
      "        3 - Afficher les éléments de la to-do-list\n",
      "        4 - Vider la to do list\n",
      "        5 - Quitter le programme\n",
      "        6 - Afficher l'aide\n",
      "Entre ton choix : 5\n",
      "Fin du programme\n"
     ]
    }
   ],
   "source": [
    "def usage():\n",
    "    \"\"\"Help function\"\"\"\n",
    "\n",
    "    print(\"\"\"Merci de choisir entre les 5 options:\n",
    "        1 - Ajouter un élément à la to-do-list\n",
    "        2 - Retirer un élément de la to-do-list\n",
    "        3 - Afficher les éléments de la to-do-list\n",
    "        4 - Vider la to do list\n",
    "        5 - Quitter le programme\n",
    "        6 - Afficher l'aide\"\"\")\n",
    "    \n",
    "def check_list(todolist):\n",
    "    \"\"\"Function that permits to check if the list is filled or not. True if filled, False if empty\"\"\"\n",
    "\n",
    "    print(\"Fonction appelée\")\n",
    "    if not todolist:\n",
    "        print(\"Liste vide, ajoute d'abord des éléments\")\n",
    "        return False\n",
    "    else:\n",
    "        return True\n",
    "\n",
    "def input_choice():\n",
    "    \"\"\"Function that ask the user a choice from the usage function\"\"\"\n",
    "    choice = input(\"Entre ton choix : \")\n",
    "    while not isinstance(choice,int):\n",
    "        try:\n",
    "            choice = int(choice)\n",
    "        except :\n",
    "            print(\"ENTRE UN CHIFFRE\")\n",
    "            choice = input(\"Entre ton choix. Et bien un chiffre : \")\n",
    "        else:\n",
    "            return choice\n",
    "        \n",
    "def ajouterElement(todolist):\n",
    "    \"\"\"Add an element to the list\"\"\"\n",
    "\n",
    "    element = input(\"Elément à ajouter à la to-do-list ? : \")\n",
    "    todolist.append(element)\n",
    "\n",
    "def retirerElement(todolist):\n",
    "    \"\"\"Delete an element from the list\"\"\"\n",
    "\n",
    "    if check_list(todolist):\n",
    "        element = input(\"Elément à retirer à la to-do-list ? : \")\n",
    "        try:\n",
    "            position = todolist.index(element)\n",
    "        except:\n",
    "            print(\"Element introuvable. Reessaie\")\n",
    "        else:\n",
    "            del(todolist[position])\n",
    "            print(f\"Element {element} supprimé de la to-do-list\")\n",
    "        \n",
    "def afficherListe(todolist):\n",
    "    \"\"\"Display the list\"\"\"\n",
    "\n",
    "    if check_list(todolist):\n",
    "        print(f\"To-do-list : {todolist}\")\n",
    "    \n",
    "def viderListe(todolist):\n",
    "    \"\"\"Function to clean the list (Delete everything in it)\"\"\"\n",
    "    if check_list(todolist):\n",
    "        print(\"To-do-list en attente de nettoyage\")\n",
    "        try:\n",
    "            todolist.clear()\n",
    "        except:\n",
    "            print(f\"To-do-list impossible à être vidée. La to-do-list va être affichée :\\n{todolist}\")\n",
    "        else:\n",
    "            print(\"To-do-list vidée\\n\")\n",
    "    \n",
    "    \n",
    "def to_do_list():\n",
    "    \"\"\"Main function of the script. Redirect the user to the chosen operation\"\"\"\n",
    "    todolist = []\n",
    "    choice = input_choice()  \n",
    "    while choice != 5:\n",
    "        if choice == 1 :\n",
    "            print(\"Fonction ajout d'élément choisie \\n\")\n",
    "            ajouterElement(todolist)\n",
    "            choice = input_choice()\n",
    "            \n",
    "        elif choice == 2 : \n",
    "            print(\"Fonction ajout d'élément choisie\\n\")\n",
    "            retirerElement(todolist)\n",
    "            choice = input_choice()\n",
    "            \n",
    "        elif choice == 3 : \n",
    "            print(\"Fonction ajout d'élément choisie\\n\")\n",
    "            afficherListe(todolist)\n",
    "            choice = input_choice()\n",
    "            \n",
    "        elif choice == 4 : \n",
    "            print(\"Fonction de nettoyage de la to-do-list\\n\")\n",
    "            viderListe(todolist)\n",
    "            choice = input_choice()\n",
    "            \n",
    "        elif choice == 6:\n",
    "            print(\"Fonction d'aide\\n\")\n",
    "            usage()\n",
    "            choice = input_choice()\n",
    "            \n",
    "        else:\n",
    "            print(\"Mauvais choix entré. Recommence\\n\")\n",
    "            choice = input_choice()\n",
    "            \n",
    "    print(\"Fin du programme\")\n",
    "    \n",
    "usage()\n",
    "to_do_list()"
   ]
  },
  {
   "cell_type": "code",
   "execution_count": null,
   "metadata": {
    "id": "ixKJ8w3Wvmuq"
   },
   "outputs": [],
   "source": [
    "#Objets à lancer pour tester le script de l'exercice 5. A lancer ligne par ligne :\n",
    "\"\"\"\n",
    "Test choix\n",
    "\n",
    "1\n",
    "ElementASupprimer\n",
    "\n",
    "2\n",
    "ElementASupprimer\n",
    "\n",
    "1\n",
    "ElementAAfficher\n",
    "\n",
    "3\n",
    "\n",
    "4\n",
    "\n",
    "6\n",
    "\n",
    "1\n",
    "Dernier test\n",
    "\n",
    "4\n",
    "\n",
    "5\n",
    "\"\"\""
   ]
  },
  {
   "cell_type": "markdown",
   "metadata": {
    "id": "XdJvMT9xVoRS"
   },
   "source": [
    "# Bonus (Mandatory)\n",
    "\n",
    "\n"
   ]
  },
  {
   "cell_type": "markdown",
   "metadata": {
    "id": "94-12vgPXG10"
   },
   "source": [
    "## Github\n",
    "Pour soumettre votre travail: \n",
    "\n",
    "1.   Commit changes to a branch and push to [github](https://google.com)\n",
    "2.   Create pull request / merge request\n"
   ]
  }
 ],
 "metadata": {
  "colab": {
   "collapsed_sections": [
    "Y1g4EgT41MqJ",
    "SHsrGdy-5AZK",
    "W3BGjEYaf2UQ"
   ],
   "include_colab_link": true,
   "provenance": []
  },
  "kernelspec": {
   "display_name": "Python 3 (ipykernel)",
   "language": "python",
   "name": "python3"
  },
  "language_info": {
   "codemirror_mode": {
    "name": "ipython",
    "version": 3
   },
   "file_extension": ".py",
   "mimetype": "text/x-python",
   "name": "python",
   "nbconvert_exporter": "python",
   "pygments_lexer": "ipython3",
   "version": "3.9.13"
  }
 },
 "nbformat": 4,
 "nbformat_minor": 1
}
