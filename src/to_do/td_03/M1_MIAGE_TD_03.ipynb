{
 "cells": [
  {
   "cell_type": "markdown",
   "metadata": {
    "colab_type": "text",
    "id": "view-in-github"
   },
   "source": [
    "<a href=\"https://colab.research.google.com/github/lapointe05/m1-miage/blob/main/M1_MIAGE_TD_03.ipynb\" target=\"_parent\"><img src=\"https://colab.research.google.com/assets/colab-badge.svg\" alt=\"Open In Colab\"/></a>"
   ]
  },
  {
   "cell_type": "markdown",
   "metadata": {
    "id": "597Hu82gSNCZ"
   },
   "source": [
    "<img src=\"https://upload.wikimedia.org/wikipedia/fr/0/0b/Polytech_Lyon_logo.png\" alt=\"drawing\" height=\"200\"/>\n",
    "\n",
    "# Algorithmique Avancée & Programmation en Python\n",
    "---\n",
    "\n"
   ]
  },
  {
   "cell_type": "markdown",
   "metadata": {
    "id": "EA-XK862WiMt"
   },
   "source": [
    "# TD 03\n",
    "\n",
    "Intro aux traitement de données\n",
    "\n",
    "```python\n",
    "print(\"Hello, friend! It's been a while...\")\n",
    "```\n",
    " \n",
    "Elements à consulter:\n",
    "\n",
    "\n",
    "Doc                                   |             Link\n",
    "--------------------------------------|------------------------------------\n",
    "Python en 30 jours | [>link<](https://moncoachdata.com/courses/apprendre-python-en-30-jours/)\n",
    "Get started with pandas | [>link<](https://colab.research.google.com/notebooks/snippets/pandas.ipynb)"
   ]
  },
  {
   "cell_type": "markdown",
   "metadata": {
    "id": "Y1g4EgT41MqJ"
   },
   "source": [
    "## Intro\n",
    "\n",
    "Le premier bloc devrait toujours contenir les installs/imports dont on aura besoin pour le reste"
   ]
  },
  {
   "cell_type": "code",
   "execution_count": 4,
   "metadata": {
    "colab": {
     "base_uri": "https://localhost:8080/"
    },
    "id": "yjiE8c51VoT0",
    "outputId": "88029a55-7ea9-4945-f975-2bdea0d2be95"
   },
   "outputs": [],
   "source": [
    "# Installs\n",
    "!pip install emoji --quiet"
   ]
  },
  {
   "cell_type": "code",
   "execution_count": 5,
   "metadata": {
    "colab": {
     "base_uri": "https://localhost:8080/"
    },
    "id": "JhT-50uwz72F",
    "outputId": "3e6b6a89-5efe-4122-9274-710c2d526432"
   },
   "outputs": [
    {
     "name": "stdout",
     "output_type": "stream",
     "text": [
      "Python is awesome 👍\n"
     ]
    }
   ],
   "source": [
    "# Imports\n",
    "import os\n",
    "import json\n",
    "from random import randint\n",
    "# import pandas as pd\n",
    "# import numpy as np\n",
    "pass\n",
    "import emoji\n",
    "\n",
    "print(emoji.emojize('Pyfrom getpass import getthon is awesome :thumbs_up:'))"
   ]
  },
  {
   "cell_type": "code",
   "execution_count": 6,
   "metadata": {},
   "outputs": [
    {
     "name": "stdout",
     "output_type": "stream",
     "text": [
      "Wesh alors 🕶️\n"
     ]
    }
   ],
   "source": [
    "print(emoji.emojize('Wesh alors :sunglasses:'))"
   ]
  },
  {
   "cell_type": "markdown",
   "metadata": {
    "id": "5jpD7nr9NrKR"
   },
   "source": [
    "##EX01\n",
    "### Révision boucles / compréhension de listes\n",
    "\n",
    "Avec l'usage de la boucle `for`, répondez aux questions ci-dessous\n",
    "\n",
    "\n",
    "> PS: Code pris et modifié à partir d'exo sur github"
   ]
  },
  {
   "cell_type": "code",
   "execution_count": 7,
   "metadata": {
    "scrolled": true
   },
   "outputs": [
    {
     "name": "stdout",
     "output_type": "stream",
     "text": [
      "[44, 4, 38]\n"
     ]
    }
   ],
   "source": [
    "##############################################################\n",
    "nombres = [1, 21, 5, 44, 4, 9, 5, 83, 29, 31, 25, 38]\n",
    "nombres_pairs = []\n",
    "\n",
    "for i in range(len(nombres)):\n",
    "    if nombres[i]%2==0:\n",
    "        nombres_pairs.append(nombres[i])\n",
    "\n",
    "print(nombres_pairs)"
   ]
  },
  {
   "cell_type": "code",
   "execution_count": 8,
   "metadata": {},
   "outputs": [
    {
     "name": "stdout",
     "output_type": "stream",
     "text": [
      "[0, 1, 2, 3, 4, 5, 6, 7, 8, 9]\n"
     ]
    }
   ],
   "source": [
    "##############################################################\n",
    "\n",
    "nombres = range(-10, 10)\n",
    "nombres_positifs = []\n",
    "\n",
    "for i in nombres:\n",
    "    if i >= 0:\n",
    "        nombres_positifs.append(i)\n",
    "print(nombres_positifs)"
   ]
  },
  {
   "cell_type": "code",
   "execution_count": 9,
   "metadata": {
    "id": "8p4JXCtEyQBX"
   },
   "outputs": [
    {
     "name": "stdout",
     "output_type": "stream",
     "text": [
      "[0, 2, 4, 6, 8]\n"
     ]
    }
   ],
   "source": [
    "##############################################################\n",
    "\n",
    "nombres = range(5)\n",
    "nombres_x2 = []\n",
    "\n",
    "for i in nombres:\n",
    "    nombres_x2.append(i*2)\n",
    "print(nombres_x2)"
   ]
  },
  {
   "cell_type": "markdown",
   "metadata": {
    "id": "BQBEhammPFtE"
   },
   "source": [
    "### PART 2\n",
    "Changez le code ci-dessus, et remplacez les blocs `for` par des [compréhensions de listes](https://duckduckgo.com/?q=list+comprehension+python)"
   ]
  },
  {
   "cell_type": "code",
   "execution_count": 10,
   "metadata": {
    "id": "zlMvZFGcPEAG"
   },
   "outputs": [
    {
     "name": "stdout",
     "output_type": "stream",
     "text": [
      "[44, 4, 38]\n"
     ]
    }
   ],
   "source": [
    "nombres = [1, 21, 5, 44, 4, 9, 5, 83, 29, 31, 25, 38]\n",
    "nombres_pairs = [i for i in nombres if i%2==0]\n",
    "\n",
    "print(nombres_pairs)\n"
   ]
  },
  {
   "cell_type": "code",
   "execution_count": 11,
   "metadata": {},
   "outputs": [
    {
     "name": "stdout",
     "output_type": "stream",
     "text": [
      "[0, 1, 2, 3, 4, 5, 6, 7, 8, 9]\n"
     ]
    }
   ],
   "source": [
    "nombres = range(-10, 10)\n",
    "nombres_positifs = [i for i in nombres if i >=0]\n",
    "\n",
    "print(nombres_positifs)"
   ]
  },
  {
   "cell_type": "code",
   "execution_count": 12,
   "metadata": {},
   "outputs": [
    {
     "name": "stdout",
     "output_type": "stream",
     "text": [
      "[0, 2, 4, 6, 8]\n"
     ]
    }
   ],
   "source": [
    "nombres = range(5)\n",
    "nombres_x2 = [i*2 for i in nombres]\n",
    "\n",
    "print(nombres_x2)"
   ]
  },
  {
   "cell_type": "markdown",
   "metadata": {
    "id": "cN_XcFu1dG5V"
   },
   "source": [
    "##EX02\n",
    "### Les sets\n",
    "\n",
    "  1. Créez un `set` vide et attribuez-le à une variable.\n",
    "  2. Ajoutez trois éléments à votre ensemble vide en utilisant soit plusieurs appels `add`, soit un seul appel de `update`.\n",
    "\n",
    "  3. Créez un deuxième `set` qui comprend au moins un élément commun avec le premier ensemble.\n",
    "\n",
    "  4. Trouvez l’union, la différence et l’intersection des deux `set`. >>\n",
    "Imprimez les résultats de chaque opération.\n",
    "\n",
    "  5. Créez une `set` de nombres en utilisant `range()`, puis demandez à l’utilisateur d’entrer un nombre. Indiquez à l’utilisateur si son nombre se situe ou non dans la plage de valeurs que vous avez spécifiée.\n",
    "\n",
    ">Bonus: \n",
    ">>Indiquer à l’utilisateur si son nombre était trop élevé ou trop bas."
   ]
  },
  {
   "cell_type": "code",
   "execution_count": 28,
   "metadata": {},
   "outputs": [
    {
     "name": "stdout",
     "output_type": "stream",
     "text": [
      "{1, 'Bidonjour', 1.5}\n"
     ]
    }
   ],
   "source": [
    "## 1 ##\n",
    "\n",
    "myset = set()\n",
    "\n",
    "## 2 ##\n",
    "\n",
    "myset.add(1)\n",
    "\n",
    "val_maj = {1.5, \"Bidonjour\"}\n",
    "\n",
    "myset.update(val_maj)\n",
    "\n",
    "print(myset)"
   ]
  },
  {
   "cell_type": "code",
   "execution_count": 24,
   "metadata": {},
   "outputs": [
    {
     "name": "stdout",
     "output_type": "stream",
     "text": [
      "{1.5, 2}\n"
     ]
    }
   ],
   "source": [
    "## 3 ##\n",
    "\n",
    "myset_two = set([1.5,2])\n",
    "print(myset_two)"
   ]
  },
  {
   "cell_type": "code",
   "execution_count": 34,
   "metadata": {},
   "outputs": [
    {
     "name": "stdout",
     "output_type": "stream",
     "text": [
      "\n",
      "La fusion des deux sets est {1, 1.5, 2, 'Bidonjour'}\n",
      "\n",
      "La différence des deux sets est {1, 'Bidonjour'}\n",
      "\n",
      " L'intersection des deux sets est {1.5}\n"
     ]
    }
   ],
   "source": [
    "## 4 ##\n",
    "\n",
    "union_set = myset.union(myset_two)\n",
    "print(f\"\\nLa fusion des deux sets est {union_set}\\n\")\n",
    "\n",
    "diff_set = myset.difference(myset_two)\n",
    "print(f\"La différence des deux sets est {diff_set}\\n\")\n",
    "\n",
    "inter_set = myset.intersection(myset_two)\n",
    "print(f\" L'intersection des deux sets est {inter_set}\")"
   ]
  },
  {
   "cell_type": "code",
   "execution_count": 18,
   "metadata": {},
   "outputs": [],
   "source": [
    "def check_in_set(rng,nb):\n",
    "    nbset = set(range(rng))       \n",
    "    if nb in nbset:\n",
    "        print(\"Oui\")\n",
    "\n",
    "    else:print(\"Non\")\n",
    "        \n",
    "    return"
   ]
  },
  {
   "cell_type": "code",
   "execution_count": 19,
   "metadata": {},
   "outputs": [
    {
     "name": "stdout",
     "output_type": "stream",
     "text": [
      "Sélectionnez la taille de votre set svp\n",
      "1\n",
      "Veuillez entrer un nombre svp\n",
      "2\n",
      "Non\n"
     ]
    }
   ],
   "source": [
    "rng = input(\"Sélectionnez la taille de votre set svp\\n\")\n",
    "nb = input(\"Veuillez entrer un nombre svp\\n\")\n",
    "check_in_set(int(rng),int(nb))"
   ]
  },
  {
   "cell_type": "markdown",
   "metadata": {
    "id": "SHsrGdy-5AZK"
   },
   "source": [
    "## EX03\n",
    "### Revision listes\n",
    "1. Créez une liste de séries (`binge_watch_list`) contenant un seul tuple. Le tuple doit contenir le titre de la série, la plateforme de streaming (légal), le nombre d'épisodes de la série, l'année de sortie et une note /10.\n",
    "\n",
    "2. Créez une fonction (`input_series`) qui recueille des informations sur d'autres séries à l'aide de la fonction native `input`. Et nous retourne un tuple. \\n\n",
    "Tout les champs sont obligatoires.\n",
    "\n",
    "4. Utilisez `f-string` pour imprimer le nom et l’année de sortie de la série qu'on vient d'input.\n",
    "\n",
    "3. Alimenter la liste (`binge_watch_list`) avec le retour de la fonction (`input_series`) \\n\n",
    "Assurez vous que l'ordre des champs soit le même que dans (`binge_watch_list`).\n",
    "\n",
    "\n",
    "5. Afficher le nom et l’année de sortie de toutes les séries dans `binge_watch_list`.\n",
    "\n",
    "> Bonus:\n",
    "\n",
    "6. Supprimez la série la moins bien noté de `binge_watch_list`. Utilisez la méthode de votre choix."
   ]
  },
  {
   "cell_type": "code",
   "execution_count": 68,
   "metadata": {
    "id": "jIatRWhm5Xzo"
   },
   "outputs": [
    {
     "name": "stdout",
     "output_type": "stream",
     "text": [
      "Titre: \n",
      "ekf\n",
      "Plateforme: \n",
      "fih\n",
      "Nombre d'épisodes: \n",
      "15\n",
      "Année de sortie: \n",
      "15\n",
      "Note: \n",
      "zfkj\n"
     ]
    },
    {
     "data": {
      "text/plain": [
       "('ekf', 'fih', 15, 15, 'zfkj')"
      ]
     },
     "execution_count": 68,
     "metadata": {},
     "output_type": "execute_result"
    }
   ],
   "source": [
    "bwl = [(\"Cowboy Bebop\", \"Crunchyroll\", 26, 1998, \"9.5/10\"),]\n",
    "format = (\"Titre\",\"Plateforme\",\"Nombre d'épisodes\",\"Année\",\"Note\")\n",
    "\n",
    "\n",
    "\n",
    "def input_series():\n",
    "    titre = input(\"Titre: \\n\")\n",
    "    plateforme = input(\"Plateforme: \\n\")\n",
    "    nb_episodes = input(\"Nombre d'épisodes: \\n\")\n",
    "    annee = input(\"Année de sortie: \\n\")\n",
    "    note = input (\"Note: \\n\")\n",
    "    \n",
    "    return (titre, plateforme, int(nb_episodes), int(annee), note)\n",
    "    \n",
    "input_series()"
   ]
  },
  {
   "cell_type": "markdown",
   "metadata": {
    "id": "-Zrebyjbxb89"
   },
   "source": [
    "Transformer le code ci-dessous de liste a dictionnaire"
   ]
  },
  {
   "cell_type": "code",
   "execution_count": 5,
   "metadata": {
    "id": "wqwmWD1HxfKF"
   },
   "outputs": [
    {
     "data": {
      "text/plain": [
       "2"
      ]
     },
     "execution_count": 5,
     "metadata": {},
     "output_type": "execute_result"
    }
   ],
   "source": [
    "1+1"
   ]
  },
  {
   "cell_type": "markdown",
   "metadata": {
    "id": "W3BGjEYaf2UQ"
   },
   "source": [
    "## EX04\n",
    "### Révision strings / fonctions\n",
    "Implementer deux fonctions `input_password()` & `password_check(x)` qui :\n",
    "\n",
    "1. `input_password()` fait:\n",
    "    * Demande à l'utilisateur un mot de passe d'au moins 8 caractères, 12 c'est mieux.\n",
    "    * retourne ce dernier\n",
    "\n",
    "2. `password_check(x)` verifie:\n",
    "\n",
    "    * print `mot de passe trop court!` **avec une majuscule sur la première lettre** si la longueur du mot de passe entré est `plus petite que 8`.\n",
    "\n",
    "    * Verifier que le mot de passe soit une combinaison de `lettres majuscules, de lettres minuscules, de chiffres et de symboles.` \n",
    "    > Si le mot de passe manque de répondre à une condition, l'afficher à l'utilisateur\n",
    "\n",
    "    *  Afficher la phrase `\"Mot de passe valide.\"` si le mot de passe répond à **toutes les conditions**.\n",
    "\n",
    "> bonus \n",
    "\n",
    "* Verifier qu'un même mot de passe ne peut pas etre saisie deux fois, ex. utiliser une variable `previous_password`"
   ]
  },
  {
   "cell_type": "code",
   "execution_count": 87,
   "metadata": {
    "colab": {
     "base_uri": "https://localhost:8080/",
     "height": 53
    },
    "id": "FS2OxAtBf1tB",
    "outputId": "c29ca3c4-258f-4a5f-9496-ef14df6508aa"
   },
   "outputs": [
    {
     "name": "stdout",
     "output_type": "stream",
     "text": [
      "Entre le mot de passe stp: ········\n",
      "Ton mot de passe est 48466456ojkpo!M\n",
      "Ton mot de passe est assez long pour être validé par la street 🕶️!\n"
     ]
    },
    {
     "data": {
      "text/plain": [
       "'48466456ojkpo!M'"
      ]
     },
     "execution_count": 87,
     "metadata": {},
     "output_type": "execute_result"
    }
   ],
   "source": [
    "def input_password():\n",
    "    p = getpass(\"Entre le mot de passe stp: \")\n",
    "    \n",
    "    if len(p) < 8 :\n",
    "        raise Exception(\"Honnêtement ton mot de passe est pas ouf ouf quoi ! (il faut au moins 8 caractères, 12 si tu veux être Gucci)\")  \n",
    "    \n",
    "    elif 8 <= len(p) < 12:\n",
    "        remarque = \"Ça paaaaaasse \"\n",
    "    else:\n",
    "        remarque = emoji.emojize(\"Ton mot de passe est assez long pour être validé par la street :sunglasses:!\")\n",
    "    print(f\"Ton mot de passe est {p}\\n{remarque}\")\n",
    "    \n",
    "    return p\n",
    "input_password()"
   ]
  },
  {
   "cell_type": "code",
   "execution_count": 78,
   "metadata": {},
   "outputs": [],
   "source": [
    "def contient_maj(p):\n",
    "    for i in range(len(p)):\n",
    "        if p[i].isupper():\n",
    "            return True\n",
    "    return False\n",
    "\n",
    "def contient_min(p):\n",
    "    for i in range(len(p)):\n",
    "        if p[i].islower():\n",
    "            return True\n",
    "    return False\n",
    "\n",
    "def contient_num(p):\n",
    "    for i in range(len(p)):\n",
    "        if p[i].isdigit():\n",
    "            return True\n",
    "    return False\n",
    "\n",
    "def contient_sym(p):\n",
    "    for i in range(len(p)):\n",
    "        if not p[i].isupper() and not p[i].islower() and not p[i].isdigit() :\n",
    "            return True\n",
    "    return False"
   ]
  },
  {
   "cell_type": "code",
   "execution_count": 77,
   "metadata": {},
   "outputs": [
    {
     "name": "stdout",
     "output_type": "stream",
     "text": [
      "Veuillez entrer le mot de passe à vérifier:\n",
      "········\n",
      "Le mot de passe est trop court, rajoute 7 caractères pour que ce soit acceptable.\n",
      "\n"
     ]
    }
   ],
   "source": [
    "def password_check():\n",
    "    \n",
    "    pwd = getpass(\"Veuillez entrer le mot de passe à vérifier:\\n\")\n",
    "    \n",
    "    msg_char = \"\"\n",
    "    \n",
    "    if len(pwd) < 8:\n",
    "        \n",
    "        manque = 8 - len(pwd)\n",
    "        \n",
    "        print(f\"Le mot de passe est trop court, rajoute {manque} caractères pour que ce soit acceptable.\\n\")\n",
    "        \n",
    "        return\n",
    "    \n",
    "    elif 8 <= len(pwd) < 12:\n",
    "    \n",
    "        msg_longueur = \"\\nLe mot de passe est acceptable, mais je te conseille de l'allonger à au moins 12 caractères. ;)\\n\"\n",
    "        \n",
    "    else:\n",
    "    \n",
    "        msg_longueur = \"\\nTon mot de passe a une longueur excellente! :D\\n\"\n",
    "        \n",
    "        \n",
    "   ## les boucles qui suivent vérifient que la diversité des caractères est respectée \n",
    "    \n",
    "    if contient_min(pwd) and contient_maj(pwd) and contient_num(pwd) and contient_sym(pwd):\n",
    "        \n",
    "        msg_char = \"Tout est OK, il y a suffisamment de diversité dans les caractères ! \"\n",
    "    \n",
    "    else:\n",
    "    \n",
    "        if not contient_maj(pwd):\n",
    "\n",
    "            msg_char += \"\\n Tu dois ajouter au moins une lettre majuscule.\"\n",
    "\n",
    "        if not contient_min(pwd):\n",
    "\n",
    "            msg_char += \"\\n Tu dois ajouter au moins une lettre minuscule.\"\n",
    "\n",
    "        if not contient_num(pwd):\n",
    "\n",
    "            msg_char += \"\\n Tu dois ajouter au moins un numéro.\"\n",
    "\n",
    "        if not contient_sym(pwd):\n",
    "\n",
    "            msg_char += \"\\n Tu dois ajouter au moins un symbole.\"\n",
    "    \n",
    "    \n",
    "    print(msg_longueur + msg_char)\n",
    "    return\n",
    "        \n",
    "password_check()\n"
   ]
  },
  {
   "cell_type": "markdown",
   "metadata": {
    "id": "nu6wbxZnc2vL"
   },
   "source": [
    "## EX05\n",
    "### To do list\n",
    "1. Créez une fonction (`to_do_list()`) qui demande à l'utilisateur de choisir parmis 5 options\n",
    "    1. Ajouter un élément à la to do list\n",
    "    2. Retirer un élément de la to do list\n",
    "    3. Afficher les éléments de la to do list\n",
    "    4. Vider la to do list\n",
    "    5. Quitter le programme\n",
    "2. L'utilisateur doit entrer un nombre (entre 1 et 5) pour choisir l'option souhaité \n",
    "    * Vous devez verifier que l'input est un nombre\n",
    "    * Vous devez verifier que l'input est entre 1 et 5\n",
    "\n",
    "3. Implementez chancune des options de la fonction 😃\n",
    "\n",
    "3. Exemple de run du code ci dessous 👇"
   ]
  },
  {
   "cell_type": "code",
   "execution_count": 93,
   "metadata": {
    "colab": {
     "base_uri": "https://localhost:8080/"
    },
    "id": "FqgwJj-2USlc",
    "outputId": "8161f044-f38d-449c-c745-51350373eb8c"
   },
   "outputs": [
    {
     "name": "stdout",
     "output_type": "stream",
     "text": [
      "Bonjour à vous, jeune aventurier!\n",
      "\n",
      "Veuillez choisir l'une des options suivantes:\n",
      "\n",
      "1. Ajouter un élément à la to-do-list\n",
      "\n",
      "2. Retirer un élément de la to-do-list\n",
      "\n",
      "3. Afficher les éléments de la to-do-list\n",
      "\n",
      "4. Vider la to-do-list\n",
      "\n",
      "5. Quitter le programme\n",
      "\n",
      "\n"
     ]
    },
    {
     "ename": "Exception",
     "evalue": "Vous n'avez pas entré l'une des options valides",
     "output_type": "error",
     "traceback": [
      "\u001b[1;31m---------------------------------------------------------------------------\u001b[0m",
      "\u001b[1;31mException\u001b[0m                                 Traceback (most recent call last)",
      "\u001b[1;32m<ipython-input-93-a71e0ed3c24e>\u001b[0m in \u001b[0;36m<module>\u001b[1;34m\u001b[0m\n\u001b[0;32m     12\u001b[0m         \u001b[1;32mraise\u001b[0m \u001b[0mException\u001b[0m\u001b[1;33m(\u001b[0m\u001b[1;34m\"Vous n'avez pas entré l'une des options valides\"\u001b[0m\u001b[1;33m)\u001b[0m\u001b[1;33m\u001b[0m\u001b[1;33m\u001b[0m\u001b[0m\n\u001b[0;32m     13\u001b[0m     \u001b[1;32mreturn\u001b[0m\u001b[1;33m\u001b[0m\u001b[1;33m\u001b[0m\u001b[0m\n\u001b[1;32m---> 14\u001b[1;33m \u001b[0mto_do_list\u001b[0m\u001b[1;33m(\u001b[0m\u001b[1;33m)\u001b[0m\u001b[1;33m\u001b[0m\u001b[1;33m\u001b[0m\u001b[0m\n\u001b[0m",
      "\u001b[1;32m<ipython-input-93-a71e0ed3c24e>\u001b[0m in \u001b[0;36mto_do_list\u001b[1;34m()\u001b[0m\n\u001b[0;32m     10\u001b[0m \u001b[1;33m\u001b[0m\u001b[0m\n\u001b[0;32m     11\u001b[0m     \u001b[1;32melse\u001b[0m\u001b[1;33m:\u001b[0m\u001b[1;33m\u001b[0m\u001b[1;33m\u001b[0m\u001b[0m\n\u001b[1;32m---> 12\u001b[1;33m         \u001b[1;32mraise\u001b[0m \u001b[0mException\u001b[0m\u001b[1;33m(\u001b[0m\u001b[1;34m\"Vous n'avez pas entré l'une des options valides\"\u001b[0m\u001b[1;33m)\u001b[0m\u001b[1;33m\u001b[0m\u001b[1;33m\u001b[0m\u001b[0m\n\u001b[0m\u001b[0;32m     13\u001b[0m     \u001b[1;32mreturn\u001b[0m\u001b[1;33m\u001b[0m\u001b[1;33m\u001b[0m\u001b[0m\n\u001b[0;32m     14\u001b[0m \u001b[0mto_do_list\u001b[0m\u001b[1;33m(\u001b[0m\u001b[1;33m)\u001b[0m\u001b[1;33m\u001b[0m\u001b[1;33m\u001b[0m\u001b[0m\n",
      "\u001b[1;31mException\u001b[0m: Vous n'avez pas entré l'une des options valides"
     ]
    }
   ],
   "source": [
    "def to_do_list():\n",
    "    tdl = []\n",
    "    count_tdl = 0\n",
    "    choix = input(\"Bonjour à vous, jeune aventurier!\\n\\nVeuillez choisir l'une des options suivantes:\\n\\n1. Ajouter un élément à la to-do-list\\n\\n2. Retirer un élément de la to-do-list\\n\\n3. Afficher les éléments de la to-do-list\\n\\n4. Vider la to-do-list\\n\\n5. Quitter le programme\\n\\n\")\n",
    "    if choix.isdigit() and choix in (\"1\",\"2\",\"3\",\"4\",\"5\"):\n",
    "        \n",
    "        if choix == \"1\":\n",
    "            \n",
    "            nv_elem = input(\"\\n\\nTrès bien, veuillez entrer la tâche à ajouter dans votre to-do-list:\\n\\n\")\n",
    "        \n",
    "    else:\n",
    "        raise Exception(\"Vous n'avez pas entré l'une des options valides\")   \n",
    "    return\n",
    "to_do_list()"
   ]
  },
  {
   "cell_type": "code",
   "execution_count": null,
   "metadata": {
    "id": "ixKJ8w3Wvmuq"
   },
   "outputs": [],
   "source": [
    "##"
   ]
  },
  {
   "cell_type": "markdown",
   "metadata": {
    "id": "XdJvMT9xVoRS"
   },
   "source": [
    "# Bonus (Mandatory)\n",
    "\n",
    "\n"
   ]
  },
  {
   "cell_type": "markdown",
   "metadata": {
    "id": "94-12vgPXG10"
   },
   "source": [
    "## Github\n",
    "Pour soumettre votre travail: \n",
    "\n",
    "1.   Commit changes to a branch and push to [github](https://google.com)\n",
    "2.   Create pull request / merge request\n"
   ]
  }
 ],
 "metadata": {
  "colab": {
   "collapsed_sections": [
    "Y1g4EgT41MqJ",
    "SHsrGdy-5AZK",
    "W3BGjEYaf2UQ"
   ],
   "include_colab_link": true,
   "provenance": []
  },
  "kernelspec": {
   "display_name": "Python 3",
   "language": "python",
   "name": "python3"
  },
  "language_info": {
   "codemirror_mode": {
    "name": "ipython",
    "version": 3
   },
   "file_extension": ".py",
   "mimetype": "text/x-python",
   "name": "python",
   "nbconvert_exporter": "python",
   "pygments_lexer": "ipython3",
   "version": "3.8.3"
  }
 },
 "nbformat": 4,
 "nbformat_minor": 1
}
