{
  "cells": [
    {
      "cell_type": "markdown",
      "metadata": {
        "colab_type": "text",
        "id": "view-in-github"
      },
      "source": [
        "<a href=\"https://colab.research.google.com/github/lapointe05/m1-miage/blob/main/src/to_do/td_04/td_04_to_do.ipynb\" target=\"_parent\"><img src=\"https://colab.research.google.com/assets/colab-badge.svg\" alt=\"Open In Colab\"/></a>\n"
      ]
    },
    {
      "cell_type": "markdown",
      "metadata": {
        "id": "597Hu82gSNCZ"
      },
      "source": [
        "<img src=\"https://upload.wikimedia.org/wikipedia/fr/0/0b/Polytech_Lyon_logo.png\" alt=\"drawing\" height=\"200\"/>\n",
        "\n",
        "# Algorithmique Avancée & Programmation en Python\n",
        "---\n",
        "\n"
      ]
    },
    {
      "cell_type": "markdown",
      "metadata": {
        "id": "EA-XK862WiMt"
      },
      "source": [
        "# TD 04\n",
        "\n",
        "Intro aux traitement de données\n",
        "\n",
        "```python\n",
        "print(\"Hello, friend! It's been a while...\")\n",
        "```\n",
        " \n",
        "Elements à consulter:\n",
        "\n",
        "\n",
        "Doc                                   |             Link\n",
        "--------------------------------------|------------------------------------\n",
        "Python en 30 jours | [>link<](https://moncoachdata.com/courses/apprendre-python-en-30-jours/)\n",
        "Get started with pandas | [>link<](https://colab.research.google.com/notebooks/snippets/pandas.ipynb)\n",
        "\n"
      ]
    },
    {
      "cell_type": "markdown",
      "metadata": {
        "id": "Y1g4EgT41MqJ"
      },
      "source": [
        "## Intro\n",
        "\n",
        "Le premier bloc devrait toujours contenir les installs/imports dont on aura besoin pour le reste"
      ]
    },
    {
      "cell_type": "code",
      "execution_count": null,
      "metadata": {
        "colab": {
          "base_uri": "https://localhost:8080/"
        },
        "id": "yjiE8c51VoT0",
        "outputId": "88029a55-7ea9-4945-f975-2bdea0d2be95"
      },
      "outputs": [
        {
          "name": "stdout",
          "output_type": "stream",
          "text": [
            "\u001b[?25l\r\u001b[K     |█▍                              | 10 kB 17.8 MB/s eta 0:00:01\r\u001b[K     |██▊                             | 20 kB 7.8 MB/s eta 0:00:01\r\u001b[K     |████                            | 30 kB 10.5 MB/s eta 0:00:01\r\u001b[K     |█████▍                          | 40 kB 4.6 MB/s eta 0:00:01\r\u001b[K     |██████▉                         | 51 kB 4.6 MB/s eta 0:00:01\r\u001b[K     |████████▏                       | 61 kB 5.5 MB/s eta 0:00:01\r\u001b[K     |█████████▌                      | 71 kB 5.9 MB/s eta 0:00:01\r\u001b[K     |██████████▉                     | 81 kB 5.6 MB/s eta 0:00:01\r\u001b[K     |████████████▎                   | 92 kB 6.2 MB/s eta 0:00:01\r\u001b[K     |█████████████▋                  | 102 kB 5.1 MB/s eta 0:00:01\r\u001b[K     |███████████████                 | 112 kB 5.1 MB/s eta 0:00:01\r\u001b[K     |████████████████▎               | 122 kB 5.1 MB/s eta 0:00:01\r\u001b[K     |█████████████████▊              | 133 kB 5.1 MB/s eta 0:00:01\r\u001b[K     |███████████████████             | 143 kB 5.1 MB/s eta 0:00:01\r\u001b[K     |████████████████████▍           | 153 kB 5.1 MB/s eta 0:00:01\r\u001b[K     |█████████████████████▊          | 163 kB 5.1 MB/s eta 0:00:01\r\u001b[K     |███████████████████████▏        | 174 kB 5.1 MB/s eta 0:00:01\r\u001b[K     |████████████████████████▌       | 184 kB 5.1 MB/s eta 0:00:01\r\u001b[K     |█████████████████████████▉      | 194 kB 5.1 MB/s eta 0:00:01\r\u001b[K     |███████████████████████████▏    | 204 kB 5.1 MB/s eta 0:00:01\r\u001b[K     |████████████████████████████▋   | 215 kB 5.1 MB/s eta 0:00:01\r\u001b[K     |██████████████████████████████  | 225 kB 5.1 MB/s eta 0:00:01\r\u001b[K     |███████████████████████████████▎| 235 kB 5.1 MB/s eta 0:00:01\r\u001b[K     |████████████████████████████████| 240 kB 5.1 MB/s \n",
            "\u001b[?25h  Building wheel for emoji (setup.py) ... \u001b[?25l\u001b[?25hdone\n"
          ]
        }
      ],
      "source": [
        "# Installs\n",
        "!pip install emoji --quiet"
      ]
    },
    {
      "cell_type": "code",
      "execution_count": null,
      "metadata": {
        "colab": {
          "base_uri": "https://localhost:8080/"
        },
        "id": "JhT-50uwz72F",
        "outputId": "3e6b6a89-5efe-4122-9274-710c2d526432"
      },
      "outputs": [
        {
          "name": "stdout",
          "output_type": "stream",
          "text": [
            "Python is awesome 👍\n"
          ]
        }
      ],
      "source": [
        "# Imports\n",
        "import os\n",
        "import json\n",
        "from random import randint\n",
        "# import pandas as pd\n",
        "# import numpy as np\n",
        "from getpass import getpass\n",
        "import emoji\n",
        "\n",
        "print(emoji.emojize('Python is awesome :thumbs_up:'))"
      ]
    },
    {
      "cell_type": "markdown",
      "metadata": {
        "id": "5jpD7nr9NrKR"
      },
      "source": [
        "##EX01\n",
        "### Liste de dictionnaire\n",
        "\n",
        "* à partir d'un fichier  [csv](./td_04)\n",
        "\n",
        "\n",
        "\n",
        "* en résultat une liste de dicts qui doit contenir le titre de la série, la plateforme de streaming (légal), le nombre d'épisodes de la série, l'année de sortie et une note /10.\n"
      ]
    },
    {
      "cell_type": "code",
      "execution_count": null,
      "metadata": {},
      "outputs": [],
      "source": [
        "# Code here"
      ]
    },
    {
      "cell_type": "markdown",
      "metadata": {
        "id": "XdJvMT9xVoRS"
      },
      "source": [
        "# Bonus (Mandatory)\n",
        "\n",
        "\n"
      ]
    },
    {
      "cell_type": "markdown",
      "metadata": {
        "id": "94-12vgPXG10"
      },
      "source": [
        "## Github\n",
        "Pour soumettre votre travail: \n",
        "\n",
        "1.   Commit changes to a branch and push to [github](https://google.com)\n",
        "2.   Create pull request / merge request\n"
      ]
    }
  ],
  "metadata": {
    "colab": {
      "collapsed_sections": [
        "Y1g4EgT41MqJ",
        "SHsrGdy-5AZK",
        "W3BGjEYaf2UQ"
      ],
      "include_colab_link": true,
      "provenance": []
    },
    "kernelspec": {
      "display_name": "Python 3.7.9 ('stage23': venv)",
      "language": "python",
      "name": "python3"
    },
    "language_info": {
      "name": "python",
      "version": "3.7.9"
    },
    "vscode": {
      "interpreter": {
        "hash": "3f45e4e28fced15a12b4694155ea95b08e6e198f7a4414e8438d9413ea05e02f"
      }
    }
  },
  "nbformat": 4,
  "nbformat_minor": 0
}
