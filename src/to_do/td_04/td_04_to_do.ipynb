{
 "cells": [
  {
   "cell_type": "markdown",
   "metadata": {
    "colab_type": "text",
    "id": "view-in-github"
   },
   "source": [
    "<a href=\"https://colab.research.google.com/github/lapointe05/m1-miage/blob/main/src/to_do/td_04/td_04_to_do.ipynb\" target=\"_parent\"><img src=\"https://colab.research.google.com/assets/colab-badge.svg\" alt=\"Open In Colab\"/></a>\n"
   ]
  },
  {
   "cell_type": "markdown",
   "metadata": {
    "id": "597Hu82gSNCZ"
   },
   "source": [
    "<img src=\"https://upload.wikimedia.org/wikipedia/fr/0/0b/Polytech_Lyon_logo.png\" alt=\"drawing\" height=\"200\"/>\n",
    "\n",
    "# Algorithmique Avancée & Programmation en Python\n",
    "---\n",
    "\n"
   ]
  },
  {
   "cell_type": "markdown",
   "metadata": {
    "id": "EA-XK862WiMt"
   },
   "source": [
    "# TD 04\n",
    "\n",
    "Intro aux traitement de données\n",
    "\n",
    "```python\n",
    "print(\"Hello, friend! It's been a while...\")\n",
    "```\n",
    " \n",
    "Elements à consulter:\n",
    "\n",
    "\n",
    "Doc                                   |             Link\n",
    "--------------------------------------|------------------------------------\n",
    "Python en 30 jours | [>link<](https://moncoachdata.com/courses/apprendre-python-en-30-jours/)\n",
    "Get started with pandas | [>link<](https://colab.research.google.com/notebooks/snippets/pandas.ipynb)\n",
    "\n"
   ]
  },
  {
   "cell_type": "markdown",
   "metadata": {
    "id": "Y1g4EgT41MqJ"
   },
   "source": [
    "## Intro\n",
    "\n",
    "Le premier bloc devrait toujours contenir les installs/imports dont on aura besoin pour le reste"
   ]
  },
  {
   "cell_type": "code",
   "execution_count": 1,
   "metadata": {
    "colab": {
     "base_uri": "https://localhost:8080/"
    },
    "id": "yjiE8c51VoT0",
    "outputId": "88029a55-7ea9-4945-f975-2bdea0d2be95"
   },
   "outputs": [],
   "source": [
    "# Installs\n",
    "!pip install emoji --quiet"
   ]
  },
  {
   "cell_type": "code",
   "execution_count": 2,
   "metadata": {
    "colab": {
     "base_uri": "https://localhost:8080/"
    },
    "id": "JhT-50uwz72F",
    "outputId": "3e6b6a89-5efe-4122-9274-710c2d526432"
   },
   "outputs": [
    {
     "name": "stdout",
     "output_type": "stream",
     "text": [
      "Python is awesome 👍\n"
     ]
    }
   ],
   "source": [
    "# Imports\n",
    "import os\n",
    "import json\n",
    "from random import randint\n",
    "# import pandas as pd\n",
    "# import numpy as np\n",
    "from getpass import getpass\n",
    "import emoji\n",
    "\n",
    "print(emoji.emojize('Python is awesome :thumbs_up:'))"
   ]
  },
  {
   "cell_type": "markdown",
   "metadata": {
    "id": "5jpD7nr9NrKR"
   },
   "source": [
    "##EX01\n",
    "### Liste de dictionnaire\n",
    "\n",
    "* à partir d'un fichier  [csv](./td_04)\n",
    "\n",
    "\n",
    "\n",
    "* en résultat une liste de dicts qui doit contenir le titre de la série, la plateforme de streaming (légal), le nombre d'épisodes de la série, l'année de sortie et une note /10.\n"
   ]
  },
  {
   "cell_type": "code",
   "execution_count": 72,
   "metadata": {},
   "outputs": [
    {
     "name": "stdout",
     "output_type": "stream",
     "text": [
      "{'Titre': 'Breaking Bad', 'Annee sortie': '2008', 'Note': '9.70', 'Netflix': True, 'Hulu': False, 'Prime Video': False, 'Disney+': False}\n"
     ]
    }
   ],
   "source": [
    "# Code here\n",
    "def ajout_nom(dictionnaire, data):\n",
    "    #add the title part in the dictionnary\n",
    "    dictionnaire[\"Titre\"] = data[1]\n",
    "    \n",
    "def ajout_annee_sortie(dictionnaire, data):\n",
    "    #add the release year of the film in the dictionnary\n",
    "    dictionnaire[\"Annee sortie\"] = data[2]\n",
    "    \n",
    "def ajout_note(dictionnaire, data):\n",
    "    #add the IMDb or the Rotten Tomatoes score or an average between those two in the dictionnary\n",
    "    try:\n",
    "        note_imdb = data[4]\n",
    "        note_imdb_split = note_imdb.split(\"/\")\n",
    "        note_imdb = note_imdb_split[0]\n",
    "        bool_imdb = True\n",
    "    except:\n",
    "        bool_imdb = False\n",
    "        \n",
    "    try:\n",
    "        note_rotten_tomatoes = data[5]\n",
    "        note_rotten_tomatoes_split = note_rotten_tomatoes.split(\"/\")\n",
    "        note_rotten_tomatoes = float(note_rotten_tomatoes_split[0]) / 10\n",
    "        bool_rotten = True\n",
    "    except:\n",
    "        bool_rotten = False\n",
    "        \n",
    "        \n",
    "    if bool_imdb and bool_rotten:\n",
    "        try:\n",
    "            note_moyenne = (float(note_imdb) + float(note_rotten_tomatoes)) / 2\n",
    "            bool_moyenne = True\n",
    "        except:\n",
    "            bool_moyenne = False\n",
    "        else:\n",
    "            dictionnaire[\"Note\"] = \"%.2f\" % note_moyenne\n",
    "            \n",
    "    elif not bool_imdb and bool_rotten:\n",
    "        dictionnaire[\"Note\"] = note_rotten_tomatoes\n",
    "        \n",
    "    elif bool_imdb and not bool_rotten:\n",
    "        dictionnaire[\"Note\"] = note_imdb\n",
    "        \n",
    "    else:\n",
    "        dictionnaire[\"Note\"] = \"Non renseignée\"\n",
    "    \n",
    "def ajout_plateforme(dictionnaire, data):\n",
    "    #add the plateform in the dictionnary\n",
    "    if data[6] == '1':\n",
    "        dictionnaire[\"Netflix\"] = True\n",
    "    else:\n",
    "        dictionnaire[\"Netflix\"] = False\n",
    "    \n",
    "    if data[7] == '1':\n",
    "        dictionnaire[\"Hulu\"] = True\n",
    "    else:\n",
    "        dictionnaire[\"Hulu\"] = False\n",
    "    \n",
    "    if data[8] == '1':\n",
    "        dictionnaire[\"Prime Video\"] = True\n",
    "    else:\n",
    "        dictionnaire[\"Prime Video\"] = False\n",
    "    \n",
    "    if data[9] == '1':\n",
    "        dictionnaire[\"Disney+\"] = True\n",
    "    else:\n",
    "        dictionnaire[\"Disney+\"] = False\n",
    "\n",
    "with open(\"tv_shows.csv\",'r', encoding='utf-8') as f:\n",
    "    #open the csv file and fill the dictionnary with the wanted informations\n",
    "    #then add the dictionnary at the end of the list\n",
    "    i=0\n",
    "    list_dict=[]\n",
    "    for line in f:\n",
    "        if i != 0:\n",
    "            line = \"\".join(line)\n",
    "            line_splited = line.split('|')\n",
    "            dict0 = {}\n",
    "            ajout_nom(dict0, line_splited)\n",
    "            ajout_annee_sortie(dict0, line_splited)\n",
    "            ajout_note(dict0, line_splited)\n",
    "            ajout_plateforme(dict0, line_splited)\n",
    "            list_dict.append(dict0)\n",
    "        else:\n",
    "            i = i + 1\n",
    "        \n",
    "    print(list_dict[0])\n"
   ]
  },
  {
   "cell_type": "markdown",
   "metadata": {
    "id": "XdJvMT9xVoRS"
   },
   "source": [
    "# Bonus (Mandatory)\n",
    "\n",
    "\n"
   ]
  },
  {
   "cell_type": "markdown",
   "metadata": {
    "id": "94-12vgPXG10"
   },
   "source": [
    "## Github\n",
    "Pour soumettre votre travail: \n",
    "\n",
    "1.   Commit changes to a branch and push to [github](https://google.com)\n",
    "2.   Create pull request / merge request\n"
   ]
  }
 ],
 "metadata": {
  "colab": {
   "collapsed_sections": [
    "Y1g4EgT41MqJ",
    "SHsrGdy-5AZK",
    "W3BGjEYaf2UQ"
   ],
   "include_colab_link": true,
   "provenance": []
  },
  "kernelspec": {
   "display_name": "Python 3 (ipykernel)",
   "language": "python",
   "name": "python3"
  },
  "language_info": {
   "codemirror_mode": {
    "name": "ipython",
    "version": 3
   },
   "file_extension": ".py",
   "mimetype": "text/x-python",
   "name": "python",
   "nbconvert_exporter": "python",
   "pygments_lexer": "ipython3",
   "version": "3.9.13"
  },
  "vscode": {
   "interpreter": {
    "hash": "3f45e4e28fced15a12b4694155ea95b08e6e198f7a4414e8438d9413ea05e02f"
   }
  }
 },
 "nbformat": 4,
 "nbformat_minor": 1
}
