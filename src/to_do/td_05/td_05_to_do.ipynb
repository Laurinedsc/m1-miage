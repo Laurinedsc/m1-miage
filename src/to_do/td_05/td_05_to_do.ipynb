{
 "cells": [
  {
   "cell_type": "markdown",
   "metadata": {
    "id": "597Hu82gSNCZ"
   },
   "source": [
    "<img src=\"https://upload.wikimedia.org/wikipedia/fr/0/0b/Polytech_Lyon_logo.png\" alt=\"drawing\" height=\"200\"/>\n",
    "\n",
    "# Traitement de données & Programmation en Python\n",
    "---\n",
    "\n"
   ]
  },
  {
   "cell_type": "markdown",
   "metadata": {
    "id": "EA-XK862WiMt"
   },
   "source": [
    "# TD 05\n",
    "\n",
    "Traitement de données\n",
    "\n",
    "![Good luck!](https://media.tenor.com/YoFWnXe4V3kAAAAd/may-the-odds-be-ever-in-your-favor-may-the-odds-hunger-games.gif)\n",
    " \n",
    "Elements à consulter:\n",
    "\n",
    "\n",
    "\n",
    "\n",
    "\n",
    "Doc                                   |             Link\n",
    "--------------------------------------|------------------------------------\n",
    "Github Helper      | [>link<](#scrollTo=Github_101)\n",
    "Python en 30 jours | [>link<](https://moncoachdata.com/courses/apprendre-python-en-30-jours/)\n",
    "Get started with pandas | [>link<](https://colab.research.google.com/notebooks/snippets/pandas.ipynb)"
   ]
  },
  {
   "cell_type": "markdown",
   "metadata": {
    "id": "Y1g4EgT41MqJ"
   },
   "source": [
    "## Intro\n",
    "\n",
    "Le premier bloc devrait toujours contenir les installs/imports dont on aura besoin pour le reste"
   ]
  },
  {
   "cell_type": "code",
   "execution_count": 8,
   "metadata": {
    "colab": {
     "base_uri": "https://localhost:8080/"
    },
    "id": "yjiE8c51VoT0",
    "outputId": "2f4856bd-590b-4197-a9f0-e3a020d191eb"
   },
   "outputs": [
    {
     "name": "stdout",
     "output_type": "stream",
     "text": [
      "Python is awesome 👍\n"
     ]
    }
   ],
   "source": [
    "# Installs\n",
    "print(\"Python is awesome 👍\")"
   ]
  },
  {
   "cell_type": "code",
   "execution_count": 9,
   "metadata": {
    "id": "JhT-50uwz72F"
   },
   "outputs": [],
   "source": [
    "# Imports\n",
    "import os\n",
    "import json\n",
    "from random import randint\n",
    "import pandas as pd\n",
    "import numpy as np"
   ]
  },
  {
   "cell_type": "code",
   "execution_count": 10,
   "metadata": {
    "colab": {
     "base_uri": "https://localhost:8080/"
    },
    "id": "NsB9ADLg8i8P",
    "outputId": "162e09d0-12e6-4112-972d-91cea118215a"
   },
   "outputs": [
    {
     "data": {
      "text/plain": [
       "(2, 3)"
      ]
     },
     "execution_count": 10,
     "metadata": {},
     "output_type": "execute_result"
    }
   ],
   "source": [
    "x = np.array([[1, 2, 3], [4, 5, 6]], np.int32)\n",
    "\n",
    "x.shape"
   ]
  },
  {
   "cell_type": "markdown",
   "metadata": {
    "id": "k2lJWv62kQZA"
   },
   "source": [
    "##EX01\n",
    "### Numpy intro\n",
    "\n",
    "* Créer un vecteur depuis la liste ['Lyon', 'Paris', 'Montpellier']\n",
    "    * Assigner le résultat à la variable `villes`\n",
    "* Créer une matrice depuis la liste de listes suivante: `[['Lyon', '69'], ['Paris', '75'], ['Montpellier','34']]`\n",
    "    * Assigner le résultat à la variable `villes_departement`\n",
    "* Assigner la taille du vecteur `villes` à la variable `v_shape`\n",
    "* Assigner la taille du tableau `villes_departement` à la variable `vd_shape` \n",
    "* Afficher les résultats"
   ]
  },
  {
   "cell_type": "code",
   "execution_count": 90,
   "metadata": {
    "id": "n_jOsgGllUhC"
   },
   "outputs": [
    {
     "name": "stdout",
     "output_type": "stream",
     "text": [
      "Voici le vecteur villes: ['Lyon' 'Paris' 'Montpellier']\n",
      "\n",
      "\n",
      "Voici le vecteur villes département: [['Lyon' '69']\n",
      " ['Paris' '75']\n",
      " ['Montpellier' '34']]\n",
      "\n",
      "\n",
      "Le tableau villes a une taille de 3 et villes département une taille de 3.\n"
     ]
    }
   ],
   "source": [
    "# Liste villes\n",
    "\n",
    "liste_villes = ['Lyon','Paris','Montpellier']\n",
    "\n",
    "villes = np.array(liste_villes)\n",
    "\n",
    "print(f'Voici le vecteur villes: {villes}\\n\\n')\n",
    "\n",
    "\n",
    "# Liste villes départements\n",
    "\n",
    "\n",
    "mat_villes_dep = [['Lyon', '69'], ['Paris', '75'], ['Montpellier','34']]\n",
    "\n",
    "villes_departement = np.array(mat_villes_dep)\n",
    "\n",
    "print(f'Voici le vecteur villes département: {villes_departement}\\n\\n')\n",
    "\n",
    "\n",
    "# Tailles\n",
    "\n",
    "\n",
    "v_shape = villes.shape[0]\n",
    "\n",
    "vd_shape = villes_departement.shape[0]\n",
    "\n",
    "print(f'Le tableau villes a une taille de {v_shape} et villes département une taille de {vd_shape}.')"
   ]
  },
  {
   "cell_type": "markdown",
   "metadata": {
    "id": "Q8WBS9oVKcWs"
   },
   "source": [
    "##EX02\n",
    "### Numpy intro\n",
    "\n",
    "#### Part 1\n",
    "\n",
    "* Telecharger le dataset [cereal.csv](https://www.kaggle.com/datasets/crawford/80-cereals?select=cereal.csv) avec les colonnes suivantes :\n",
    "\n",
    "```\n",
    "['name', 'mfr', 'type', 'calories', 'protein', 'fat', 'sodium', 'fiber',\n",
    "'carbo', 'sugars', 'potass', 'vitamins', 'shelf', 'weight', 'cups',\n",
    "'rating']\n",
    "```\n",
    "\n",
    "* Afficher les deux premieres colonnes et toute les lignes\n",
    "* Afficher la dernière colonne\n",
    "* Afficher les 5 premieres lignes de la 4ème colonne\n",
    "* Assigner a une variable `corn_flakes_cals` le nombre de calories par 100 gr de céréales de la marque Corn Flakes \n",
    "* Assigner le nom de la 3eme marque sur le dataset a une variabe `third_brand`\n",
    "* Mettre dans une liste toutes les marques de céreales en utilisant `.tolist()` & afficher cette dernière\n",
    "* Mettre les 10 premiere marques dans le fichiers dans une liste `first_ten_brands` & afficher cette dernière\n",
    "> bonus \n",
    "* Convertir la colonne ratings en décimale"
   ]
  },
  {
   "cell_type": "code",
   "execution_count": 106,
   "metadata": {
    "colab": {
     "base_uri": "https://localhost:8080/"
    },
    "id": "XTDsqYIgpitx",
    "outputId": "d2cd6d75-cf4d-4421-c34f-097def1f3b94"
   },
   "outputs": [
    {
     "name": "stdout",
     "output_type": "stream",
     "text": [
      "Les deux premiers éléments sont:\n",
      "[['name' 'mfr' 'type' 'calories' 'protein' 'fat' 'sodium' 'fiber' 'carbo'\n",
      "  'sugars' 'potass' 'vitamins' 'shelf' 'weight' 'cups' 'rating']\n",
      " ['100% Bran' 'N' 'C' '70' '4' '1' '130' '10' '5' '6' '280' '25' '3' '1'\n",
      "  '0.33' '68.402973']]\n",
      "\n",
      "Voici la dernière colonne:\n",
      "rating\n",
      "\n",
      "Les cinq premières lignes de la quatrième colonne sont:\n",
      "['calories' '70' '120' '70' '50']\n",
      "\n",
      "Pour 100g, les céréales de la marque Corn Flakes ont 1 cal.\n",
      "\n",
      "Le nom de la troisième marque est All-Bran.\n"
     ]
    }
   ],
   "source": [
    "    # Code here\n",
    "    \n",
    "file_path = \"C:/Users/a.aulagnier/Documents/Cours/MIAGE/Data/cereal.csv\" # recompile pas stp\n",
    "\n",
    "data = np.genfromtxt(\n",
    "    \n",
    "                      file_path,\n",
    "    \n",
    "    dtype = None,\n",
    "    \n",
    "    delimiter = ',',\n",
    "    \n",
    "    filling_values = None,\n",
    "    \n",
    "    # names = True # le paramètre avait l'air cool mais ça retournait des tuples dans une array T_T ça m'a pris 1h\n",
    "    \n",
    "    encoding = None\n",
    "    \n",
    "                     )\n",
    "\n",
    "print(f'Les deux premiers éléments sont:\\n{data[:2]}\\n') # retourne les deux premiers éléments\n",
    "\n",
    "print(f'Voici la dernière colonne:\\n{data[0,-1]}\\n') # je savais pas si c'était ça ou data[:,-1] (un peu moins beau, mais plus exhaustif ^^'')\n",
    "\n",
    "print(f'Les cinq premières lignes de la quatrième colonne sont:\\n{data[:5, 3]}')\n"
   ]
  },
  {
   "cell_type": "code",
   "execution_count": 107,
   "metadata": {},
   "outputs": [
    {
     "name": "stdout",
     "output_type": "stream",
     "text": [
      "\n",
      "Pour 100g, les céréales de la marque Corn Flakes ont 1 cal.\n"
     ]
    }
   ],
   "source": [
    "corn_flakes_cals = int(data[(data[:,0]=='Corn Flakes'),3])//100 \n",
    "\n",
    "# On applique à data le résultat du test \"Corn Flakes\" sur ses lignes\n",
    "\n",
    "print(f'\\nPour 100g, les céréales de la marque Corn Flakes ont {corn_flakes_cals} cal.')"
   ]
  },
  {
   "cell_type": "code",
   "execution_count": 108,
   "metadata": {},
   "outputs": [
    {
     "name": "stdout",
     "output_type": "stream",
     "text": [
      "\n",
      "Le nom de la troisième marque est All-Bran.\n"
     ]
    }
   ],
   "source": [
    "third_brand = data[3,(data[0,:]=='name')]\n",
    "\n",
    "# Comme je veux la colonne de nom, j'applique le résultat de la vérification des colonnes\n",
    "# == True si elles s'appellent \"name\" sinon False\n",
    "\n",
    "print(f'\\nLe nom de la troisième marque est {third_brand[0]}.')\n",
    "\n",
    "# Comme third_brand est une liste, je mets [0] pour la lisibilité"
   ]
  },
  {
   "cell_type": "code",
   "execution_count": 155,
   "metadata": {},
   "outputs": [],
   "source": [
    "# Cette fonction est utile pour transformer des listes de listes en listes (une dimension), cas rencontré ci-dessous\n",
    "# Merci Stack Overflow B)\n",
    "\n",
    "def flatten_list(l):\n",
    "    \n",
    "    flat_list = [item for sublist in l for item in sublist]\n",
    "    \n",
    "    return flat_list"
   ]
  },
  {
   "cell_type": "code",
   "execution_count": 160,
   "metadata": {},
   "outputs": [
    {
     "name": "stdout",
     "output_type": "stream",
     "text": [
      "Voici la liste de toutes les marques: ['100% Bran', '100% Natural Bran', 'All-Bran', 'All-Bran with Extra Fiber', 'Almond Delight', 'Apple Cinnamon Cheerios', 'Apple Jacks', 'Basic 4', 'Bran Chex', 'Bran Flakes', \"Cap'n'Crunch\", 'Cheerios', 'Cinnamon Toast Crunch', 'Clusters', 'Cocoa Puffs', 'Corn Chex', 'Corn Flakes', 'Corn Pops', 'Count Chocula', \"Cracklin' Oat Bran\", 'Cream of Wheat (Quick)', 'Crispix', 'Crispy Wheat & Raisins', 'Double Chex', 'Froot Loops', 'Frosted Flakes', 'Frosted Mini-Wheats', 'Fruit & Fibre Dates; Walnuts; and Oats', 'Fruitful Bran', 'Fruity Pebbles', 'Golden Crisp', 'Golden Grahams', 'Grape Nuts Flakes', 'Grape-Nuts', 'Great Grains Pecan', 'Honey Graham Ohs', 'Honey Nut Cheerios', 'Honey-comb', 'Just Right Crunchy  Nuggets', 'Just Right Fruit & Nut', 'Kix', 'Life', 'Lucky Charms', 'Maypo', 'Muesli Raisins; Dates; & Almonds', 'Muesli Raisins; Peaches; & Pecans', 'Mueslix Crispy Blend', 'Multi-Grain Cheerios', 'Nut&Honey Crunch', 'Nutri-Grain Almond-Raisin', 'Nutri-grain Wheat', 'Oatmeal Raisin Crisp', 'Post Nat. Raisin Bran', 'Product 19', 'Puffed Rice', 'Puffed Wheat', 'Quaker Oat Squares', 'Quaker Oatmeal', 'Raisin Bran', 'Raisin Nut Bran', 'Raisin Squares', 'Rice Chex', 'Rice Krispies', 'Shredded Wheat', \"Shredded Wheat 'n'Bran\", 'Shredded Wheat spoon size', 'Smacks', 'Special K', 'Strawberry Fruit Wheats', 'Total Corn Flakes', 'Total Raisin Bran', 'Total Whole Grain', 'Triples', 'Trix', 'Wheat Chex', 'Wheaties', 'Wheaties Honey Gold']\n"
     ]
    }
   ],
   "source": [
    "all_brands = flatten_list(data[1:,(data[0,:]=='name')].tolist())\n",
    "\n",
    "print(f'Voici la liste de toutes les marques: {all_brands}')"
   ]
  },
  {
   "cell_type": "code",
   "execution_count": 164,
   "metadata": {},
   "outputs": [
    {
     "name": "stdout",
     "output_type": "stream",
     "text": [
      "\n",
      "Voici les dix premières marques: ['100% Bran', '100% Natural Bran', 'All-Bran', 'All-Bran with Extra Fiber', 'Almond Delight', 'Apple Cinnamon Cheerios', 'Apple Jacks', 'Basic 4', 'Bran Chex']\n",
      "\n"
     ]
    }
   ],
   "source": [
    "first_ten_brands = flatten_list(data[1:10,(data[0,:]=='name')].tolist())\n",
    "\n",
    "# Range 1:10 pour ne pas prendre la ligne des headers ! Avec encore une vérification de 'name'\n",
    "# Le résultat en liste\n",
    "\n",
    "print(f'\\nVoici les dix premières marques: {first_ten_brands}\\n')"
   ]
  },
  {
   "cell_type": "code",
   "execution_count": 158,
   "metadata": {},
   "outputs": [
    {
     "name": "stdout",
     "output_type": "stream",
     "text": [
      "68.40\n",
      "33.98\n",
      "59.43\n",
      "93.70\n",
      "34.38\n",
      "29.51\n",
      "33.17\n",
      "37.04\n",
      "49.12\n",
      "53.31\n",
      "18.04\n",
      "50.76\n",
      "19.82\n",
      "40.40\n",
      "22.74\n",
      "41.45\n",
      "45.86\n",
      "35.78\n",
      "22.40\n",
      "40.45\n",
      "64.53\n",
      "46.90\n",
      "36.18\n",
      "44.33\n",
      "32.21\n",
      "31.44\n",
      "58.35\n",
      "40.92\n",
      "41.02\n",
      "28.03\n",
      "35.25\n",
      "23.80\n",
      "52.08\n",
      "53.37\n",
      "45.81\n",
      "21.87\n",
      "31.07\n",
      "28.74\n",
      "36.52\n",
      "36.47\n",
      "39.24\n",
      "45.33\n",
      "26.73\n",
      "54.85\n",
      "37.14\n",
      "34.14\n",
      "30.31\n",
      "40.11\n",
      "29.92\n",
      "40.69\n",
      "59.64\n",
      "30.45\n",
      "37.84\n",
      "41.50\n",
      "60.76\n",
      "63.01\n",
      "49.51\n",
      "50.83\n",
      "39.26\n",
      "39.70\n",
      "55.33\n",
      "42.00\n",
      "40.56\n",
      "68.24\n",
      "74.47\n",
      "72.80\n",
      "31.23\n",
      "53.13\n",
      "59.36\n",
      "38.84\n",
      "28.59\n",
      "46.66\n",
      "39.11\n",
      "27.75\n",
      "49.79\n",
      "51.59\n",
      "36.19\n"
     ]
    }
   ],
   "source": [
    "from decimal import Decimal \n",
    "\n",
    "# avec cette bibliothèque, nous allons pouvoir changer la chaîne de caractères en décimal\n",
    "# avec 2 chiffres après la virgule\n",
    "\n",
    "notes = flatten_list(data[1:,(data[0,:]=='rating')].tolist()) \n",
    "\n",
    "# La fonction flatten_list n'est pas seulement un plus, elle s'avère par la suite nécessaire\n",
    "# Car l'on veut gérer des listes et non des listes de listes\n",
    "\n",
    "notes_dec = [] # Liste vide\n",
    "\n",
    "for i in range(len(notes)): # On parcourt bien la range et non les objets car on veut les indices \n",
    "    \n",
    "    inote = Decimal(notes[i])\n",
    "\n",
    "    notes_dec.append(round(inote,2)) # On réduit à 2 décimales pour une meilleure lisibilité\n",
    "    \n",
    "    # il faut bien utiliser append à chaque extension de liste, sinon une erreur peut apparaître :o! \n",
    "\n",
    "\n",
    "for j in notes_dec:\n",
    "    \n",
    "    print(j) # Les notes sont affichées comme ligne par ligne\n",
    "    "
   ]
  },
  {
   "cell_type": "markdown",
   "metadata": {
    "id": "8BaW1VvWXCS7"
   },
   "source": [
    "#### Part 2\n",
    "\n",
    "* **Extraire** la premiere colonne du dataset et **la comparer** à la valeur `'Special K'` Assigner le resultat à une variable `special_k`\n",
    "* Executer la commande `print(data[special_k])`\n",
    "> bonus\n",
    "* Faire la meme chose mais le filtre verifie que le manufacturer est Quaker Oats (lire la doc du dataset 😉)\n",
    "> bonus ²\n",
    "* Print le nom des marques dont le fabricant est `Quaker Oats` et qui contiennent **moins** de `10 grammes` de sucre par portion\n",
    "* Ajouter une marque de céréales \"healthy\" avec 0 grammes de sucre au dataset "
   ]
  },
  {
   "cell_type": "code",
   "execution_count": 274,
   "metadata": {
    "colab": {
     "base_uri": "https://localhost:8080/"
    },
    "id": "GuXFyhUepnMc",
    "outputId": "6ec9c05d-a76c-4d8f-8c48-6285d32b6953"
   },
   "outputs": [
    {
     "name": "stdout",
     "output_type": "stream",
     "text": [
      "\n",
      "Voici les informations de Special K: [['Special K', 'K', 'C', '110', '6', '0', '230', '1', '16', '3', '55', '25', '1', '1', '1', '53.131324']]\n",
      "\n",
      "Avec le flatenning de liste: ['Special K', 'K', 'C', '110', '6', '0', '230', '1', '16', '3', '55', '25', '1', '1', '1', '53.131324']\n"
     ]
    }
   ],
   "source": [
    "# Special K <<<< Miel Pop's mais bon\n",
    "\n",
    "special_k = (data[:,0] == 'Special K') # Comparaison de tous les premiers éléments(ie les colonnes) à 'Special K'\n",
    "\n",
    "print(f'\\nVoici les informations de Special K: {data[special_k].tolist()}')\n",
    "\n",
    "# Grâce à tolist(), pas besoin de gérer une array (un vecteur pour les puristes de la langue :o)\n",
    "\n",
    "print(f'\\nAvec le flatenning de liste: {flatten_list(data[special_k])}')"
   ]
  },
  {
   "cell_type": "code",
   "execution_count": 178,
   "metadata": {},
   "outputs": [
    {
     "name": "stdout",
     "output_type": "stream",
     "text": [
      "\n",
      " Voici l'ensemble des céréales dont le fabricant est Quaker Oats: [['100% Natural Bran' 'Q' 'C' '120' '3' '5' '15' '2' '8' '8' '135' '0'\n",
      "  '3' '1' '1' '33.983679']\n",
      " [\"Cap'n'Crunch\" 'Q' 'C' '120' '1' '2' '220' '0' '12' '12' '35' '25' '2'\n",
      "  '1' '0.75' '18.042851']\n",
      " ['Honey Graham Ohs' 'Q' 'C' '120' '1' '2' '220' '1' '12' '11' '45' '25'\n",
      "  '2' '1' '1' '21.871292']\n",
      " ['Life' 'Q' 'C' '100' '4' '2' '150' '2' '12' '6' '95' '25' '2' '1'\n",
      "  '0.67' '45.328074']\n",
      " ['Puffed Rice' 'Q' 'C' '50' '1' '0' '0' '0' '13' '0' '15' '0' '3' '0.5'\n",
      "  '1' '60.756112']\n",
      " ['Puffed Wheat' 'Q' 'C' '50' '2' '0' '0' '1' '10' '0' '50' '0' '3' '0.5'\n",
      "  '1' '63.005645']\n",
      " ['Quaker Oat Squares' 'Q' 'C' '100' '4' '1' '135' '2' '14' '6' '110'\n",
      "  '25' '3' '1' '0.5' '49.511874']\n",
      " ['Quaker Oatmeal' 'Q' 'H' '100' '5' '2' '0' '2.7' '-1' '-1' '110' '0'\n",
      "  '1' '1' '0.67' '50.828392']]\n",
      "\n"
     ]
    }
   ],
   "source": [
    "manufacturer = (data[0,:] == 'mfr')\n",
    "\n",
    "quaker_oats = flatten_list((data[:,manufacturer] == 'Q'))\n",
    "\n",
    "print(f\"\\n Voici l'ensemble des céréales dont le fabricant est Quaker Oats: {data[quaker_oats]}\\n\")\n",
    "\n",
    "# On procède ici à une double vérification, en lignes puis en colonnes"
   ]
  },
  {
   "cell_type": "code",
   "execution_count": 281,
   "metadata": {},
   "outputs": [
    {
     "name": "stdout",
     "output_type": "stream",
     "text": [
      "['100% Natural Bran' 'Q' 'C' '120' '3' '5' '15' '2' '8' '8' '135' '0' '3'\n",
      " '1' '1' '33.983679']\n",
      "['Life' 'Q' 'C' '100' '4' '2' '150' '2' '12' '6' '95' '25' '2' '1' '0.67'\n",
      " '45.328074']\n",
      "['Puffed Rice' 'Q' 'C' '50' '1' '0' '0' '0' '13' '0' '15' '0' '3' '0.5'\n",
      " '1' '60.756112']\n",
      "['Puffed Wheat' 'Q' 'C' '50' '2' '0' '0' '1' '10' '0' '50' '0' '3' '0.5'\n",
      " '1' '63.005645']\n",
      "['Quaker Oat Squares' 'Q' 'C' '100' '4' '1' '135' '2' '14' '6' '110' '25'\n",
      " '3' '1' '0.5' '49.511874']\n",
      "['Quaker Oatmeal' 'Q' 'H' '100' '5' '2' '0' '2.7' '-1' '-1' '110' '0' '1'\n",
      " '1' '0.67' '50.828392']\n"
     ]
    },
    {
     "ename": "AxisError",
     "evalue": "axis 2 is out of bounds for array of dimension 2",
     "output_type": "error",
     "traceback": [
      "\u001b[1;31m---------------------------------------------------------------------------\u001b[0m",
      "\u001b[1;31mAxisError\u001b[0m                                 Traceback (most recent call last)",
      "\u001b[1;32m<ipython-input-281-4a67fa9acd3e>\u001b[0m in \u001b[0;36m<module>\u001b[1;34m\u001b[0m\n\u001b[0;32m     12\u001b[0m     \u001b[0mprint\u001b[0m\u001b[1;33m(\u001b[0m\u001b[0mi\u001b[0m\u001b[1;33m)\u001b[0m\u001b[1;33m\u001b[0m\u001b[1;33m\u001b[0m\u001b[0m\n\u001b[0;32m     13\u001b[0m \u001b[1;33m\u001b[0m\u001b[0m\n\u001b[1;32m---> 14\u001b[1;33m \u001b[0mnp\u001b[0m\u001b[1;33m.\u001b[0m\u001b[0mappend\u001b[0m\u001b[1;33m(\u001b[0m\u001b[0mdata\u001b[0m\u001b[1;33m,\u001b[0m\u001b[1;33m[\u001b[0m\u001b[1;33m[\u001b[0m\u001b[1;34m'Healthy'\u001b[0m\u001b[1;33m,\u001b[0m\u001b[1;34m'Alexis le super BG'\u001b[0m\u001b[1;33m,\u001b[0m\u001b[1;34m'C'\u001b[0m\u001b[1;33m,\u001b[0m\u001b[1;34m'0'\u001b[0m\u001b[1;33m,\u001b[0m\u001b[1;34m'0'\u001b[0m\u001b[1;33m,\u001b[0m\u001b[1;34m'0'\u001b[0m\u001b[1;33m,\u001b[0m\u001b[1;34m'0'\u001b[0m\u001b[1;33m,\u001b[0m\u001b[1;34m'0'\u001b[0m\u001b[1;33m,\u001b[0m\u001b[1;34m'0'\u001b[0m\u001b[1;33m,\u001b[0m\u001b[1;34m'0'\u001b[0m\u001b[1;33m,\u001b[0m\u001b[1;34m'0'\u001b[0m\u001b[1;33m,\u001b[0m\u001b[1;34m'0'\u001b[0m\u001b[1;33m,\u001b[0m\u001b[1;34m'0'\u001b[0m\u001b[1;33m,\u001b[0m\u001b[1;34m'0'\u001b[0m\u001b[1;33m,\u001b[0m\u001b[1;34m'0'\u001b[0m\u001b[1;33m,\u001b[0m\u001b[1;34m'0'\u001b[0m\u001b[1;33m]\u001b[0m\u001b[1;33m]\u001b[0m\u001b[1;33m,\u001b[0m\u001b[0maxis\u001b[0m\u001b[1;33m=\u001b[0m\u001b[1;36m2\u001b[0m\u001b[1;33m)\u001b[0m\u001b[1;33m\u001b[0m\u001b[1;33m\u001b[0m\u001b[0m\n\u001b[0m\u001b[0;32m     15\u001b[0m \u001b[1;33m\u001b[0m\u001b[0m\n\u001b[0;32m     16\u001b[0m \u001b[0mprint\u001b[0m\u001b[1;33m(\u001b[0m\u001b[0mdata\u001b[0m\u001b[1;33m[\u001b[0m\u001b[1;33m-\u001b[0m\u001b[1;36m1\u001b[0m\u001b[1;33m,\u001b[0m\u001b[1;33m:\u001b[0m\u001b[1;33m]\u001b[0m\u001b[1;33m)\u001b[0m\u001b[1;33m\u001b[0m\u001b[1;33m\u001b[0m\u001b[0m\n",
      "\u001b[1;32m<__array_function__ internals>\u001b[0m in \u001b[0;36mappend\u001b[1;34m(*args, **kwargs)\u001b[0m\n",
      "\u001b[1;32m~\\Anaconda3\\lib\\site-packages\\numpy\\lib\\function_base.py\u001b[0m in \u001b[0;36mappend\u001b[1;34m(arr, values, axis)\u001b[0m\n\u001b[0;32m   4691\u001b[0m         \u001b[0mvalues\u001b[0m \u001b[1;33m=\u001b[0m \u001b[0mravel\u001b[0m\u001b[1;33m(\u001b[0m\u001b[0mvalues\u001b[0m\u001b[1;33m)\u001b[0m\u001b[1;33m\u001b[0m\u001b[1;33m\u001b[0m\u001b[0m\n\u001b[0;32m   4692\u001b[0m         \u001b[0maxis\u001b[0m \u001b[1;33m=\u001b[0m \u001b[0marr\u001b[0m\u001b[1;33m.\u001b[0m\u001b[0mndim\u001b[0m\u001b[1;33m-\u001b[0m\u001b[1;36m1\u001b[0m\u001b[1;33m\u001b[0m\u001b[1;33m\u001b[0m\u001b[0m\n\u001b[1;32m-> 4693\u001b[1;33m     \u001b[1;32mreturn\u001b[0m \u001b[0mconcatenate\u001b[0m\u001b[1;33m(\u001b[0m\u001b[1;33m(\u001b[0m\u001b[0marr\u001b[0m\u001b[1;33m,\u001b[0m \u001b[0mvalues\u001b[0m\u001b[1;33m)\u001b[0m\u001b[1;33m,\u001b[0m \u001b[0maxis\u001b[0m\u001b[1;33m=\u001b[0m\u001b[0maxis\u001b[0m\u001b[1;33m)\u001b[0m\u001b[1;33m\u001b[0m\u001b[1;33m\u001b[0m\u001b[0m\n\u001b[0m\u001b[0;32m   4694\u001b[0m \u001b[1;33m\u001b[0m\u001b[0m\n\u001b[0;32m   4695\u001b[0m \u001b[1;33m\u001b[0m\u001b[0m\n",
      "\u001b[1;32m<__array_function__ internals>\u001b[0m in \u001b[0;36mconcatenate\u001b[1;34m(*args, **kwargs)\u001b[0m\n",
      "\u001b[1;31mAxisError\u001b[0m: axis 2 is out of bounds for array of dimension 2"
     ]
    }
   ],
   "source": [
    "# SUUUUUUUCRE\n",
    "\n",
    "sucre = data[0,:] == 'sugars'\n",
    "    \n",
    "few_sugar = list(filter(lambda x: True if int(x[sucre]) < 10 else False, data[quaker_oats]))\n",
    "\n",
    "# cette fois-ci, en plus d'afficher data[quaker_oats] on filtre en ne gardant que les céréales avec\n",
    "# moins de 10g de sucre par portion !\n",
    "\n",
    "for i in few_sugar:\n",
    "    \n",
    "    print(i)\n",
    "    \n",
    "\n",
    "print(data[-1,:])"
   ]
  },
  {
   "cell_type": "markdown",
   "metadata": {
    "id": "NdsY64gl_0dw"
   },
   "source": [
    "#### Part 3\n",
    "\n",
    "Sur le même dataset, à l'aide d'une boucle `for`:\n",
    "\n",
    "\n",
    "*   Créer un dictionnaire avec la moyenne de sucre par Fabricant de cérales\n",
    "*   Trouver la marque de céreales qui contient le plus de sucre par portion\n",
    "\n"
   ]
  },
  {
   "cell_type": "code",
   "execution_count": 238,
   "metadata": {
    "colab": {
     "base_uri": "https://localhost:8080/"
    },
    "id": "EjbTgYNbCaIj",
    "outputId": "5ab1f623-f8df-45f2-e82b-7031da73f3f5"
   },
   "outputs": [
    {
     "name": "stdout",
     "output_type": "stream",
     "text": [
      "{'A': 3, 'G': 7.95, 'K': 7.57, 'N': 1.83, 'P': 8.78, 'Q': 5.25, 'R': 6.12}\n"
     ]
    }
   ],
   "source": [
    "import statistics as st \n",
    "\n",
    "# Statistics contient la fonction mean(), donc je suis allé au plus simple !\n",
    "\n",
    "dist_man = np.unique(flatten_list(data[1:,manufacturer])) # on sélectionne une liste distincte des fabricants\n",
    "\n",
    "man_avg = dict.fromkeys(dist_man) # cette liste de fabricants nous sert à créer les clés dans le dict\n",
    "\n",
    "for i in dist_man:\n",
    "    \n",
    "    i_man_list = data[flatten_list(data[:,manufacturer] == i)]\n",
    "    \n",
    "    # vérification ligne par ligne que le fabricant == i\n",
    "    \n",
    "    sugar_man = flatten_list(i_man_list[0:,sucre])\n",
    "    \n",
    "    # on ne garde que les valeurs de sucre dans une liste que l'on réduit à une dimension\n",
    "    # ( sinon on ne peut pas utiliser st.mean() ! ! )\n",
    "    \n",
    "    sugar_int = [eval(i) for i in sugar_man]\n",
    "    \n",
    "    # la fonction eval() va automatiquement changer le type des valeurs en int\n",
    "    # en effet, il est difficile de faire une moyenne de strings...\n",
    "    \n",
    "    man_avg[i] = round(st.mean(sugar_int),2)\n",
    "    \n",
    "    # et donc enfin, on fait la moyenne des valeurs, arrondis à deux décimales pour une meilleure lisibilité :)   \n",
    "\n",
    "    \n",
    "\n",
    "print(man_avg)\n"
   ]
  },
  {
   "cell_type": "markdown",
   "metadata": {
    "id": "SHsrGdy-5AZK"
   },
   "source": [
    "## EX03\n",
    "### Dataframes\n",
    "\n",
    "Refaire l'exo du TD 4 (fichier des series) en utilisant la librairie NumPy.\n"
   ]
  },
  {
   "cell_type": "code",
   "execution_count": 239,
   "metadata": {
    "id": "jIatRWhm5Xzo"
   },
   "outputs": [
    {
     "name": "stdout",
     "output_type": "stream",
     "text": [
      "[['name' 'mfr' 'type' ... 'weight' 'cups' 'rating']\n",
      " ['100% Bran' 'N' 'C' ... '1' '0.33' '68.402973']\n",
      " ['100% Natural Bran' 'Q' 'C' ... '1' '1' '33.983679']\n",
      " ...\n",
      " ['Wheat Chex' 'R' 'C' ... '1' '0.67' '49.787445']\n",
      " ['Wheaties' 'G' 'C' ... '1' '1' '51.592193']\n",
      " ['Wheaties Honey Gold' 'G' 'C' ... '1' '0.75' '36.187559']]\n"
     ]
    }
   ],
   "source": [
    "netflix_path = \"C:/Users/a.aulagnier/Downloads/netflix_titles.csv\" \n",
    "\n",
    "# j'organiserai mieux mon git la prochaine fois, pour avoir un chemin relatif :o\n",
    "\n",
    "netflix_data = np.genfromtxt(\n",
    "    \n",
    "                      file_path,\n",
    "    \n",
    "    dtype = None,\n",
    "    \n",
    "    delimiter = ',',\n",
    "    \n",
    "    filling_values = None,\n",
    "    \n",
    "    encoding = None\n",
    "    \n",
    "                     )\n",
    "\n",
    "print(netflix_data)"
   ]
  },
  {
   "cell_type": "code",
   "execution_count": 285,
   "metadata": {},
   "outputs": [
    {
     "name": "stdout",
     "output_type": "stream",
     "text": [
      "\n",
      " {'name': '100% Bran', 'mfr': 'N', 'type': 'C', 'calories': '70', 'protein': '4', 'fat': '1', 'sodium': '130', 'fiber': '10', 'carbo': '5', 'sugars': '6', 'potass': '280', 'vitamins': '25', 'shelf': '3', 'weight': '1', 'cups': '0.33', 'rating': '68.402973'}\n",
      "\n",
      " {'name': '100% Natural Bran', 'mfr': 'Q', 'type': 'C', 'calories': '120', 'protein': '3', 'fat': '5', 'sodium': '15', 'fiber': '2', 'carbo': '8', 'sugars': '8', 'potass': '135', 'vitamins': '0', 'shelf': '3', 'weight': '1', 'cups': '1', 'rating': '33.983679'}\n",
      "\n",
      " {'name': 'All-Bran', 'mfr': 'K', 'type': 'C', 'calories': '70', 'protein': '4', 'fat': '1', 'sodium': '260', 'fiber': '9', 'carbo': '7', 'sugars': '5', 'potass': '320', 'vitamins': '25', 'shelf': '3', 'weight': '1', 'cups': '0.33', 'rating': '59.425505'}\n",
      "\n",
      " {'name': 'All-Bran with Extra Fiber', 'mfr': 'K', 'type': 'C', 'calories': '50', 'protein': '4', 'fat': '0', 'sodium': '140', 'fiber': '14', 'carbo': '8', 'sugars': '0', 'potass': '330', 'vitamins': '25', 'shelf': '3', 'weight': '1', 'cups': '0.5', 'rating': '93.704912'}\n",
      "\n",
      " {'name': 'Almond Delight', 'mfr': 'R', 'type': 'C', 'calories': '110', 'protein': '2', 'fat': '2', 'sodium': '200', 'fiber': '1', 'carbo': '14', 'sugars': '8', 'potass': '-1', 'vitamins': '25', 'shelf': '3', 'weight': '1', 'cups': '0.75', 'rating': '34.384843'}\n",
      "\n",
      " {'name': 'Apple Cinnamon Cheerios', 'mfr': 'G', 'type': 'C', 'calories': '110', 'protein': '2', 'fat': '2', 'sodium': '180', 'fiber': '1.5', 'carbo': '10.5', 'sugars': '10', 'potass': '70', 'vitamins': '25', 'shelf': '1', 'weight': '1', 'cups': '0.75', 'rating': '29.509541'}\n",
      "\n",
      " {'name': 'Apple Jacks', 'mfr': 'K', 'type': 'C', 'calories': '110', 'protein': '2', 'fat': '0', 'sodium': '125', 'fiber': '1', 'carbo': '11', 'sugars': '14', 'potass': '30', 'vitamins': '25', 'shelf': '2', 'weight': '1', 'cups': '1', 'rating': '33.174094'}\n",
      "\n",
      " {'name': 'Basic 4', 'mfr': 'G', 'type': 'C', 'calories': '130', 'protein': '3', 'fat': '2', 'sodium': '210', 'fiber': '2', 'carbo': '18', 'sugars': '8', 'potass': '100', 'vitamins': '25', 'shelf': '3', 'weight': '1.33', 'cups': '0.75', 'rating': '37.038562'}\n",
      "\n",
      " {'name': 'Bran Chex', 'mfr': 'R', 'type': 'C', 'calories': '90', 'protein': '2', 'fat': '1', 'sodium': '200', 'fiber': '4', 'carbo': '15', 'sugars': '6', 'potass': '125', 'vitamins': '25', 'shelf': '1', 'weight': '1', 'cups': '0.67', 'rating': '49.120253'}\n",
      "\n",
      " {'name': 'Bran Flakes', 'mfr': 'P', 'type': 'C', 'calories': '90', 'protein': '3', 'fat': '0', 'sodium': '210', 'fiber': '5', 'carbo': '13', 'sugars': '5', 'potass': '190', 'vitamins': '25', 'shelf': '3', 'weight': '1', 'cups': '0.67', 'rating': '53.313813'}\n",
      "\n",
      " {'name': \"Cap'n'Crunch\", 'mfr': 'Q', 'type': 'C', 'calories': '120', 'protein': '1', 'fat': '2', 'sodium': '220', 'fiber': '0', 'carbo': '12', 'sugars': '12', 'potass': '35', 'vitamins': '25', 'shelf': '2', 'weight': '1', 'cups': '0.75', 'rating': '18.042851'}\n",
      "\n",
      " {'name': 'Cheerios', 'mfr': 'G', 'type': 'C', 'calories': '110', 'protein': '6', 'fat': '2', 'sodium': '290', 'fiber': '2', 'carbo': '17', 'sugars': '1', 'potass': '105', 'vitamins': '25', 'shelf': '1', 'weight': '1', 'cups': '1.25', 'rating': '50.764999'}\n",
      "\n",
      " {'name': 'Cinnamon Toast Crunch', 'mfr': 'G', 'type': 'C', 'calories': '120', 'protein': '1', 'fat': '3', 'sodium': '210', 'fiber': '0', 'carbo': '13', 'sugars': '9', 'potass': '45', 'vitamins': '25', 'shelf': '2', 'weight': '1', 'cups': '0.75', 'rating': '19.823573'}\n",
      "\n",
      " {'name': 'Clusters', 'mfr': 'G', 'type': 'C', 'calories': '110', 'protein': '3', 'fat': '2', 'sodium': '140', 'fiber': '2', 'carbo': '13', 'sugars': '7', 'potass': '105', 'vitamins': '25', 'shelf': '3', 'weight': '1', 'cups': '0.5', 'rating': '40.400208'}\n",
      "\n",
      " {'name': 'Cocoa Puffs', 'mfr': 'G', 'type': 'C', 'calories': '110', 'protein': '1', 'fat': '1', 'sodium': '180', 'fiber': '0', 'carbo': '12', 'sugars': '13', 'potass': '55', 'vitamins': '25', 'shelf': '2', 'weight': '1', 'cups': '1', 'rating': '22.736446'}\n",
      "\n",
      " {'name': 'Corn Chex', 'mfr': 'R', 'type': 'C', 'calories': '110', 'protein': '2', 'fat': '0', 'sodium': '280', 'fiber': '0', 'carbo': '22', 'sugars': '3', 'potass': '25', 'vitamins': '25', 'shelf': '1', 'weight': '1', 'cups': '1', 'rating': '41.445019'}\n",
      "\n",
      " {'name': 'Corn Flakes', 'mfr': 'K', 'type': 'C', 'calories': '100', 'protein': '2', 'fat': '0', 'sodium': '290', 'fiber': '1', 'carbo': '21', 'sugars': '2', 'potass': '35', 'vitamins': '25', 'shelf': '1', 'weight': '1', 'cups': '1', 'rating': '45.863324'}\n",
      "\n",
      " {'name': 'Corn Pops', 'mfr': 'K', 'type': 'C', 'calories': '110', 'protein': '1', 'fat': '0', 'sodium': '90', 'fiber': '1', 'carbo': '13', 'sugars': '12', 'potass': '20', 'vitamins': '25', 'shelf': '2', 'weight': '1', 'cups': '1', 'rating': '35.782791'}\n",
      "\n",
      " {'name': 'Count Chocula', 'mfr': 'G', 'type': 'C', 'calories': '110', 'protein': '1', 'fat': '1', 'sodium': '180', 'fiber': '0', 'carbo': '12', 'sugars': '13', 'potass': '65', 'vitamins': '25', 'shelf': '2', 'weight': '1', 'cups': '1', 'rating': '22.396513'}\n",
      "\n",
      " {'name': \"Cracklin' Oat Bran\", 'mfr': 'K', 'type': 'C', 'calories': '110', 'protein': '3', 'fat': '3', 'sodium': '140', 'fiber': '4', 'carbo': '10', 'sugars': '7', 'potass': '160', 'vitamins': '25', 'shelf': '3', 'weight': '1', 'cups': '0.5', 'rating': '40.448772'}\n",
      "\n",
      " {'name': 'Cream of Wheat (Quick)', 'mfr': 'N', 'type': 'H', 'calories': '100', 'protein': '3', 'fat': '0', 'sodium': '80', 'fiber': '1', 'carbo': '21', 'sugars': '0', 'potass': '-1', 'vitamins': '0', 'shelf': '2', 'weight': '1', 'cups': '1', 'rating': '64.533816'}\n",
      "\n",
      " {'name': 'Crispix', 'mfr': 'K', 'type': 'C', 'calories': '110', 'protein': '2', 'fat': '0', 'sodium': '220', 'fiber': '1', 'carbo': '21', 'sugars': '3', 'potass': '30', 'vitamins': '25', 'shelf': '3', 'weight': '1', 'cups': '1', 'rating': '46.895644'}\n",
      "\n",
      " {'name': 'Crispy Wheat & Raisins', 'mfr': 'G', 'type': 'C', 'calories': '100', 'protein': '2', 'fat': '1', 'sodium': '140', 'fiber': '2', 'carbo': '11', 'sugars': '10', 'potass': '120', 'vitamins': '25', 'shelf': '3', 'weight': '1', 'cups': '0.75', 'rating': '36.176196'}\n",
      "\n",
      " {'name': 'Double Chex', 'mfr': 'R', 'type': 'C', 'calories': '100', 'protein': '2', 'fat': '0', 'sodium': '190', 'fiber': '1', 'carbo': '18', 'sugars': '5', 'potass': '80', 'vitamins': '25', 'shelf': '3', 'weight': '1', 'cups': '0.75', 'rating': '44.330856'}\n",
      "\n",
      " {'name': 'Froot Loops', 'mfr': 'K', 'type': 'C', 'calories': '110', 'protein': '2', 'fat': '1', 'sodium': '125', 'fiber': '1', 'carbo': '11', 'sugars': '13', 'potass': '30', 'vitamins': '25', 'shelf': '2', 'weight': '1', 'cups': '1', 'rating': '32.207582'}\n",
      "\n",
      " {'name': 'Frosted Flakes', 'mfr': 'K', 'type': 'C', 'calories': '110', 'protein': '1', 'fat': '0', 'sodium': '200', 'fiber': '1', 'carbo': '14', 'sugars': '11', 'potass': '25', 'vitamins': '25', 'shelf': '1', 'weight': '1', 'cups': '0.75', 'rating': '31.435973'}\n",
      "\n",
      " {'name': 'Frosted Mini-Wheats', 'mfr': 'K', 'type': 'C', 'calories': '100', 'protein': '3', 'fat': '0', 'sodium': '0', 'fiber': '3', 'carbo': '14', 'sugars': '7', 'potass': '100', 'vitamins': '25', 'shelf': '2', 'weight': '1', 'cups': '0.8', 'rating': '58.345141'}\n",
      "\n",
      " {'name': 'Fruit & Fibre Dates; Walnuts; and Oats', 'mfr': 'P', 'type': 'C', 'calories': '120', 'protein': '3', 'fat': '2', 'sodium': '160', 'fiber': '5', 'carbo': '12', 'sugars': '10', 'potass': '200', 'vitamins': '25', 'shelf': '3', 'weight': '1.25', 'cups': '0.67', 'rating': '40.917047'}\n",
      "\n",
      " {'name': 'Fruitful Bran', 'mfr': 'K', 'type': 'C', 'calories': '120', 'protein': '3', 'fat': '0', 'sodium': '240', 'fiber': '5', 'carbo': '14', 'sugars': '12', 'potass': '190', 'vitamins': '25', 'shelf': '3', 'weight': '1.33', 'cups': '0.67', 'rating': '41.015492'}\n",
      "\n",
      " {'name': 'Fruity Pebbles', 'mfr': 'P', 'type': 'C', 'calories': '110', 'protein': '1', 'fat': '1', 'sodium': '135', 'fiber': '0', 'carbo': '13', 'sugars': '12', 'potass': '25', 'vitamins': '25', 'shelf': '2', 'weight': '1', 'cups': '0.75', 'rating': '28.025765'}\n",
      "\n",
      " {'name': 'Golden Crisp', 'mfr': 'P', 'type': 'C', 'calories': '100', 'protein': '2', 'fat': '0', 'sodium': '45', 'fiber': '0', 'carbo': '11', 'sugars': '15', 'potass': '40', 'vitamins': '25', 'shelf': '1', 'weight': '1', 'cups': '0.88', 'rating': '35.252444'}\n",
      "\n",
      " {'name': 'Golden Grahams', 'mfr': 'G', 'type': 'C', 'calories': '110', 'protein': '1', 'fat': '1', 'sodium': '280', 'fiber': '0', 'carbo': '15', 'sugars': '9', 'potass': '45', 'vitamins': '25', 'shelf': '2', 'weight': '1', 'cups': '0.75', 'rating': '23.804043'}\n",
      "\n",
      " {'name': 'Grape Nuts Flakes', 'mfr': 'P', 'type': 'C', 'calories': '100', 'protein': '3', 'fat': '1', 'sodium': '140', 'fiber': '3', 'carbo': '15', 'sugars': '5', 'potass': '85', 'vitamins': '25', 'shelf': '3', 'weight': '1', 'cups': '0.88', 'rating': '52.076897'}\n",
      "\n",
      " {'name': 'Grape-Nuts', 'mfr': 'P', 'type': 'C', 'calories': '110', 'protein': '3', 'fat': '0', 'sodium': '170', 'fiber': '3', 'carbo': '17', 'sugars': '3', 'potass': '90', 'vitamins': '25', 'shelf': '3', 'weight': '1', 'cups': '0.25', 'rating': '53.371007'}\n",
      "\n",
      " {'name': 'Great Grains Pecan', 'mfr': 'P', 'type': 'C', 'calories': '120', 'protein': '3', 'fat': '3', 'sodium': '75', 'fiber': '3', 'carbo': '13', 'sugars': '4', 'potass': '100', 'vitamins': '25', 'shelf': '3', 'weight': '1', 'cups': '0.33', 'rating': '45.811716'}\n",
      "\n",
      " {'name': 'Honey Graham Ohs', 'mfr': 'Q', 'type': 'C', 'calories': '120', 'protein': '1', 'fat': '2', 'sodium': '220', 'fiber': '1', 'carbo': '12', 'sugars': '11', 'potass': '45', 'vitamins': '25', 'shelf': '2', 'weight': '1', 'cups': '1', 'rating': '21.871292'}\n",
      "\n",
      " {'name': 'Honey Nut Cheerios', 'mfr': 'G', 'type': 'C', 'calories': '110', 'protein': '3', 'fat': '1', 'sodium': '250', 'fiber': '1.5', 'carbo': '11.5', 'sugars': '10', 'potass': '90', 'vitamins': '25', 'shelf': '1', 'weight': '1', 'cups': '0.75', 'rating': '31.072217'}\n",
      "\n",
      " {'name': 'Honey-comb', 'mfr': 'P', 'type': 'C', 'calories': '110', 'protein': '1', 'fat': '0', 'sodium': '180', 'fiber': '0', 'carbo': '14', 'sugars': '11', 'potass': '35', 'vitamins': '25', 'shelf': '1', 'weight': '1', 'cups': '1.33', 'rating': '28.742414'}\n",
      "\n",
      " {'name': 'Just Right Crunchy  Nuggets', 'mfr': 'K', 'type': 'C', 'calories': '110', 'protein': '2', 'fat': '1', 'sodium': '170', 'fiber': '1', 'carbo': '17', 'sugars': '6', 'potass': '60', 'vitamins': '100', 'shelf': '3', 'weight': '1', 'cups': '1', 'rating': '36.523683'}\n",
      "\n",
      " {'name': 'Just Right Fruit & Nut', 'mfr': 'K', 'type': 'C', 'calories': '140', 'protein': '3', 'fat': '1', 'sodium': '170', 'fiber': '2', 'carbo': '20', 'sugars': '9', 'potass': '95', 'vitamins': '100', 'shelf': '3', 'weight': '1.3', 'cups': '0.75', 'rating': '36.471512'}\n",
      "\n",
      " {'name': 'Kix', 'mfr': 'G', 'type': 'C', 'calories': '110', 'protein': '2', 'fat': '1', 'sodium': '260', 'fiber': '0', 'carbo': '21', 'sugars': '3', 'potass': '40', 'vitamins': '25', 'shelf': '2', 'weight': '1', 'cups': '1.5', 'rating': '39.241114'}\n",
      "\n",
      " {'name': 'Life', 'mfr': 'Q', 'type': 'C', 'calories': '100', 'protein': '4', 'fat': '2', 'sodium': '150', 'fiber': '2', 'carbo': '12', 'sugars': '6', 'potass': '95', 'vitamins': '25', 'shelf': '2', 'weight': '1', 'cups': '0.67', 'rating': '45.328074'}\n",
      "\n",
      " {'name': 'Lucky Charms', 'mfr': 'G', 'type': 'C', 'calories': '110', 'protein': '2', 'fat': '1', 'sodium': '180', 'fiber': '0', 'carbo': '12', 'sugars': '12', 'potass': '55', 'vitamins': '25', 'shelf': '2', 'weight': '1', 'cups': '1', 'rating': '26.734515'}\n",
      "\n",
      " {'name': 'Maypo', 'mfr': 'A', 'type': 'H', 'calories': '100', 'protein': '4', 'fat': '1', 'sodium': '0', 'fiber': '0', 'carbo': '16', 'sugars': '3', 'potass': '95', 'vitamins': '25', 'shelf': '2', 'weight': '1', 'cups': '1', 'rating': '54.850917'}\n",
      "\n",
      " {'name': 'Muesli Raisins; Dates; & Almonds', 'mfr': 'R', 'type': 'C', 'calories': '150', 'protein': '4', 'fat': '3', 'sodium': '95', 'fiber': '3', 'carbo': '16', 'sugars': '11', 'potass': '170', 'vitamins': '25', 'shelf': '3', 'weight': '1', 'cups': '1', 'rating': '37.136863'}\n",
      "\n",
      " {'name': 'Muesli Raisins; Peaches; & Pecans', 'mfr': 'R', 'type': 'C', 'calories': '150', 'protein': '4', 'fat': '3', 'sodium': '150', 'fiber': '3', 'carbo': '16', 'sugars': '11', 'potass': '170', 'vitamins': '25', 'shelf': '3', 'weight': '1', 'cups': '1', 'rating': '34.139765'}\n",
      "\n",
      " {'name': 'Mueslix Crispy Blend', 'mfr': 'K', 'type': 'C', 'calories': '160', 'protein': '3', 'fat': '2', 'sodium': '150', 'fiber': '3', 'carbo': '17', 'sugars': '13', 'potass': '160', 'vitamins': '25', 'shelf': '3', 'weight': '1.5', 'cups': '0.67', 'rating': '30.313351'}\n",
      "\n",
      " {'name': 'Multi-Grain Cheerios', 'mfr': 'G', 'type': 'C', 'calories': '100', 'protein': '2', 'fat': '1', 'sodium': '220', 'fiber': '2', 'carbo': '15', 'sugars': '6', 'potass': '90', 'vitamins': '25', 'shelf': '1', 'weight': '1', 'cups': '1', 'rating': '40.105965'}\n",
      "\n",
      " {'name': 'Nut&Honey Crunch', 'mfr': 'K', 'type': 'C', 'calories': '120', 'protein': '2', 'fat': '1', 'sodium': '190', 'fiber': '0', 'carbo': '15', 'sugars': '9', 'potass': '40', 'vitamins': '25', 'shelf': '2', 'weight': '1', 'cups': '0.67', 'rating': '29.924285'}\n",
      "\n",
      " {'name': 'Nutri-Grain Almond-Raisin', 'mfr': 'K', 'type': 'C', 'calories': '140', 'protein': '3', 'fat': '2', 'sodium': '220', 'fiber': '3', 'carbo': '21', 'sugars': '7', 'potass': '130', 'vitamins': '25', 'shelf': '3', 'weight': '1.33', 'cups': '0.67', 'rating': '40.692320'}\n",
      "\n",
      " {'name': 'Nutri-grain Wheat', 'mfr': 'K', 'type': 'C', 'calories': '90', 'protein': '3', 'fat': '0', 'sodium': '170', 'fiber': '3', 'carbo': '18', 'sugars': '2', 'potass': '90', 'vitamins': '25', 'shelf': '3', 'weight': '1', 'cups': '1', 'rating': '59.642837'}\n",
      "\n",
      " {'name': 'Oatmeal Raisin Crisp', 'mfr': 'G', 'type': 'C', 'calories': '130', 'protein': '3', 'fat': '2', 'sodium': '170', 'fiber': '1.5', 'carbo': '13.5', 'sugars': '10', 'potass': '120', 'vitamins': '25', 'shelf': '3', 'weight': '1.25', 'cups': '0.5', 'rating': '30.450843'}\n",
      "\n",
      " {'name': 'Post Nat. Raisin Bran', 'mfr': 'P', 'type': 'C', 'calories': '120', 'protein': '3', 'fat': '1', 'sodium': '200', 'fiber': '6', 'carbo': '11', 'sugars': '14', 'potass': '260', 'vitamins': '25', 'shelf': '3', 'weight': '1.33', 'cups': '0.67', 'rating': '37.840594'}\n",
      "\n",
      " {'name': 'Product 19', 'mfr': 'K', 'type': 'C', 'calories': '100', 'protein': '3', 'fat': '0', 'sodium': '320', 'fiber': '1', 'carbo': '20', 'sugars': '3', 'potass': '45', 'vitamins': '100', 'shelf': '3', 'weight': '1', 'cups': '1', 'rating': '41.503540'}\n",
      "\n",
      " {'name': 'Puffed Rice', 'mfr': 'Q', 'type': 'C', 'calories': '50', 'protein': '1', 'fat': '0', 'sodium': '0', 'fiber': '0', 'carbo': '13', 'sugars': '0', 'potass': '15', 'vitamins': '0', 'shelf': '3', 'weight': '0.5', 'cups': '1', 'rating': '60.756112'}\n",
      "\n",
      " {'name': 'Puffed Wheat', 'mfr': 'Q', 'type': 'C', 'calories': '50', 'protein': '2', 'fat': '0', 'sodium': '0', 'fiber': '1', 'carbo': '10', 'sugars': '0', 'potass': '50', 'vitamins': '0', 'shelf': '3', 'weight': '0.5', 'cups': '1', 'rating': '63.005645'}\n",
      "\n",
      " {'name': 'Quaker Oat Squares', 'mfr': 'Q', 'type': 'C', 'calories': '100', 'protein': '4', 'fat': '1', 'sodium': '135', 'fiber': '2', 'carbo': '14', 'sugars': '6', 'potass': '110', 'vitamins': '25', 'shelf': '3', 'weight': '1', 'cups': '0.5', 'rating': '49.511874'}\n",
      "\n",
      " {'name': 'Quaker Oatmeal', 'mfr': 'Q', 'type': 'H', 'calories': '100', 'protein': '5', 'fat': '2', 'sodium': '0', 'fiber': '2.7', 'carbo': '-1', 'sugars': '-1', 'potass': '110', 'vitamins': '0', 'shelf': '1', 'weight': '1', 'cups': '0.67', 'rating': '50.828392'}\n",
      "\n",
      " {'name': 'Raisin Bran', 'mfr': 'K', 'type': 'C', 'calories': '120', 'protein': '3', 'fat': '1', 'sodium': '210', 'fiber': '5', 'carbo': '14', 'sugars': '12', 'potass': '240', 'vitamins': '25', 'shelf': '2', 'weight': '1.33', 'cups': '0.75', 'rating': '39.259197'}\n",
      "\n",
      " {'name': 'Raisin Nut Bran', 'mfr': 'G', 'type': 'C', 'calories': '100', 'protein': '3', 'fat': '2', 'sodium': '140', 'fiber': '2.5', 'carbo': '10.5', 'sugars': '8', 'potass': '140', 'vitamins': '25', 'shelf': '3', 'weight': '1', 'cups': '0.5', 'rating': '39.703400'}\n",
      "\n",
      " {'name': 'Raisin Squares', 'mfr': 'K', 'type': 'C', 'calories': '90', 'protein': '2', 'fat': '0', 'sodium': '0', 'fiber': '2', 'carbo': '15', 'sugars': '6', 'potass': '110', 'vitamins': '25', 'shelf': '3', 'weight': '1', 'cups': '0.5', 'rating': '55.333142'}\n",
      "\n",
      " {'name': 'Rice Chex', 'mfr': 'R', 'type': 'C', 'calories': '110', 'protein': '1', 'fat': '0', 'sodium': '240', 'fiber': '0', 'carbo': '23', 'sugars': '2', 'potass': '30', 'vitamins': '25', 'shelf': '1', 'weight': '1', 'cups': '1.13', 'rating': '41.998933'}\n",
      "\n",
      " {'name': 'Rice Krispies', 'mfr': 'K', 'type': 'C', 'calories': '110', 'protein': '2', 'fat': '0', 'sodium': '290', 'fiber': '0', 'carbo': '22', 'sugars': '3', 'potass': '35', 'vitamins': '25', 'shelf': '1', 'weight': '1', 'cups': '1', 'rating': '40.560159'}\n",
      "\n",
      " {'name': 'Shredded Wheat', 'mfr': 'N', 'type': 'C', 'calories': '80', 'protein': '2', 'fat': '0', 'sodium': '0', 'fiber': '3', 'carbo': '16', 'sugars': '0', 'potass': '95', 'vitamins': '0', 'shelf': '1', 'weight': '0.83', 'cups': '1', 'rating': '68.235885'}\n",
      "\n",
      " {'name': \"Shredded Wheat 'n'Bran\", 'mfr': 'N', 'type': 'C', 'calories': '90', 'protein': '3', 'fat': '0', 'sodium': '0', 'fiber': '4', 'carbo': '19', 'sugars': '0', 'potass': '140', 'vitamins': '0', 'shelf': '1', 'weight': '1', 'cups': '0.67', 'rating': '74.472949'}\n",
      "\n",
      " {'name': 'Shredded Wheat spoon size', 'mfr': 'N', 'type': 'C', 'calories': '90', 'protein': '3', 'fat': '0', 'sodium': '0', 'fiber': '3', 'carbo': '20', 'sugars': '0', 'potass': '120', 'vitamins': '0', 'shelf': '1', 'weight': '1', 'cups': '0.67', 'rating': '72.801787'}\n",
      "\n",
      " {'name': 'Smacks', 'mfr': 'K', 'type': 'C', 'calories': '110', 'protein': '2', 'fat': '1', 'sodium': '70', 'fiber': '1', 'carbo': '9', 'sugars': '15', 'potass': '40', 'vitamins': '25', 'shelf': '2', 'weight': '1', 'cups': '0.75', 'rating': '31.230054'}\n",
      "\n",
      " {'name': 'Special K', 'mfr': 'K', 'type': 'C', 'calories': '110', 'protein': '6', 'fat': '0', 'sodium': '230', 'fiber': '1', 'carbo': '16', 'sugars': '3', 'potass': '55', 'vitamins': '25', 'shelf': '1', 'weight': '1', 'cups': '1', 'rating': '53.131324'}\n",
      "\n",
      " {'name': 'Strawberry Fruit Wheats', 'mfr': 'N', 'type': 'C', 'calories': '90', 'protein': '2', 'fat': '0', 'sodium': '15', 'fiber': '3', 'carbo': '15', 'sugars': '5', 'potass': '90', 'vitamins': '25', 'shelf': '2', 'weight': '1', 'cups': '1', 'rating': '59.363993'}\n",
      "\n",
      " {'name': 'Total Corn Flakes', 'mfr': 'G', 'type': 'C', 'calories': '110', 'protein': '2', 'fat': '1', 'sodium': '200', 'fiber': '0', 'carbo': '21', 'sugars': '3', 'potass': '35', 'vitamins': '100', 'shelf': '3', 'weight': '1', 'cups': '1', 'rating': '38.839746'}\n",
      "\n",
      " {'name': 'Total Raisin Bran', 'mfr': 'G', 'type': 'C', 'calories': '140', 'protein': '3', 'fat': '1', 'sodium': '190', 'fiber': '4', 'carbo': '15', 'sugars': '14', 'potass': '230', 'vitamins': '100', 'shelf': '3', 'weight': '1.5', 'cups': '1', 'rating': '28.592785'}\n",
      "\n",
      " {'name': 'Total Whole Grain', 'mfr': 'G', 'type': 'C', 'calories': '100', 'protein': '3', 'fat': '1', 'sodium': '200', 'fiber': '3', 'carbo': '16', 'sugars': '3', 'potass': '110', 'vitamins': '100', 'shelf': '3', 'weight': '1', 'cups': '1', 'rating': '46.658844'}\n",
      "\n",
      " {'name': 'Triples', 'mfr': 'G', 'type': 'C', 'calories': '110', 'protein': '2', 'fat': '1', 'sodium': '250', 'fiber': '0', 'carbo': '21', 'sugars': '3', 'potass': '60', 'vitamins': '25', 'shelf': '3', 'weight': '1', 'cups': '0.75', 'rating': '39.106174'}\n",
      "\n",
      " {'name': 'Trix', 'mfr': 'G', 'type': 'C', 'calories': '110', 'protein': '1', 'fat': '1', 'sodium': '140', 'fiber': '0', 'carbo': '13', 'sugars': '12', 'potass': '25', 'vitamins': '25', 'shelf': '2', 'weight': '1', 'cups': '1', 'rating': '27.753301'}\n",
      "\n",
      " {'name': 'Wheat Chex', 'mfr': 'R', 'type': 'C', 'calories': '100', 'protein': '3', 'fat': '1', 'sodium': '230', 'fiber': '3', 'carbo': '17', 'sugars': '3', 'potass': '115', 'vitamins': '25', 'shelf': '1', 'weight': '1', 'cups': '0.67', 'rating': '49.787445'}\n",
      "\n",
      " {'name': 'Wheaties', 'mfr': 'G', 'type': 'C', 'calories': '100', 'protein': '3', 'fat': '1', 'sodium': '200', 'fiber': '3', 'carbo': '17', 'sugars': '3', 'potass': '110', 'vitamins': '25', 'shelf': '1', 'weight': '1', 'cups': '1', 'rating': '51.592193'}\n",
      "\n",
      " {'name': 'Wheaties Honey Gold', 'mfr': 'G', 'type': 'C', 'calories': '110', 'protein': '2', 'fat': '1', 'sodium': '200', 'fiber': '1', 'carbo': '16', 'sugars': '8', 'potass': '60', 'vitamins': '25', 'shelf': '1', 'weight': '1', 'cups': '0.75', 'rating': '36.187559'}\n"
     ]
    }
   ],
   "source": [
    "netflix_dict = [{}]\n",
    "\n",
    "for i in range(1,len(netflix_data)):\n",
    "    \n",
    "    netflix_dict.append({})\n",
    "    \n",
    "    for j in range(len(netflix_data[i,:])):\n",
    "        \n",
    "        netflix_dict[i][netflix_data[0,j]] = netflix_data[i,j]\n",
    "    \n",
    "    # on donne le couple clés (éléments de la première ligne de l'array) valeurs (attributs de la ligne i)\n",
    "    # ligne par ligne dans une boucle for (pour les matheux cette fonction est d'ordre O(n^2) 🤓)\n",
    "    \n",
    "\n",
    "for i in range(1,len(netflix_dict)):    \n",
    "    print('\\n',netflix_dict[i])\n",
    "    \n",
    "# encore une fois, l'affichage ligne par ligne est plus agréable !"
   ]
  },
  {
   "cell_type": "markdown",
   "metadata": {
    "id": "94-12vgPXG10"
   },
   "source": [
    "## Github 101\n",
    "\n",
    "```shell\n",
    "# Repartir sur une nouvelle branche\n",
    "git checkout main\n",
    "# Mettre à jour notre branche locale\n",
    "git pull origin main\n",
    "# Recréer une branche pour le TD 05\n",
    "git checkout -b branch_name_td05\n",
    "# Dupliquer le fichier du td et rajouter en suffix son nom\n",
    "cd 'chemin/m1-miage/'\n",
    "cp 'src/to_do/td_05/td_05.ipynb' 'src/done/td_05/td_05_nom_prenom.ipynb'\n",
    "# Faire le travail necessaire sur votre fichier et commit et push\n",
    "git add 'src/done/td_05/td_05_nom_prenom.ipynb'\n",
    "git commit -m 'message descriptif du travail fait'\n",
    "git push --set-upstream origin nom_branche\n",
    "# Faire une pull request\n",
    "```\n",
    "\n",
    "[>>>PULL REQUEST<<<](https://github.com/lapointe05/m1-miage/pulls)\n"
   ]
  },
  {
   "cell_type": "code",
   "execution_count": null,
   "metadata": {},
   "outputs": [],
   "source": []
  }
 ],
 "metadata": {
  "colab": {
   "collapsed_sections": [
    "597Hu82gSNCZ",
    "k2lJWv62kQZA",
    "94-12vgPXG10"
   ],
   "provenance": []
  },
  "kernelspec": {
   "display_name": "Python 3",
   "language": "python",
   "name": "python3"
  },
  "language_info": {
   "codemirror_mode": {
    "name": "ipython",
    "version": 3
   },
   "file_extension": ".py",
   "mimetype": "text/x-python",
   "name": "python",
   "nbconvert_exporter": "python",
   "pygments_lexer": "ipython3",
   "version": "3.8.3"
  }
 },
 "nbformat": 4,
 "nbformat_minor": 1
}
