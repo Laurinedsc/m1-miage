{
  "cells": [
    {
      "cell_type": "markdown",
      "metadata": {
        "id": "597Hu82gSNCZ"
      },
      "source": [
        "<img src=\"https://upload.wikimedia.org/wikipedia/fr/0/0b/Polytech_Lyon_logo.png\" alt=\"drawing\" height=\"200\"/>\n",
        "\n",
        "# Traitement de données & Programmation en Python\n",
        "---\n",
        "\n"
      ]
    },
    {
      "cell_type": "markdown",
      "metadata": {
        "id": "EA-XK862WiMt"
      },
      "source": [
        "# TD 05\n",
        "\n",
        "Traitement de données\n",
        "\n",
        "![Good luck!](https://media.tenor.com/YoFWnXe4V3kAAAAd/may-the-odds-be-ever-in-your-favor-may-the-odds-hunger-games.gif)\n",
        " \n",
        "Elements à consulter:\n",
        "\n",
        "\n",
        "\n",
        "\n",
        "\n",
        "Doc                                   |             Link\n",
        "--------------------------------------|------------------------------------\n",
        "Github Helper      | [>link<](#scrollTo=Github_101)\n",
        "Python en 30 jours | [>link<](https://moncoachdata.com/courses/apprendre-python-en-30-jours/)\n",
        "Get started with pandas | [>link<](https://colab.research.google.com/notebooks/snippets/pandas.ipynb)"
      ]
    },
    {
      "cell_type": "markdown",
      "metadata": {
        "id": "Y1g4EgT41MqJ"
      },
      "source": [
        "## Intro\n",
        "\n",
        "Le premier bloc devrait toujours contenir les installs/imports dont on aura besoin pour le reste"
      ]
    },
    {
      "cell_type": "code",
      "execution_count": 1,
      "metadata": {
        "colab": {
          "base_uri": "https://localhost:8080/"
        },
        "id": "yjiE8c51VoT0",
        "outputId": "2f4856bd-590b-4197-a9f0-e3a020d191eb"
      },
      "outputs": [
        {
          "name": "stdout",
          "output_type": "stream",
          "text": [
            "Python is awesome 👍\n"
          ]
        }
      ],
      "source": [
        "# Installs\n",
        "print(\"Python is awesome 👍\")"
      ]
    },
    {
      "cell_type": "code",
      "execution_count": 2,
      "metadata": {
        "id": "JhT-50uwz72F"
      },
      "outputs": [],
      "source": [
        "# Imports\n",
        "import os\n",
        "import json\n",
        "from random import randint\n",
        "import pandas as pd\n",
        "import numpy as np"
      ]
    },
    {
      "cell_type": "code",
      "execution_count": 3,
      "metadata": {
        "colab": {
          "base_uri": "https://localhost:8080/"
        },
        "id": "NsB9ADLg8i8P",
        "outputId": "162e09d0-12e6-4112-972d-91cea118215a"
      },
      "outputs": [
        {
          "data": {
            "text/plain": [
              "(2, 3)"
            ]
          },
          "execution_count": 3,
          "metadata": {},
          "output_type": "execute_result"
        }
      ],
      "source": [
        "x = np.array([[1, 2, 3], [4, 5, 6]], np.int32)\n",
        "\n",
        "x.shape"
      ]
    },
    {
      "cell_type": "markdown",
      "metadata": {
        "id": "iKow2OZ5LCXr"
      },
      "source": [
        "### Correction TD precedent\n",
        "\n",
        "Partir d'un fichier csv et alimenter la binge watch list :\n",
        "  > serie, plateform, nb_episodes, année_sortie, note\n",
        "\n",
        "Puis print :\n",
        "\n",
        "\t Nom de la série : Brooklyn Nine-Nine\n",
        "\t Année de sortie : 2013\n",
        "\n",
        "\t Nom de la série : The office\n",
        "\t Année de sortie : 2005\n"
      ]
    },
    {
      "cell_type": "code",
      "execution_count": null,
      "metadata": {
        "id": "9lcQQFp3w0HE"
      },
      "outputs": [],
      "source": [
        "def csv_to_dict(file_path, separator=\";\", row_limit=None):\n",
        "    \"\"\"\n",
        "    Transforms a csv file, into a list of dictionaries\n",
        "\n",
        "    Arguments:\n",
        "        file_path  {str} : eg. /documents/file.txt\n",
        "        separator  {str} : separator of fields, default (;)\n",
        "        row_limit  {int} : limit the rows to be read, default None\n",
        "\n",
        "    Returns list[dict]\n",
        "    \"\"\"\n",
        "\n",
        "    with open(file_path, \"r\") as f:\n",
        "        serie = {}\n",
        "        serie_list = []\n",
        "        for i, row in enumerate(f, 1):\n",
        "            if i == 1:\n",
        "                header = row.lower().strip().replace(' ','_').split(separator)\n",
        "                # print(\"\\nHeaders:\", header,\"\\n\")\n",
        "            else:\n",
        "                data = row.lower().strip().split(separator)\n",
        "                # print(\"Data:\",data)\n",
        "                if len(header) == len(data):\n",
        "                    for j, element in enumerate(header):\n",
        "                        serie[header[j]] = data[j]\n",
        "            # print(serie)\n",
        "                serie_list.append(serie)\n",
        "                serie = {}\n",
        "            if i == row_limit:\n",
        "                break\n",
        "    return serie_list\n",
        "\n",
        "\n",
        "\n",
        "file_path = \"./netflix_titles.csv\"\n",
        "# file_path = \"./tv_shows_pipe.csv\"\n",
        "limit = None\n",
        "binge_watch_list = csv_to_dict(file_path,separator=\"|\",row_limit=limit)\n",
        "# for serie in binge_watch_list:\n",
        "#   print(serie.get('title'))\n",
        "# # Option 1 read some rows to see what we have\n",
        "\n",
        "df = pd.DataFrame(binge_watch_list)\n",
        "df[\"title\"] = df[\"title\"].str.title()\n",
        "df.head(5)\n",
        "\n",
        "column_name = 'release_year'\n",
        "filter = df['release_year'] == '2005'\n",
        "# df.query(f\"`{column_name}` == '2003'\")\n",
        "df[filter]\n",
        "# # serie, plateform, nb_episodes, année_sortie, note\n",
        "# df2 = df.melt(id_vars=['title','year','imdb','rotten_tomatoes'],\n",
        "#               var_name='plateform', \n",
        "#               value_vars=['netflix','hulu','prime_video','disney+'])\n",
        "# df2.drop(['value'], axis=1)"
      ]
    },
    {
      "cell_type": "markdown",
      "metadata": {
        "id": "k2lJWv62kQZA"
      },
      "source": [
        "##EX01\n",
        "### Numpy intro\n",
        "\n",
        "* Créer un vecteur depuis la liste ['Lyon', 'Paris', 'Montpellier']\n",
        "    * Assigner le résultat à la variable `villes`\n",
        "* Créer une matrice depuis la liste de listes suivante: `[['Lyon', '69'], ['Paris', '75'], ['Montpellier','34']]`\n",
        "    * Assigner le résultat à la variable `villes_departement`\n",
        "* Assigner la taille du vecteur `villes` à la variable `v_shape`\n",
        "* Assigner la taille du tableau `villes_departement` à la variable `vd_shape` \n",
        "* Afficher les résultats"
      ]
    },
    {
      "cell_type": "code",
      "execution_count": 8,
      "metadata": {
        "id": "n_jOsgGllUhC"
      },
      "outputs": [
        {
          "name": "stdout",
          "output_type": "stream",
          "text": [
            "['Lyon' 'Paris' 'Montpellier']\n",
            "[['Lyon' '69']\n",
            " ['Paris' '75']\n",
            " ['Montpellier' '34']]\n",
            "(3,)\n",
            "(3, 2)\n"
          ]
        }
      ],
      "source": [
        "# Code here\n",
        "# 1.\n",
        "villes_list = ['Lyon', 'Paris', 'Montpellier']\n",
        "villes = np.array(villes_list)\n",
        "print(villes)\n",
        "\n",
        "# 2. \n",
        "villes_departements_list = [['Lyon', '69'], ['Paris', '75'], ['Montpellier','34']]\n",
        "villes_departement = np.array(villes_departements_list)\n",
        "print(villes_departement)\n",
        "\n",
        "# 3.\n",
        "v_shape = np.shape(villes)\n",
        "print(v_shape)\n",
        "\n",
        "#4. \n",
        "vd_shape = np.shape(villes_departement)\n",
        "print(vd_shape)"
      ]
    },
    {
      "cell_type": "markdown",
      "metadata": {
        "id": "Q8WBS9oVKcWs"
      },
      "source": [
        "##EX02\n",
        "### Numpy intro\n",
        "\n",
        "#### Part 1\n",
        "\n",
        "* Telecharger le dataset [cereal.csv](https://www.kaggle.com/datasets/crawford/80-cereals?select=cereal.csv) avec les colonnes suivantes :\n",
        "\n",
        "```\n",
        "['name', 'mfr', 'type', 'calories', 'protein', 'fat', 'sodium', 'fiber',\n",
        "'carbo', 'sugars', 'potass', 'vitamins', 'shelf', 'weight', 'cups',\n",
        "'rating']\n",
        "```\n",
        "\n",
        "* Afficher les deux premieres colonnes et toute les lignes\n",
        "* Afficher la dernière colonne\n",
        "* Afficher les 5 premieres lignes de la 4ème colonne\n",
        "* Assigner a une variable `corn_flakes_cals` le nombre de calories par 100 gr de céréales de la marque Corn Flakes \n",
        "* Assigner le nom de la 3eme marque sur le dataset a une variabe `third_brand`\n",
        "* Mettre dans une liste toutes les marques de céreales en utilisant `.tolist()` & afficher cette dernière\n",
        "* Mettre les 10 premiere marques dans le fichiers dans une liste `first_ten_brands` & afficher cette dernière\n",
        "> bonus \n",
        "* Convertir la colonne ratings en décimale"
      ]
    },
    {
      "cell_type": "code",
      "execution_count": 69,
      "metadata": {
        "colab": {
          "base_uri": "https://localhost:8080/"
        },
        "id": "XTDsqYIgpitx",
        "outputId": "d2cd6d75-cf4d-4421-c34f-097def1f3b94"
      },
      "outputs": [
        {
          "name": "stdout",
          "output_type": "stream",
          "text": [
            "(77, 16)\n",
            "[['100% Bran' 'N']\n",
            " ['100% Natural Bran' 'Q']\n",
            " ['All-Bran' 'K']\n",
            " ['All-Bran with Extra Fiber' 'K']\n",
            " ['Almond Delight' 'R']\n",
            " ['Apple Cinnamon Cheerios' 'G']\n",
            " ['Apple Jacks' 'K']\n",
            " ['Basic 4' 'G']\n",
            " ['Bran Chex' 'R']\n",
            " ['Bran Flakes' 'P']\n",
            " [\"Cap'n'Crunch\" 'Q']\n",
            " ['Cheerios' 'G']\n",
            " ['Cinnamon Toast Crunch' 'G']\n",
            " ['Clusters' 'G']\n",
            " ['Cocoa Puffs' 'G']\n",
            " ['Corn Chex' 'R']\n",
            " ['Corn Flakes' 'K']\n",
            " ['Corn Pops' 'K']\n",
            " ['Count Chocula' 'G']\n",
            " [\"Cracklin' Oat Bran\" 'K']\n",
            " ['Cream of Wheat (Quick)' 'N']\n",
            " ['Crispix' 'K']\n",
            " ['Crispy Wheat & Raisins' 'G']\n",
            " ['Double Chex' 'R']\n",
            " ['Froot Loops' 'K']\n",
            " ['Frosted Flakes' 'K']\n",
            " ['Frosted Mini-Wheats' 'K']\n",
            " ['Fruit & Fibre Dates; Walnuts; and Oats' 'P']\n",
            " ['Fruitful Bran' 'K']\n",
            " ['Fruity Pebbles' 'P']\n",
            " ['Golden Crisp' 'P']\n",
            " ['Golden Grahams' 'G']\n",
            " ['Grape Nuts Flakes' 'P']\n",
            " ['Grape-Nuts' 'P']\n",
            " ['Great Grains Pecan' 'P']\n",
            " ['Honey Graham Ohs' 'Q']\n",
            " ['Honey Nut Cheerios' 'G']\n",
            " ['Honey-comb' 'P']\n",
            " ['Just Right Crunchy  Nuggets' 'K']\n",
            " ['Just Right Fruit & Nut' 'K']\n",
            " ['Kix' 'G']\n",
            " ['Life' 'Q']\n",
            " ['Lucky Charms' 'G']\n",
            " ['Maypo' 'A']\n",
            " ['Muesli Raisins; Dates; & Almonds' 'R']\n",
            " ['Muesli Raisins; Peaches; & Pecans' 'R']\n",
            " ['Mueslix Crispy Blend' 'K']\n",
            " ['Multi-Grain Cheerios' 'G']\n",
            " ['Nut&Honey Crunch' 'K']\n",
            " ['Nutri-Grain Almond-Raisin' 'K']\n",
            " ['Nutri-grain Wheat' 'K']\n",
            " ['Oatmeal Raisin Crisp' 'G']\n",
            " ['Post Nat. Raisin Bran' 'P']\n",
            " ['Product 19' 'K']\n",
            " ['Puffed Rice' 'Q']\n",
            " ['Puffed Wheat' 'Q']\n",
            " ['Quaker Oat Squares' 'Q']\n",
            " ['Quaker Oatmeal' 'Q']\n",
            " ['Raisin Bran' 'K']\n",
            " ['Raisin Nut Bran' 'G']\n",
            " ['Raisin Squares' 'K']\n",
            " ['Rice Chex' 'R']\n",
            " ['Rice Krispies' 'K']\n",
            " ['Shredded Wheat' 'N']\n",
            " [\"Shredded Wheat 'n'Bran\" 'N']\n",
            " ['Shredded Wheat spoon size' 'N']\n",
            " ['Smacks' 'K']\n",
            " ['Special K' 'K']\n",
            " ['Strawberry Fruit Wheats' 'N']\n",
            " ['Total Corn Flakes' 'G']\n",
            " ['Total Raisin Bran' 'G']\n",
            " ['Total Whole Grain' 'G']\n",
            " ['Triples' 'G']\n",
            " ['Trix' 'G']\n",
            " ['Wheat Chex' 'R']\n",
            " ['Wheaties' 'G']\n",
            " ['Wheaties Honey Gold' 'G']]\n",
            "-------------------\n",
            "[['68.402973']\n",
            " ['33.983679']\n",
            " ['59.425505']\n",
            " ['93.704912']\n",
            " ['34.384843']\n",
            " ['29.509541']\n",
            " ['33.174094']\n",
            " ['37.038562']\n",
            " ['49.120253']\n",
            " ['53.313813']\n",
            " ['18.042851']\n",
            " ['50.764999']\n",
            " ['19.823573']\n",
            " ['40.400208']\n",
            " ['22.736446']\n",
            " ['41.445019']\n",
            " ['45.863324']\n",
            " ['35.782791']\n",
            " ['22.396513']\n",
            " ['40.448772']\n",
            " ['64.533816']\n",
            " ['46.895644']\n",
            " ['36.176196']\n",
            " ['44.330856']\n",
            " ['32.207582']\n",
            " ['31.435973']\n",
            " ['58.345141']\n",
            " ['40.917047']\n",
            " ['41.015492']\n",
            " ['28.025765']\n",
            " ['35.252444']\n",
            " ['23.804043']\n",
            " ['52.076897']\n",
            " ['53.371007']\n",
            " ['45.811716']\n",
            " ['21.871292']\n",
            " ['31.072217']\n",
            " ['28.742414']\n",
            " ['36.523683']\n",
            " ['36.471512']\n",
            " ['39.241114']\n",
            " ['45.328074']\n",
            " ['26.734515']\n",
            " ['54.850917']\n",
            " ['37.136863']\n",
            " ['34.139765']\n",
            " ['30.313351']\n",
            " ['40.105965']\n",
            " ['29.924285']\n",
            " ['40.692320']\n",
            " ['59.642837']\n",
            " ['30.450843']\n",
            " ['37.840594']\n",
            " ['41.503540']\n",
            " ['60.756112']\n",
            " ['63.005645']\n",
            " ['49.511874']\n",
            " ['50.828392']\n",
            " ['39.259197']\n",
            " ['39.703400']\n",
            " ['55.333142']\n",
            " ['41.998933']\n",
            " ['40.560159']\n",
            " ['68.235885']\n",
            " ['74.472949']\n",
            " ['72.801787']\n",
            " ['31.230054']\n",
            " ['53.131324']\n",
            " ['59.363993']\n",
            " ['38.839746']\n",
            " ['28.592785']\n",
            " ['46.658844']\n",
            " ['39.106174']\n",
            " ['27.753301']\n",
            " ['49.787445']\n",
            " ['51.592193']\n",
            " ['36.187559']]\n",
            "------------\n",
            "['70' '120' '70' '50' '110']\n",
            "-------------------\n",
            "['100']\n",
            "-------------------\n",
            "All-Bran\n",
            "-------------------\n",
            "[['100% Bran', 'N', 'C', '70', '4', '1', '130', '10', '5', '6', '280', '25', '3', '1', '0.33', '68.402973'], ['100% Natural Bran', 'Q', 'C', '120', '3', '5', '15', '2', '8', '8', '135', '0', '3', '1', '1', '33.983679'], ['All-Bran', 'K', 'C', '70', '4', '1', '260', '9', '7', '5', '320', '25', '3', '1', '0.33', '59.425505'], ['All-Bran with Extra Fiber', 'K', 'C', '50', '4', '0', '140', '14', '8', '0', '330', '25', '3', '1', '0.5', '93.704912'], ['Almond Delight', 'R', 'C', '110', '2', '2', '200', '1', '14', '8', '-1', '25', '3', '1', '0.75', '34.384843'], ['Apple Cinnamon Cheerios', 'G', 'C', '110', '2', '2', '180', '1.5', '10.5', '10', '70', '25', '1', '1', '0.75', '29.509541'], ['Apple Jacks', 'K', 'C', '110', '2', '0', '125', '1', '11', '14', '30', '25', '2', '1', '1', '33.174094'], ['Basic 4', 'G', 'C', '130', '3', '2', '210', '2', '18', '8', '100', '25', '3', '1.33', '0.75', '37.038562'], ['Bran Chex', 'R', 'C', '90', '2', '1', '200', '4', '15', '6', '125', '25', '1', '1', '0.67', '49.120253'], ['Bran Flakes', 'P', 'C', '90', '3', '0', '210', '5', '13', '5', '190', '25', '3', '1', '0.67', '53.313813'], [\"Cap'n'Crunch\", 'Q', 'C', '120', '1', '2', '220', '0', '12', '12', '35', '25', '2', '1', '0.75', '18.042851'], ['Cheerios', 'G', 'C', '110', '6', '2', '290', '2', '17', '1', '105', '25', '1', '1', '1.25', '50.764999'], ['Cinnamon Toast Crunch', 'G', 'C', '120', '1', '3', '210', '0', '13', '9', '45', '25', '2', '1', '0.75', '19.823573'], ['Clusters', 'G', 'C', '110', '3', '2', '140', '2', '13', '7', '105', '25', '3', '1', '0.5', '40.400208'], ['Cocoa Puffs', 'G', 'C', '110', '1', '1', '180', '0', '12', '13', '55', '25', '2', '1', '1', '22.736446'], ['Corn Chex', 'R', 'C', '110', '2', '0', '280', '0', '22', '3', '25', '25', '1', '1', '1', '41.445019'], ['Corn Flakes', 'K', 'C', '100', '2', '0', '290', '1', '21', '2', '35', '25', '1', '1', '1', '45.863324'], ['Corn Pops', 'K', 'C', '110', '1', '0', '90', '1', '13', '12', '20', '25', '2', '1', '1', '35.782791'], ['Count Chocula', 'G', 'C', '110', '1', '1', '180', '0', '12', '13', '65', '25', '2', '1', '1', '22.396513'], [\"Cracklin' Oat Bran\", 'K', 'C', '110', '3', '3', '140', '4', '10', '7', '160', '25', '3', '1', '0.5', '40.448772'], ['Cream of Wheat (Quick)', 'N', 'H', '100', '3', '0', '80', '1', '21', '0', '-1', '0', '2', '1', '1', '64.533816'], ['Crispix', 'K', 'C', '110', '2', '0', '220', '1', '21', '3', '30', '25', '3', '1', '1', '46.895644'], ['Crispy Wheat & Raisins', 'G', 'C', '100', '2', '1', '140', '2', '11', '10', '120', '25', '3', '1', '0.75', '36.176196'], ['Double Chex', 'R', 'C', '100', '2', '0', '190', '1', '18', '5', '80', '25', '3', '1', '0.75', '44.330856'], ['Froot Loops', 'K', 'C', '110', '2', '1', '125', '1', '11', '13', '30', '25', '2', '1', '1', '32.207582'], ['Frosted Flakes', 'K', 'C', '110', '1', '0', '200', '1', '14', '11', '25', '25', '1', '1', '0.75', '31.435973'], ['Frosted Mini-Wheats', 'K', 'C', '100', '3', '0', '0', '3', '14', '7', '100', '25', '2', '1', '0.8', '58.345141'], ['Fruit & Fibre Dates; Walnuts; and Oats', 'P', 'C', '120', '3', '2', '160', '5', '12', '10', '200', '25', '3', '1.25', '0.67', '40.917047'], ['Fruitful Bran', 'K', 'C', '120', '3', '0', '240', '5', '14', '12', '190', '25', '3', '1.33', '0.67', '41.015492'], ['Fruity Pebbles', 'P', 'C', '110', '1', '1', '135', '0', '13', '12', '25', '25', '2', '1', '0.75', '28.025765'], ['Golden Crisp', 'P', 'C', '100', '2', '0', '45', '0', '11', '15', '40', '25', '1', '1', '0.88', '35.252444'], ['Golden Grahams', 'G', 'C', '110', '1', '1', '280', '0', '15', '9', '45', '25', '2', '1', '0.75', '23.804043'], ['Grape Nuts Flakes', 'P', 'C', '100', '3', '1', '140', '3', '15', '5', '85', '25', '3', '1', '0.88', '52.076897'], ['Grape-Nuts', 'P', 'C', '110', '3', '0', '170', '3', '17', '3', '90', '25', '3', '1', '0.25', '53.371007'], ['Great Grains Pecan', 'P', 'C', '120', '3', '3', '75', '3', '13', '4', '100', '25', '3', '1', '0.33', '45.811716'], ['Honey Graham Ohs', 'Q', 'C', '120', '1', '2', '220', '1', '12', '11', '45', '25', '2', '1', '1', '21.871292'], ['Honey Nut Cheerios', 'G', 'C', '110', '3', '1', '250', '1.5', '11.5', '10', '90', '25', '1', '1', '0.75', '31.072217'], ['Honey-comb', 'P', 'C', '110', '1', '0', '180', '0', '14', '11', '35', '25', '1', '1', '1.33', '28.742414'], ['Just Right Crunchy  Nuggets', 'K', 'C', '110', '2', '1', '170', '1', '17', '6', '60', '100', '3', '1', '1', '36.523683'], ['Just Right Fruit & Nut', 'K', 'C', '140', '3', '1', '170', '2', '20', '9', '95', '100', '3', '1.3', '0.75', '36.471512'], ['Kix', 'G', 'C', '110', '2', '1', '260', '0', '21', '3', '40', '25', '2', '1', '1.5', '39.241114'], ['Life', 'Q', 'C', '100', '4', '2', '150', '2', '12', '6', '95', '25', '2', '1', '0.67', '45.328074'], ['Lucky Charms', 'G', 'C', '110', '2', '1', '180', '0', '12', '12', '55', '25', '2', '1', '1', '26.734515'], ['Maypo', 'A', 'H', '100', '4', '1', '0', '0', '16', '3', '95', '25', '2', '1', '1', '54.850917'], ['Muesli Raisins; Dates; & Almonds', 'R', 'C', '150', '4', '3', '95', '3', '16', '11', '170', '25', '3', '1', '1', '37.136863'], ['Muesli Raisins; Peaches; & Pecans', 'R', 'C', '150', '4', '3', '150', '3', '16', '11', '170', '25', '3', '1', '1', '34.139765'], ['Mueslix Crispy Blend', 'K', 'C', '160', '3', '2', '150', '3', '17', '13', '160', '25', '3', '1.5', '0.67', '30.313351'], ['Multi-Grain Cheerios', 'G', 'C', '100', '2', '1', '220', '2', '15', '6', '90', '25', '1', '1', '1', '40.105965'], ['Nut&Honey Crunch', 'K', 'C', '120', '2', '1', '190', '0', '15', '9', '40', '25', '2', '1', '0.67', '29.924285'], ['Nutri-Grain Almond-Raisin', 'K', 'C', '140', '3', '2', '220', '3', '21', '7', '130', '25', '3', '1.33', '0.67', '40.692320'], ['Nutri-grain Wheat', 'K', 'C', '90', '3', '0', '170', '3', '18', '2', '90', '25', '3', '1', '1', '59.642837'], ['Oatmeal Raisin Crisp', 'G', 'C', '130', '3', '2', '170', '1.5', '13.5', '10', '120', '25', '3', '1.25', '0.5', '30.450843'], ['Post Nat. Raisin Bran', 'P', 'C', '120', '3', '1', '200', '6', '11', '14', '260', '25', '3', '1.33', '0.67', '37.840594'], ['Product 19', 'K', 'C', '100', '3', '0', '320', '1', '20', '3', '45', '100', '3', '1', '1', '41.503540'], ['Puffed Rice', 'Q', 'C', '50', '1', '0', '0', '0', '13', '0', '15', '0', '3', '0.5', '1', '60.756112'], ['Puffed Wheat', 'Q', 'C', '50', '2', '0', '0', '1', '10', '0', '50', '0', '3', '0.5', '1', '63.005645'], ['Quaker Oat Squares', 'Q', 'C', '100', '4', '1', '135', '2', '14', '6', '110', '25', '3', '1', '0.5', '49.511874'], ['Quaker Oatmeal', 'Q', 'H', '100', '5', '2', '0', '2.7', '-1', '-1', '110', '0', '1', '1', '0.67', '50.828392'], ['Raisin Bran', 'K', 'C', '120', '3', '1', '210', '5', '14', '12', '240', '25', '2', '1.33', '0.75', '39.259197'], ['Raisin Nut Bran', 'G', 'C', '100', '3', '2', '140', '2.5', '10.5', '8', '140', '25', '3', '1', '0.5', '39.703400'], ['Raisin Squares', 'K', 'C', '90', '2', '0', '0', '2', '15', '6', '110', '25', '3', '1', '0.5', '55.333142'], ['Rice Chex', 'R', 'C', '110', '1', '0', '240', '0', '23', '2', '30', '25', '1', '1', '1.13', '41.998933'], ['Rice Krispies', 'K', 'C', '110', '2', '0', '290', '0', '22', '3', '35', '25', '1', '1', '1', '40.560159'], ['Shredded Wheat', 'N', 'C', '80', '2', '0', '0', '3', '16', '0', '95', '0', '1', '0.83', '1', '68.235885'], [\"Shredded Wheat 'n'Bran\", 'N', 'C', '90', '3', '0', '0', '4', '19', '0', '140', '0', '1', '1', '0.67', '74.472949'], ['Shredded Wheat spoon size', 'N', 'C', '90', '3', '0', '0', '3', '20', '0', '120', '0', '1', '1', '0.67', '72.801787'], ['Smacks', 'K', 'C', '110', '2', '1', '70', '1', '9', '15', '40', '25', '2', '1', '0.75', '31.230054'], ['Special K', 'K', 'C', '110', '6', '0', '230', '1', '16', '3', '55', '25', '1', '1', '1', '53.131324'], ['Strawberry Fruit Wheats', 'N', 'C', '90', '2', '0', '15', '3', '15', '5', '90', '25', '2', '1', '1', '59.363993'], ['Total Corn Flakes', 'G', 'C', '110', '2', '1', '200', '0', '21', '3', '35', '100', '3', '1', '1', '38.839746'], ['Total Raisin Bran', 'G', 'C', '140', '3', '1', '190', '4', '15', '14', '230', '100', '3', '1.5', '1', '28.592785'], ['Total Whole Grain', 'G', 'C', '100', '3', '1', '200', '3', '16', '3', '110', '100', '3', '1', '1', '46.658844'], ['Triples', 'G', 'C', '110', '2', '1', '250', '0', '21', '3', '60', '25', '3', '1', '0.75', '39.106174'], ['Trix', 'G', 'C', '110', '1', '1', '140', '0', '13', '12', '25', '25', '2', '1', '1', '27.753301'], ['Wheat Chex', 'R', 'C', '100', '3', '1', '230', '3', '17', '3', '115', '25', '1', '1', '0.67', '49.787445'], ['Wheaties', 'G', 'C', '100', '3', '1', '200', '3', '17', '3', '110', '25', '1', '1', '1', '51.592193'], ['Wheaties Honey Gold', 'G', 'C', '110', '2', '1', '200', '1', '16', '8', '60', '25', '1', '1', '0.75', '36.187559']]\n",
            "-------------------\n",
            "[['100% Bran' 'N' 'C' '70' '4' '1' '130' '10' '5' '6' '280' '25' '3' '1'\n",
            "  '0.33' '68.402973']\n",
            " ['100% Natural Bran' 'Q' 'C' '120' '3' '5' '15' '2' '8' '8' '135' '0'\n",
            "  '3' '1' '1' '33.983679']\n",
            " ['All-Bran' 'K' 'C' '70' '4' '1' '260' '9' '7' '5' '320' '25' '3' '1'\n",
            "  '0.33' '59.425505']\n",
            " ['All-Bran with Extra Fiber' 'K' 'C' '50' '4' '0' '140' '14' '8' '0'\n",
            "  '330' '25' '3' '1' '0.5' '93.704912']\n",
            " ['Almond Delight' 'R' 'C' '110' '2' '2' '200' '1' '14' '8' '-1' '25' '3'\n",
            "  '1' '0.75' '34.384843']\n",
            " ['Apple Cinnamon Cheerios' 'G' 'C' '110' '2' '2' '180' '1.5' '10.5' '10'\n",
            "  '70' '25' '1' '1' '0.75' '29.509541']\n",
            " ['Apple Jacks' 'K' 'C' '110' '2' '0' '125' '1' '11' '14' '30' '25' '2'\n",
            "  '1' '1' '33.174094']\n",
            " ['Basic 4' 'G' 'C' '130' '3' '2' '210' '2' '18' '8' '100' '25' '3'\n",
            "  '1.33' '0.75' '37.038562']\n",
            " ['Bran Chex' 'R' 'C' '90' '2' '1' '200' '4' '15' '6' '125' '25' '1' '1'\n",
            "  '0.67' '49.120253']\n",
            " ['Bran Flakes' 'P' 'C' '90' '3' '0' '210' '5' '13' '5' '190' '25' '3'\n",
            "  '1' '0.67' '53.313813']]\n",
            "[[68.402973]\n",
            " [33.983679]\n",
            " [59.425505]\n",
            " [93.704912]\n",
            " [34.384843]\n",
            " [29.509541]\n",
            " [33.174094]\n",
            " [37.038562]\n",
            " [49.120253]\n",
            " [53.313813]\n",
            " [18.042851]\n",
            " [50.764999]\n",
            " [19.823573]\n",
            " [40.400208]\n",
            " [22.736446]\n",
            " [41.445019]\n",
            " [45.863324]\n",
            " [35.782791]\n",
            " [22.396513]\n",
            " [40.448772]\n",
            " [64.533816]\n",
            " [46.895644]\n",
            " [36.176196]\n",
            " [44.330856]\n",
            " [32.207582]\n",
            " [31.435973]\n",
            " [58.345141]\n",
            " [40.917047]\n",
            " [41.015492]\n",
            " [28.025765]\n",
            " [35.252444]\n",
            " [23.804043]\n",
            " [52.076897]\n",
            " [53.371007]\n",
            " [45.811716]\n",
            " [21.871292]\n",
            " [31.072217]\n",
            " [28.742414]\n",
            " [36.523683]\n",
            " [36.471512]\n",
            " [39.241114]\n",
            " [45.328074]\n",
            " [26.734515]\n",
            " [54.850917]\n",
            " [37.136863]\n",
            " [34.139765]\n",
            " [30.313351]\n",
            " [40.105965]\n",
            " [29.924285]\n",
            " [40.69232 ]\n",
            " [59.642837]\n",
            " [30.450843]\n",
            " [37.840594]\n",
            " [41.50354 ]\n",
            " [60.756112]\n",
            " [63.005645]\n",
            " [49.511874]\n",
            " [50.828392]\n",
            " [39.259197]\n",
            " [39.7034  ]\n",
            " [55.333142]\n",
            " [41.998933]\n",
            " [40.560159]\n",
            " [68.235885]\n",
            " [74.472949]\n",
            " [72.801787]\n",
            " [31.230054]\n",
            " [53.131324]\n",
            " [59.363993]\n",
            " [38.839746]\n",
            " [28.592785]\n",
            " [46.658844]\n",
            " [39.106174]\n",
            " [27.753301]\n",
            " [49.787445]\n",
            " [51.592193]\n",
            " [36.187559]]\n"
          ]
        }
      ],
      "source": [
        "# Code here\n",
        "file_path = \"./cereal.csv\"\n",
        "limit = None\n",
        "data = np.genfromtxt(\n",
        "    fname=file_path,\n",
        "    delimiter=',',\n",
        "    dtype='U75',\n",
        "    autostrip=True,\n",
        "    skip_header=1,\n",
        "    max_rows=limit\n",
        ")\n",
        "print(data.shape) ## retourne (lignes, colonnes)\n",
        "\n",
        "# 1. \n",
        "print(data[:, :2])\n",
        "\n",
        "# 2. \n",
        "print(\"-------------------\")\n",
        "print(data[:, -1:])\n",
        "\n",
        "# 3. \n",
        "print(\"------------\")\n",
        "print(data[:5, 3])\n",
        "\n",
        "# 4. Assigner a une variable `corn_flakes_cals` le nombre de calories par 100 gr de céréales de la marque Corn Flakes \n",
        "print(\"-------------------\")\n",
        "filter = data[: , 0] == \"Corn Flakes\"\n",
        "corn_flakes_cals = data[filter, 3]\n",
        "print(corn_flakes_cals)\n",
        "\n",
        "# 5. Assigner le nom de la 3eme marque sur le dataset a une variabe `third_brand`\n",
        "print(\"-------------------\")\n",
        "print(data[2,0])\n",
        "\n",
        "# 6. Mettre dans une liste toutes les marques de céreales en utilisant `.tolist()` & afficher cette dernière\n",
        "print(\"-------------------\")\n",
        "cereal_list = data.tolist()\n",
        "print(cereal_list)\n",
        "\n",
        "# 7. Mettre les 10 premiere marques dans le fichiers dans une liste `first_ten_brands` & afficher cette dernière\n",
        "print(\"-------------------\")\n",
        "first_ten_brands = data[:10,]\n",
        "print(first_ten_brands)\n",
        "\n",
        "# 8. (Bonus) Convertir la colonne ratings en décimale\n",
        "print(\"-------------------\")\n",
        "ratings_float = data[:, -1:].astype('float')\n",
        "print(ratings_float)\n"
      ]
    },
    {
      "cell_type": "markdown",
      "metadata": {
        "id": "8BaW1VvWXCS7"
      },
      "source": [
        "#### Part 2\n",
        "\n",
        "* **Extraire** la premiere colonne du dataset et **la comparer** à la valeur `'Special K'` Assigner le resultat à une variable `special_k`\n",
        "* Executer la commande `print(data[special_k])`\n",
        "> bonus\n",
        "* Faire la meme chose mais le filtre verifie que le manufacturer est Quaker Oats (lire la doc du dataset 😉)\n",
        "> bonus ²\n",
        "* Print le nom des marques dont le fabricant est `Quaker Oats` et qui contiennent **moins** de `10 grammes` de sucre par portion\n",
        "* Ajouter une marque de céréales \"healthy\" avec 0 grammes de sucre au dataset "
      ]
    },
    {
      "cell_type": "code",
      "execution_count": null,
      "metadata": {
        "colab": {
          "base_uri": "https://localhost:8080/"
        },
        "id": "GuXFyhUepnMc",
        "outputId": "6ec9c05d-a76c-4d8f-8c48-6285d32b6953"
      },
      "outputs": [
        {
          "name": "stdout",
          "output_type": "stream",
          "text": [
            "[['Special K' 'K' 'C' '110' '6' '0' '230' '1' '16' '3' '55' '25' '1' '1'\n",
            "  '1' '53.131324']]\n",
            "['100% Natural Bran' 'Life' 'Puffed Rice' 'Puffed Wheat'\n",
            " 'Quaker Oat Squares' 'Quaker Oatmeal']\n"
          ]
        }
      ],
      "source": [
        "# Code here\n"
      ]
    },
    {
      "cell_type": "markdown",
      "metadata": {
        "id": "NdsY64gl_0dw"
      },
      "source": [
        "#### Part 3\n",
        "\n",
        "Sur le même dataset, à l'aide d'une boucle `for`:\n",
        "\n",
        "\n",
        "*   Créer un dictionnaire avec la moyenne de sucre par Fabricant de cérales\n",
        "*   Trouver la marque de céreales qui contient le plus de sucre par portion\n",
        "\n"
      ]
    },
    {
      "cell_type": "code",
      "execution_count": null,
      "metadata": {
        "colab": {
          "base_uri": "https://localhost:8080/"
        },
        "id": "EjbTgYNbCaIj",
        "outputId": "5ab1f623-f8df-45f2-e82b-7031da73f3f5"
      },
      "outputs": [
        {
          "data": {
            "text/plain": [
              "array([['100% Bran', 'Nabisco', 'C', ..., '1', '0.33', '68.402973'],\n",
              "       ['100% Natural Bran', 'Quaker Oats', 'C', ..., '1', '1',\n",
              "        '33.983679'],\n",
              "       ['All-Bran', 'Kelloggs', 'C', ..., '1', '0.33', '59.425505'],\n",
              "       ...,\n",
              "       ['Wheat Chex', 'Ralston Purina', 'C', ..., '1', '0.67',\n",
              "        '49.787445'],\n",
              "       ['Wheaties', 'General Mills', 'C', ..., '1', '1', '51.592193'],\n",
              "       ['Wheaties Honey Gold', 'General Mills', 'C', ..., '1', '0.75',\n",
              "        '36.187559']], dtype='<U75')"
            ]
          },
          "execution_count": 469,
          "metadata": {},
          "output_type": "execute_result"
        }
      ],
      "source": []
    },
    {
      "cell_type": "code",
      "execution_count": null,
      "metadata": {
        "colab": {
          "base_uri": "https://localhost:8080/"
        },
        "id": "w1wjqra3_yZo",
        "outputId": "ea12a660-30c6-45d0-e066-c7f4848eb455"
      },
      "outputs": [
        {
          "name": "stdout",
          "output_type": "stream",
          "text": [
            "{'Ralston Purina': 6.125, 'Nabisco': 1.8333333333333333, 'General Mills': 7.954545454545454, 'Kelloggs': 7.565217391304348, 'American Home Food Products': 3.0, 'Post': 8.777777777777779, 'Quaker Oats': 5.25}\n"
          ]
        }
      ],
      "source": []
    },
    {
      "cell_type": "markdown",
      "metadata": {
        "id": "SHsrGdy-5AZK"
      },
      "source": [
        "## EX03\n",
        "### Dataframes\n",
        "\n",
        "Refaire l'exo du TD 4 (fichier des series) en utilisant la librairie NumPy.\n"
      ]
    },
    {
      "cell_type": "code",
      "execution_count": null,
      "metadata": {
        "id": "jIatRWhm5Xzo"
      },
      "outputs": [],
      "source": [
        "# Code here"
      ]
    },
    {
      "cell_type": "markdown",
      "metadata": {
        "id": "94-12vgPXG10"
      },
      "source": [
        "## Github 101\n",
        "\n",
        "```shell\n",
        "# Repartir sur une nouvelle branche\n",
        "git checkout main\n",
        "# Mettre à jour notre branche locale\n",
        "git pull origin main\n",
        "# Recréer une branche pour le TD 05\n",
        "git checkout -b branch_name_td05\n",
        "# Dupliquer le fichier du td et rajouter en suffix son nom\n",
        "cd 'chemin/m1-miage/'\n",
        "cp 'src/to_do/td_05/td_05.ipynb' 'src/done/td_05/td_05_nom_prenom.ipynb'\n",
        "# Faire le travail necessaire sur votre fichier et commit et push\n",
        "git add 'src/done/td_05/td_05_nom_prenom.ipynb'\n",
        "git commit -m 'message descriptif du travail fait'\n",
        "git push --set-upstream origin nom_branche\n",
        "# Faire une pull request\n",
        "```\n",
        "\n",
        "[>>>PULL REQUEST<<<](https://github.com/lapointe05/m1-miage/pulls)\n"
      ]
    }
  ],
  "metadata": {
    "colab": {
      "collapsed_sections": [
        "597Hu82gSNCZ",
        "k2lJWv62kQZA",
        "94-12vgPXG10"
      ],
      "provenance": []
    },
    "kernelspec": {
      "display_name": "Python 3.9.13 ('MIAGE_1')",
      "language": "python",
      "name": "python3"
    },
    "language_info": {
      "codemirror_mode": {
        "name": "ipython",
        "version": 3
      },
      "file_extension": ".py",
      "mimetype": "text/x-python",
      "name": "python",
      "nbconvert_exporter": "python",
      "pygments_lexer": "ipython3",
      "version": "3.9.13"
    },
    "vscode": {
      "interpreter": {
        "hash": "45816787ec77b4629c2d8e7a11b35adbb326047f7fab1289f0fd0cec3df16d7f"
      }
    }
  },
  "nbformat": 4,
  "nbformat_minor": 0
}
