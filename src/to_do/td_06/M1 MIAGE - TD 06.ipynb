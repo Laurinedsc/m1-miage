{
 "cells": [
  {
   "cell_type": "markdown",
   "metadata": {
    "id": "597Hu82gSNCZ"
   },
   "source": [
    "<img src=\"https://upload.wikimedia.org/wikipedia/fr/0/0b/Polytech_Lyon_logo.png\" alt=\"drawing\" height=\"200\"/>\n",
    "\n",
    "# Traitement de données & Programmation en Python\n",
    "---\n",
    "\n"
   ]
  },
  {
   "cell_type": "markdown",
   "metadata": {
    "id": "EA-XK862WiMt"
   },
   "source": [
    "# TD 06\n",
    "\n",
    "Traitement de données\n",
    "\n",
    "Elements à consulter:\n",
    "\n",
    "\n",
    "\n",
    "\n",
    "\n",
    "Doc                                   |             Link\n",
    "--------------------------------------|------------------------------------\n",
    "Github Helper      | [>link<](#scrollTo=Github_101)\n",
    "Python en 30 jours | [>link<](https://moncoachdata.com/courses/apprendre-python-en-30-jours/)\n",
    "Get started with pandas | [>link<](https://colab.research.google.com/notebooks/snippets/pandas.ipynb)"
   ]
  },
  {
   "cell_type": "markdown",
   "metadata": {
    "id": "Y1g4EgT41MqJ"
   },
   "source": [
    "## Intro\n",
    "\n",
    "Le premier bloc devrait toujours contenir les installs/imports dont on aura besoin pour le reste"
   ]
  },
  {
   "cell_type": "code",
   "execution_count": null,
   "metadata": {
    "colab": {
     "base_uri": "https://localhost:8080/"
    },
    "executionInfo": {
     "elapsed": 18,
     "status": "ok",
     "timestamp": 1671047891011,
     "user": {
      "displayName": "Mohamed Ikbal Belbahri (MLP)",
      "userId": "07328248620844599905"
     },
     "user_tz": -60
    },
    "id": "yjiE8c51VoT0",
    "outputId": "971fd469-d5bf-4cac-bee1-b01c4e102c17"
   },
   "outputs": [
    {
     "name": "stdout",
     "output_type": "stream",
     "text": [
      "Python is awesome 👍\n"
     ]
    }
   ],
   "source": [
    "# Installs\n",
    "print(\"Python is awesome 👍\")"
   ]
  },
  {
   "cell_type": "markdown",
   "metadata": {
    "id": "SHsrGdy-5AZK"
   },
   "source": [
    "## EX01\n",
    "### Dataframes\n",
    "\n",
    "* Importer la librairie pandas\n",
    "* lire dataset 'tv_shows.csv' dans une variable tv_data\n",
    "* Afficher les 10 premieres lignes du dataset\n",
    "* Créer une colonne \"streaming_platform\" qui contient le nom de la plateforme de streaming en se basant sur les colonnes (hulu, prime, disney, netflix)\n",
    "* Drop les colonnes (hulu, prime, disney, netflix)\n",
    "* Afficher le nombre de shows par plateforme de streaming\n",
    "* Afficher la note moyenne (imdb) par plateforme de streaming\n",
    "* Assigner a une variable top_shows, les meilleurs shows par plateforme de streaming et afficher cette dernière\n",
    "> bonus \n",
    "* Faire un graphique avec le nombre de shows par année (sur Y, et sur l'axe X les années) par plateforme de streaming (en series). Libres sur le choix du graphique [help](https://pandas.pydata.org/docs/reference/api/pandas.DataFrame.plot.bar.html)"
   ]
  },
  {
   "cell_type": "code",
   "execution_count": 77,
   "metadata": {
    "executionInfo": {
     "elapsed": 5,
     "status": "ok",
     "timestamp": 1671091199158,
     "user": {
      "displayName": "Mohamed Ikbal Belbahri (MLP)",
      "userId": "07328248620844599905"
     },
     "user_tz": -60
    },
    "id": "n_jOsgGllUhC"
   },
   "outputs": [
    {
     "name": "stdout",
     "output_type": "stream",
     "text": [
      "   ID                       Title  Year  Age    IMDb Rotten Tomatoes  Netflix  \\\n",
      "0   1                Breaking Bad  2008  18+  9.4/10         100/100     True   \n",
      "1   2             Stranger Things  2016  16+  8.7/10          96/100     True   \n",
      "2   3             Attack on Titan  2013  18+  9.0/10          95/100     True   \n",
      "3   4            Better Call Saul  2015  18+  8.8/10          94/100     True   \n",
      "4   5                        Dark  2017  16+  8.8/10          93/100     True   \n",
      "5   6  Avatar: The Last Airbender  2005   7+  9.3/10          93/100     True   \n",
      "6   7              Peaky Blinders  2013  18+  8.8/10          93/100     True   \n",
      "7   8            The Walking Dead  2010  18+  8.2/10          93/100     True   \n",
      "8   9                Black Mirror  2011  18+  8.8/10          92/100     True   \n",
      "9  10          The Queen's Gambit  2020  18+  8.6/10          92/100     True   \n",
      "\n",
      "    Hulu  Prime Video  Disney+  Type  \n",
      "0  False        False    False     1  \n",
      "1  False        False    False     1  \n",
      "2   True        False    False     1  \n",
      "3  False        False    False     1  \n",
      "4  False        False    False     1  \n",
      "5  False         True    False     1  \n",
      "6  False        False    False     1  \n",
      "7  False        False    False     1  \n",
      "8  False        False    False     1  \n",
      "9  False        False    False     1  \n"
     ]
    }
   ],
   "source": [
    "import pandas as pd\n",
    "\n",
    "path = 'C:/Users/a.aulagnier/Downloads/tv_shows.csv'\n",
    "\n",
    "tv_data = pd.read_csv(\n",
    "    path,sep='|',\n",
    "    header = 0,\n",
    "    dtype = {'ID': int, 'Title': str,'Year': int,'IMDb': str,'Rotten Tomatoes': str,'Netflix': bool,'Hulu': bool,'Prime Video': bool, 'Disney+': bool,'Type': int}\n",
    "\n",
    "    #le paramètre dtype est utile pour spécifier les types de chaque champ (str par défaut)\n",
    "    \n",
    ")\n",
    "\n",
    "print(tv_data[:10])"
   ]
  },
  {
   "cell_type": "code",
   "execution_count": 171,
   "metadata": {},
   "outputs": [
    {
     "name": "stdout",
     "output_type": "stream",
     "text": [
      "       Clé    ID                                  Title  Year  Age    IMDb  \\\n",
      "0        1     1                           Breaking Bad  2008  18+  9.4/10   \n",
      "1        2     2                        Stranger Things  2016  16+  8.7/10   \n",
      "2        3     3                        Attack on Titan  2013  18+  9.0/10   \n",
      "3        4     4                       Better Call Saul  2015  18+  8.8/10   \n",
      "4        5     5                                   Dark  2017  16+  8.8/10   \n",
      "...    ...   ...                                    ...   ...  ...     ...   \n",
      "5363  5770  5713                       Paradise Islands  2017  NaN     NaN   \n",
      "5364  5771  5714                         Mexico Untamed  2018  NaN     NaN   \n",
      "5365  5772  5715                  Wild Centeral America  2020  NaN     NaN   \n",
      "5366  5773  5716                            Wild Russia  2018  NaN     NaN   \n",
      "5367  5774  5717  Fearless Adventures with Jack Randall  2018  NaN     NaN   \n",
      "\n",
      "     Rotten Tomatoes  Type Streaming Platform  \n",
      "0            100/100     1            Netflix  \n",
      "1             96/100     1            Netflix  \n",
      "2             95/100     1            Netflix  \n",
      "3             94/100     1            Netflix  \n",
      "4             93/100     1            Netflix  \n",
      "...              ...   ...                ...  \n",
      "5363          10/100     1            Disney+  \n",
      "5364          10/100     1            Disney+  \n",
      "5365          10/100     1            Disney+  \n",
      "5366          10/100     1            Disney+  \n",
      "5367          10/100     1            Disney+  \n",
      "\n",
      "[5774 rows x 9 columns]\n"
     ]
    },
    {
     "name": "stderr",
     "output_type": "stream",
     "text": [
      "C:\\Users\\a.aulagnier\\AppData\\Local\\Temp\\ipykernel_12028\\2603215540.py:7: SettingWithCopyWarning: \n",
      "A value is trying to be set on a copy of a slice from a DataFrame.\n",
      "Try using .loc[row_indexer,col_indexer] = value instead\n",
      "\n",
      "See the caveats in the documentation: https://pandas.pydata.org/pandas-docs/stable/user_guide/indexing.html#returning-a-view-versus-a-copy\n",
      "  netflix['Streaming Platform'] = 'Netflix'\n",
      "C:\\Users\\a.aulagnier\\AppData\\Local\\Temp\\ipykernel_12028\\2603215540.py:11: SettingWithCopyWarning: \n",
      "A value is trying to be set on a copy of a slice from a DataFrame.\n",
      "Try using .loc[row_indexer,col_indexer] = value instead\n",
      "\n",
      "See the caveats in the documentation: https://pandas.pydata.org/pandas-docs/stable/user_guide/indexing.html#returning-a-view-versus-a-copy\n",
      "  hulu['Streaming Platform'] = 'Hulu'\n",
      "C:\\Users\\a.aulagnier\\AppData\\Local\\Temp\\ipykernel_12028\\2603215540.py:15: SettingWithCopyWarning: \n",
      "A value is trying to be set on a copy of a slice from a DataFrame.\n",
      "Try using .loc[row_indexer,col_indexer] = value instead\n",
      "\n",
      "See the caveats in the documentation: https://pandas.pydata.org/pandas-docs/stable/user_guide/indexing.html#returning-a-view-versus-a-copy\n",
      "  prime['Streaming Platform'] = 'Prime Video'\n",
      "C:\\Users\\a.aulagnier\\AppData\\Local\\Temp\\ipykernel_12028\\2603215540.py:18: SettingWithCopyWarning: \n",
      "A value is trying to be set on a copy of a slice from a DataFrame.\n",
      "Try using .loc[row_indexer,col_indexer] = value instead\n",
      "\n",
      "See the caveats in the documentation: https://pandas.pydata.org/pandas-docs/stable/user_guide/indexing.html#returning-a-view-versus-a-copy\n",
      "  disney['Streaming Platform'] = 'Disney+'\n"
     ]
    }
   ],
   "source": [
    "# Ici, la logique se rapproche plus d'une vision BDD:\n",
    "# en effet, le problème rencontré est qu'une série peut très bien être présente sur deux plateformes à la fois.\n",
    "# j'ai donc décidé les \"doublons\" seraient sur plusieurs lignes, pour respecter l'atomicité des valeurs\n",
    "# on aurait aussi très bien pu faire que le champ \"streaming_platform\" soit de type list\n",
    "\n",
    "netflix = tv_data.loc[tv_data['Netflix']==True]\n",
    "netflix['Streaming Platform'] = 'Netflix'\n",
    "\n",
    "\n",
    "hulu = tv_data.loc[tv_data['Hulu']==True]\n",
    "hulu['Streaming Platform'] = 'Hulu'\n",
    "\n",
    "\n",
    "prime = tv_data.loc[tv_data['Prime Video']==True]\n",
    "prime['Streaming Platform'] = 'Prime Video'\n",
    "\n",
    "disney = tv_data.loc[tv_data['Disney+']==True]\n",
    "disney['Streaming Platform'] = 'Disney+'\n",
    "\n",
    "frames = [netflix, hulu, prime, disney]\n",
    "tv_shows = pd.concat(frames)\n",
    "tv_shows.drop(columns=['Netflix', 'Hulu','Prime Video','Disney+'], inplace=True)\n",
    "# Pour éviter tout problème, on va créer une clé artificielle qui rendra chaque élément unique\n",
    "\n",
    "clé=[]\n",
    "for i in range(len(tv_shows)):\n",
    "    clé.append(i+1)\n",
    "    \n",
    "tv_shows.insert(0,\"Clé\",clé)\n",
    "print(tv_shows)"
   ]
  },
  {
   "cell_type": "code",
   "execution_count": 172,
   "metadata": {},
   "outputs": [
    {
     "data": {
      "text/plain": [
       "Streaming Platform\n",
       "Disney+         351\n",
       "Hulu           1621\n",
       "Netflix        1971\n",
       "Prime Video    1831\n",
       "Name: Clé, dtype: int64"
      ]
     },
     "execution_count": 172,
     "metadata": {},
     "output_type": "execute_result"
    }
   ],
   "source": [
    "tv_shows.groupby(['Streaming Platform'])['Clé'].count()"
   ]
  },
  {
   "cell_type": "code",
   "execution_count": 173,
   "metadata": {},
   "outputs": [
    {
     "name": "stdout",
     "output_type": "stream",
     "text": [
      "       Clé    ID                                  Title  Year  Age  IMDb  \\\n",
      "0        1     1                           Breaking Bad  2008  18+   9.4   \n",
      "1        2     2                        Stranger Things  2016  16+   8.7   \n",
      "2        3     3                        Attack on Titan  2013  18+   9.0   \n",
      "3        4     4                       Better Call Saul  2015  18+   8.8   \n",
      "4        5     5                                   Dark  2017  16+   8.8   \n",
      "...    ...   ...                                    ...   ...  ...   ...   \n",
      "5363  5770  5713                       Paradise Islands  2017  NaN   NaN   \n",
      "5364  5771  5714                         Mexico Untamed  2018  NaN   NaN   \n",
      "5365  5772  5715                  Wild Centeral America  2020  NaN   NaN   \n",
      "5366  5773  5716                            Wild Russia  2018  NaN   NaN   \n",
      "5367  5774  5717  Fearless Adventures with Jack Randall  2018  NaN   NaN   \n",
      "\n",
      "     Rotten Tomatoes  Type Streaming Platform  \n",
      "0            100/100     1            Netflix  \n",
      "1             96/100     1            Netflix  \n",
      "2             95/100     1            Netflix  \n",
      "3             94/100     1            Netflix  \n",
      "4             93/100     1            Netflix  \n",
      "...              ...   ...                ...  \n",
      "5363          10/100     1            Disney+  \n",
      "5364          10/100     1            Disney+  \n",
      "5365          10/100     1            Disney+  \n",
      "5366          10/100     1            Disney+  \n",
      "5367          10/100     1            Disney+  \n",
      "\n",
      "[5774 rows x 9 columns]\n"
     ]
    }
   ],
   "source": [
    "# on applique à toutes les lignes une fonction qui retire les trois derniers caractères de chaque note (\"/10\")\n",
    "\n",
    "tv_shows['IMDb'] = tv_shows['IMDb'].apply(lambda x: str(x)[:-3])\n",
    "\n",
    "# puis on modifie le type de la colonne pour pouvoir calculer la moyenne et le max\n",
    "\n",
    "tv_shows['IMDb'] = pd.to_numeric(tv_shows['IMDb'])\n",
    "\n",
    "print(tv_shows)\n"
   ]
  },
  {
   "cell_type": "code",
   "execution_count": 174,
   "metadata": {},
   "outputs": [
    {
     "data": {
      "text/plain": [
       "Streaming Platform\n",
       "Disney+        6.971111\n",
       "Hulu           7.082370\n",
       "Netflix        7.110933\n",
       "Prime Video    7.152538\n",
       "Name: IMDb, dtype: float64"
      ]
     },
     "execution_count": 174,
     "metadata": {},
     "output_type": "execute_result"
    }
   ],
   "source": [
    "tv_shows.groupby(['Streaming Platform'])['IMDb'].mean()"
   ]
  },
  {
   "cell_type": "code",
   "execution_count": 179,
   "metadata": {},
   "outputs": [
    {
     "name": "stdout",
     "output_type": "stream",
     "text": [
      "       Clé    ID                              Title  Year  Age  IMDb  \\\n",
      "0        1     1                       Breaking Bad  2008  18+   9.4   \n",
      "2009  2148  2034                             Cosmos  2014  all   9.3   \n",
      "3115  3254  3246                       Hungry Henry  2014  NaN   9.3   \n",
      "3802  4169  4054  The Secret World of Nature: Spain  2020   7+   9.6   \n",
      "5077  5484  5401                              Bluey  2018  all   9.6   \n",
      "\n",
      "     Rotten Tomatoes  Type Streaming Platform  \n",
      "0            100/100     1            Netflix  \n",
      "2009          82/100     1               Hulu  \n",
      "3115          39/100     1               Hulu  \n",
      "3802          51/100     1        Prime Video  \n",
      "5077          71/100     1            Disney+  \n"
     ]
    }
   ],
   "source": [
    "idx = tv_shows.groupby(['Streaming Platform'])['IMDb'].transform(max) == tv_shows['IMDb']\n",
    "print(tv_shows[idx])"
   ]
  },
  {
   "cell_type": "markdown",
   "metadata": {
    "id": "Q8WBS9oVKcWs"
   },
   "source": [
    "##EX02\n",
    "### Pandas Power\n",
    "\n",
    "TBD (apres la pause)"
   ]
  },
  {
   "cell_type": "code",
   "execution_count": 8,
   "metadata": {
    "executionInfo": {
     "elapsed": 1298,
     "status": "ok",
     "timestamp": 1671092900485,
     "user": {
      "displayName": "Mohamed Ikbal Belbahri (MLP)",
      "userId": "07328248620844599905"
     },
     "user_tz": -60
    },
    "id": "EjbTgYNbCaIj"
   },
   "outputs": [],
   "source": [
    "# Code here\n"
   ]
  }
 ],
 "metadata": {
  "colab": {
   "provenance": [
    {
     "file_id": "1paH7Fisr-efmtIiO-1Ab3owCJjfDE4v_",
     "timestamp": 1671047849633
    },
    {
     "file_id": "1zl-_Eb4yoPaEZETfcgwMT3t1f2WvzCTP",
     "timestamp": 1669822250874
    },
    {
     "file_id": "10r0ra7GNEYtrBFgJzzxdTdUmyASLaFac",
     "timestamp": 1668549623925
    },
    {
     "file_id": "1VxTxySDy1nHxi76Wmt1Y8PNFgQXUfaAI",
     "timestamp": 1666854248665
    },
    {
     "file_id": "1GUBWlzuW-AJq29Cci_ysjvctaj2392KH",
     "timestamp": 1666799264156
    },
    {
     "file_id": "1C8pBAb5MVuZLc-Ijxah2iD7OYnHEDbL3",
     "timestamp": 1655373401969
    }
   ]
  },
  "kernelspec": {
   "display_name": "Python 3 (ipykernel)",
   "language": "python",
   "name": "python3"
  },
  "language_info": {
   "codemirror_mode": {
    "name": "ipython",
    "version": 3
   },
   "file_extension": ".py",
   "mimetype": "text/x-python",
   "name": "python",
   "nbconvert_exporter": "python",
   "pygments_lexer": "ipython3",
   "version": "3.8.15"
  }
 },
 "nbformat": 4,
 "nbformat_minor": 1
}
