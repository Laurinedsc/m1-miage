{
 "cells": [
  {
   "cell_type": "markdown",
   "metadata": {
    "id": "597Hu82gSNCZ"
   },
   "source": [
    "<img src=\"https://upload.wikimedia.org/wikipedia/fr/0/0b/Polytech_Lyon_logo.png\" alt=\"drawing\" height=\"200\"/>\n",
    "\n",
    "# Traitement de données & Programmation en Python\n",
    "---\n",
    "\n"
   ]
  },
  {
   "cell_type": "markdown",
   "metadata": {
    "id": "EA-XK862WiMt"
   },
   "source": [
    "# TD 06\n",
    "\n",
    "Traitement de données\n",
    "\n",
    "Elements à consulter:\n",
    "\n",
    "\n",
    "\n",
    "\n",
    "\n",
    "Doc                                   |             Link\n",
    "--------------------------------------|------------------------------------\n",
    "Github Helper      | [>link<](#scrollTo=Github_101)\n",
    "Python en 30 jours | [>link<](https://moncoachdata.com/courses/apprendre-python-en-30-jours/)\n",
    "Get started with pandas | [>link<](https://colab.research.google.com/notebooks/snippets/pandas.ipynb)"
   ]
  },
  {
   "cell_type": "markdown",
   "metadata": {
    "id": "Y1g4EgT41MqJ"
   },
   "source": [
    "## Intro\n",
    "\n",
    "Le premier bloc devrait toujours contenir les installs/imports dont on aura besoin pour le reste"
   ]
  },
  {
   "cell_type": "code",
   "execution_count": 1,
   "metadata": {
    "colab": {
     "base_uri": "https://localhost:8080/"
    },
    "executionInfo": {
     "elapsed": 18,
     "status": "ok",
     "timestamp": 1671047891011,
     "user": {
      "displayName": "Mohamed Ikbal Belbahri (MLP)",
      "userId": "07328248620844599905"
     },
     "user_tz": -60
    },
    "id": "yjiE8c51VoT0",
    "outputId": "971fd469-d5bf-4cac-bee1-b01c4e102c17"
   },
   "outputs": [
    {
     "name": "stdout",
     "output_type": "stream",
     "text": [
      "Python is awesome 👍\n"
     ]
    }
   ],
   "source": [
    "# Installs\n",
    "print(\"Python is awesome 👍\")"
   ]
  },
  {
   "cell_type": "markdown",
   "metadata": {
    "id": "SHsrGdy-5AZK"
   },
   "source": [
    "## EX01\n",
    "### Dataframes\n",
    "\n",
    "* Importer la librairie pandas\n",
    "* lire dataset 'tv_shows.csv' dans une variable tv_data\n",
    "* Afficher les 10 premieres lignes du dataset\n",
    "* Créer une colonne \"sreaming_platform\" qui contient le nom de la plateforme de streaming en se basant sur les colonnes (hulu, prime, disney, netflix)\n",
    "* Drop les colonnes (hulu, prime, disney, netflix)\n",
    "* Afficher le nombre de shows par plateforme de streaming\n",
    "* Afficher la note moyenne (imdb) par plateforme de streaming\n",
    "* Assigner a une variable top_shows, les meilleurs shows par plateforme de streaming et afficher cette dernière\n",
    "> bonus \n",
    "* Faire un graphique avec le nombre de shows par année (sur Y, et sur l'axe X les années) par plateforme de streaming (en series). Libres sur le choix du graphique [help](https://pandas.pydata.org/docs/reference/api/pandas.DataFrame.plot.bar.html)"
   ]
  },
  {
   "cell_type": "code",
   "execution_count": 138,
   "metadata": {
    "executionInfo": {
     "elapsed": 5,
     "status": "ok",
     "timestamp": 1671091199158,
     "user": {
      "displayName": "Mohamed Ikbal Belbahri (MLP)",
      "userId": "07328248620844599905"
     },
     "user_tz": -60
    },
    "id": "n_jOsgGllUhC"
   },
   "outputs": [
    {
     "name": "stdout",
     "output_type": "stream",
     "text": [
      "Colonne Streaming Platform ajoutée\n",
      "---------\n",
      "Colonnes Netflix, Hulu, Disney+ et Prime Vidéo supprimées\n",
      "---------\n",
      "AxesSubplot(0.125,0.11;0.775x0.77)\n"
     ]
    },
    {
     "data": {
      "image/png": "[encoded data removed]",
      "text/plain": [
       "<Figure size 640x480 with 1 Axes>"
      ]
     },
     "metadata": {},
     "output_type": "display_data"
    }
   ],
   "source": [
    "# Code here\n",
    "import pandas as pd\n",
    "\n",
    "data = pd.read_csv('./tv_shows.csv', delimiter=\"|\")\n",
    "\n",
    "# affiche les 10 premieres lignes\n",
    "#print(data.head(10))\n",
    "\n",
    "# creation de la colonne Streaming Platform\n",
    "data.loc[(data['Netflix'] == 1) | (data['Hulu'] == 1) | (data['Disney+'] == 1) | (data['Prime Video'] == 1), 'Streaming Platform'] = ''\n",
    "data.loc[data['Netflix'] == 1, 'Streaming Platform'] += 'Netflix '\n",
    "data.loc[data['Hulu'] == 1, 'Streaming Platform'] += 'Hulu '\n",
    "data.loc[data['Disney+'] == 1, 'Streaming Platform'] += 'Disney+ '\n",
    "data.loc[data['Prime Video'] == 1, 'Streaming Platform'] += 'Prime '\n",
    "\n",
    "print(\"Colonne Streaming Platform ajoutée\")\n",
    "print(\"---------\")\n",
    "\n",
    "#Suppression des colonnes Hulu, Prime Video, Netflix et Disney +\n",
    "data.drop('Netflix', inplace=True, axis=1)\n",
    "data.drop('Prime Video', inplace=True, axis=1)\n",
    "data.drop('Hulu', inplace=True, axis=1)\n",
    "data.drop('Disney+', inplace=True, axis=1)\n",
    "\n",
    "print(\"Colonnes Netflix, Hulu, Disney+ et Prime Vidéo supprimées\")\n",
    "print(\"---------\")\n",
    "\n",
    "#Compte le nombre de shows par plateforme\n",
    "netflix_shows = 0\n",
    "hulu_shows = 0\n",
    "disney_shows = 0\n",
    "prime_shows = 0\n",
    "\n",
    "for liste_show in data['Streaming Platform'] : \n",
    "    if \"Netflix\" in liste_show:\n",
    "        netflix_shows += 1\n",
    "    if \"Hulu\" in liste_show:\n",
    "        hulu_shows += 1\n",
    "    if \"Disney+\" in liste_show:\n",
    "        disney_shows += 1\n",
    "    if \"Prime\" in liste_show:\n",
    "        prime_shows += 1\n",
    "        \n",
    "print(f\"Nombre de shows pour Netflix : {netflix_shows}\")\n",
    "print(f\"Nombre de shows pour Hulu : {hulu_shows}\")\n",
    "print(f\"Nombre de shows pour Disney : {disney_shows}\")\n",
    "print(f\"Nombre de shows pour Prime Video : {prime_shows}\")\n",
    "print(\"---------\")\n",
    "\n",
    "#moyenne par plateforme et meilleur par plateforme\n",
    "netflix_moyenne = 0\n",
    "hulu_moyenne = 0\n",
    "disney_moyenne = 0\n",
    "prime_moyenne = 0\n",
    "\n",
    "netflix_note = 0\n",
    "hulu_note = 0\n",
    "disney_note = 0\n",
    "prime_note = 0\n",
    "\n",
    "best_netflix = \"\"\n",
    "best_hulu = \"\"\n",
    "best_disney = \"\"\n",
    "best_prime = \"\"\n",
    "\n",
    "best_note_netflix = 0\n",
    "best_note_hulu = 0\n",
    "best_note_disney = 0\n",
    "best_note_prime = 0\n",
    "\n",
    "for show in range(0,data['ID'].count()):\n",
    "    if \"Netflix\" in data.iloc[show]['Streaming Platform']:\n",
    "        note = data.iloc[show]['Rotten Tomatoes']\n",
    "        floated_note = float(note[:-4])\n",
    "        netflix_note += floated_note\n",
    "        if best_note_netflix < floated_note:\n",
    "            best_note_netflix = floated_note\n",
    "            best_netflix = data.iloc[show]['Title']\n",
    "\n",
    "    if \"Hulu\" in data.iloc[show]['Streaming Platform']:\n",
    "        note = data.iloc[show]['Rotten Tomatoes']\n",
    "        floated_note = float(note[:-4])\n",
    "        hulu_note += floated_note\n",
    "        if best_note_hulu < floated_note:\n",
    "            best_note_hulu = floated_note\n",
    "            best_hulu = data.iloc[show]['Title']\n",
    "\n",
    "    if \"Disney+\" in data.iloc[show]['Streaming Platform']:\n",
    "        note = data.iloc[show]['Rotten Tomatoes']\n",
    "        floated_note = float(note[:-4])\n",
    "        disney_note += floated_note\n",
    "        if best_note_disney < floated_note:\n",
    "            best_note_disney = floated_note\n",
    "            best_disney = data.iloc[show]['Title']\n",
    "\n",
    "    if \"Prime\" in data.iloc[show]['Streaming Platform']:\n",
    "        note = data.iloc[show]['Rotten Tomatoes']\n",
    "        floated_note = float(note[:-4])\n",
    "        prime_note += floated_note\n",
    "        if best_note_prime < floated_note:\n",
    "            best_note_prime = floated_note\n",
    "            best_prime = data.iloc[show]['Title']\n",
    "        \n",
    "netflix_moyenne = float(netflix_note) / netflix_shows\n",
    "hulu_moyenne = float(hulu_note) / hulu_shows\n",
    "disney_moyenne = float(disney_note) / disney_shows\n",
    "prime_moyenne = float(prime_note) / prime_shows\n",
    "\n",
    "top_shows = {}\n",
    "top_shows['Netflix'] = [best_netflix, best_note_netflix]\n",
    "top_shows['Hulu'] = [best_hulu, best_note_hulu]\n",
    "top_shows['Disney+'] = [best_disney, best_note_disney]\n",
    "top_shows['Prime Video'] = [best_prime, best_note_prime]\n",
    "\n",
    "print(f\"Moyenne pour Netflix : {netflix_moyenne:.2f}\")\n",
    "print(f\"Moyenne pour Hulu : {hulu_moyenne:.2f}\")\n",
    "print(f\"Moyenne pour Disney : {disney_moyenne:.2f}\")\n",
    "print(f\"Moyenne pour Prime Video : {prime_moyenne:.2f}\")\n",
    "print(\"---------\")\n",
    "print(f\"Le meilleur titre de Netflix est {top_shows['Netflix'][0]} avec comme note {top_shows['Netflix'][1]}/100\")\n",
    "print(f\"Le meilleur titre de Hulu est {top_shows['Hulu'][0]} avec comme note {top_shows['Hulu'][1]}/100\")\n",
    "print(f\"Le meilleur titre de Disney+ est {top_shows['Disney+'][0]} avec comme note {top_shows['Disney+'][1]}/100\")\n",
    "print(f\"Le meilleur titre de Prime Video est {top_shows['Prime Video'][0]} avec comme note {top_shows['Prime Video'][1]}/100\")\n"
   ]
  },
  {
   "cell_type": "markdown",
   "metadata": {
    "id": "Q8WBS9oVKcWs"
   },
   "source": [
    "##EX02\n",
    "### Pandas Power\n",
    "\n",
    "TBD (apres la pause)"
   ]
  },
  {
   "cell_type": "code",
   "execution_count": 8,
   "metadata": {
    "executionInfo": {
     "elapsed": 1298,
     "status": "ok",
     "timestamp": 1671092900485,
     "user": {
      "displayName": "Mohamed Ikbal Belbahri (MLP)",
      "userId": "07328248620844599905"
     },
     "user_tz": -60
    },
    "id": "EjbTgYNbCaIj"
   },
   "outputs": [],
   "source": [
    "# Code here\n"
   ]
  }
 ],
 "metadata": {
  "colab": {
   "provenance": [
    {
     "file_id": "1paH7Fisr-efmtIiO-1Ab3owCJjfDE4v_",
     "timestamp": 1671047849633
    },
    {
     "file_id": "1zl-_Eb4yoPaEZETfcgwMT3t1f2WvzCTP",
     "timestamp": 1669822250874
    },
    {
     "file_id": "10r0ra7GNEYtrBFgJzzxdTdUmyASLaFac",
     "timestamp": 1668549623925
    },
    {
     "file_id": "1VxTxySDy1nHxi76Wmt1Y8PNFgQXUfaAI",
     "timestamp": 1666854248665
    },
    {
     "file_id": "1GUBWlzuW-AJq29Cci_ysjvctaj2392KH",
     "timestamp": 1666799264156
    },
    {
     "file_id": "1C8pBAb5MVuZLc-Ijxah2iD7OYnHEDbL3",
     "timestamp": 1655373401969
    }
   ]
  },
  "kernelspec": {
   "display_name": "Python 3 (ipykernel)",
   "language": "python",
   "name": "python3"
  },
  "language_info": {
   "codemirror_mode": {
    "name": "ipython",
    "version": 3
   },
   "file_extension": ".py",
   "mimetype": "text/x-python",
   "name": "python",
   "nbconvert_exporter": "python",
   "pygments_lexer": "ipython3",
   "version": "3.9.13"
  }
 },
 "nbformat": 4,
 "nbformat_minor": 1
}
