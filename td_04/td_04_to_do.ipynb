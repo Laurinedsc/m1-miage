{
 "cells": [
  {
   "cell_type": "markdown",
   "metadata": {
    "colab_type": "text",
    "id": "view-in-github"
   },
   "source": [
    "<a href=\"https://colab.research.google.com/github/lapointe05/m1-miage/blob/main/M1_MIAGE_TD_03.ipynb\" target=\"_parent\"><img src=\"https://colab.research.google.com/assets/colab-badge.svg\" alt=\"Open In Colab\"/></a>"
   ]
  },
  {
   "cell_type": "markdown",
   "metadata": {
    "id": "597Hu82gSNCZ"
   },
   "source": [
    "<img src=\"https://upload.wikimedia.org/wikipedia/fr/0/0b/Polytech_Lyon_logo.png\" alt=\"drawing\" height=\"200\"/>\n",
    "\n",
    "# Algorithmique Avancée & Programmation en Python\n",
    "---\n",
    "\n"
   ]
  },
  {
   "cell_type": "markdown",
   "metadata": {
    "id": "EA-XK862WiMt"
   },
   "source": [
    "# TD 04\n",
    "\n",
    "Intro aux traitement de données\n",
    "\n",
    "```python\n",
    "print(\"Hello, friend! It's been a while...\")\n",
    "```\n",
    " \n",
    "Elements à consulter:\n",
    "\n",
    "\n",
    "Doc                                   |             Link\n",
    "--------------------------------------|------------------------------------\n",
    "Python en 30 jours | [>link<](https://moncoachdata.com/courses/apprendre-python-en-30-jours/)\n",
    "Get started with pandas | [>link<](https://colab.research.google.com/notebooks/snippets/pandas.ipynb)"
   ]
  },
  {
   "cell_type": "markdown",
   "metadata": {
    "id": "Y1g4EgT41MqJ"
   },
   "source": [
    "## Intro\n",
    "\n",
    "Le premier bloc devrait toujours contenir les installs/imports dont on aura besoin pour le reste"
   ]
  },
  {
   "cell_type": "code",
   "execution_count": 46,
   "metadata": {
    "colab": {
     "base_uri": "https://localhost:8080/"
    },
    "id": "yjiE8c51VoT0",
    "outputId": "88029a55-7ea9-4945-f975-2bdea0d2be95"
   },
   "outputs": [],
   "source": [
    "# Installs\n",
    "!pip install emoji --quiet"
   ]
  },
  {
   "cell_type": "code",
   "execution_count": 47,
   "metadata": {
    "colab": {
     "base_uri": "https://localhost:8080/"
    },
    "id": "JhT-50uwz72F",
    "outputId": "3e6b6a89-5efe-4122-9274-710c2d526432"
   },
   "outputs": [
    {
     "name": "stdout",
     "output_type": "stream",
     "text": [
      "Python is awesome 👍\n"
     ]
    }
   ],
   "source": [
    "# Imports\n",
    "import os\n",
    "import json\n",
    "from random import randint\n",
    "# import pandas as pd\n",
    "# import numpy as np\n",
    "from getpass import getpass\n",
    "import emoji\n",
    "\n",
    "print(emoji.emojize('Python is awesome :thumbs_up:'))"
   ]
  },
  {
   "cell_type": "markdown",
   "metadata": {
    "id": "5jpD7nr9NrKR"
   },
   "source": [
    "##EX01\n",
    "### Liste de dictionnaire\n",
    "\n",
    "* à partir d'un fichier  [csv](./src/to_do/td_04/netflix_titles.csv)\n",
    "\n",
    "* en résultat une liste de dicts qui doit contenir le titre de la série, la plateforme de streaming (légal), le nombre d'épisodes de la série, l'année de sortie et une note /10.\n"
   ]
  },
  {
   "cell_type": "code",
   "execution_count": 56,
   "metadata": {},
   "outputs": [
    {
     "name": "stdout",
     "output_type": "stream",
     "text": [
      "{'titre': 'Breaking Bad', 'plateforme': 'Netflix', 'nb_episodes': 27, 'année_sortie': 2008, 'note': 9.4} \n",
      "\n",
      "{'titre': 'Stranger Things', 'plateforme': 'Netflix', 'nb_episodes': 26, 'année_sortie': 2016, 'note': 8.7} \n",
      "\n",
      "{'titre': 'Attack on Titan', 'plateforme': 'Netflix,Hulu', 'nb_episodes': 18, 'année_sortie': 2013, 'note': 9.0} \n",
      "\n",
      "{'titre': 'Better Call Saul', 'plateforme': 'Netflix', 'nb_episodes': 24, 'année_sortie': 2015, 'note': 8.8} \n",
      "\n",
      "{'titre': 'Dark', 'plateforme': 'Netflix', 'nb_episodes': 25, 'année_sortie': 2017, 'note': 8.8} \n",
      "\n",
      "{'titre': 'Avatar: The Last Airbender', 'plateforme': 'Netflix,Prime Video', 'nb_episodes': 18, 'année_sortie': 2005, 'note': 9.3} \n",
      "\n",
      "{'titre': 'Peaky Blinders', 'plateforme': 'Netflix', 'nb_episodes': 18, 'année_sortie': 2013, 'note': 8.8} \n",
      "\n",
      "{'titre': 'The Walking Dead', 'plateforme': 'Netflix', 'nb_episodes': 22, 'année_sortie': 2010, 'note': 8.2} \n",
      "\n",
      "{'titre': 'Black Mirror', 'plateforme': 'Netflix', 'nb_episodes': 10, 'année_sortie': 2011, 'note': 8.8} \n",
      "\n",
      "{'titre': \"The Queen's Gambit\", 'plateforme': 'Netflix', 'nb_episodes': 10, 'année_sortie': 2020, 'note': 8.6} \n",
      "\n"
     ]
    }
   ],
   "source": [
    "# Code here\n",
    "from random import randint\n",
    "\n",
    "liste_series=[]\n",
    "\n",
    "with open(\"tv_shows.csv\",'r') as f :\n",
    "    head = []\n",
    "    for i,ligne in enumerate(f) :\n",
    "        if i == 0 :\n",
    "            head = ligne.strip().split(\"|\")\n",
    "        else :\n",
    "            l = ligne.strip().split(\"|\")\n",
    "            plateforme = []\n",
    "            if l[6] == '1' :\n",
    "                plateforme.append(head[6])\n",
    "            if l[7] == '1':\n",
    "                plateforme.append(head[7])\n",
    "            if l[8] == '1' :\n",
    "                plateforme.append(head[8])\n",
    "            if l[9] == '1' :\n",
    "                plateforme.append(head[9])\n",
    "                \n",
    "            plateforme_str = \",\".join(plateforme)\n",
    "            nb_episodes = randint(6,30)\n",
    "            note = l[4].split('/')\n",
    "            try :\n",
    "                note[0] = float(note[0])\n",
    "            except :\n",
    "                pass\n",
    "            annee = l[2]\n",
    "            if annee.isdigit() :\n",
    "                annee = int(annee)                \n",
    "            serie = {'titre': l[1],\n",
    "                     'plateforme': plateforme_str,\n",
    "                     'nb_episodes': nb_episodes,\n",
    "                     'année_sortie': annee,\n",
    "                     'note': note[0] }\n",
    "            liste_series.append(serie)\n",
    "            \n",
    "for i in range(10) :\n",
    "    print(liste_series[i],'\\n')\n"
   ]
  },
  {
   "cell_type": "markdown",
   "metadata": {
    "id": "XdJvMT9xVoRS"
   },
   "source": [
    "# Bonus (Mandatory)\n",
    "\n",
    "\n"
   ]
  },
  {
   "cell_type": "markdown",
   "metadata": {
    "id": "94-12vgPXG10"
   },
   "source": [
    "## Github\n",
    "Pour soumettre votre travail: \n",
    "\n",
    "1.   Commit changes to a branch and push to [github](https://google.com)\n",
    "2.   Create pull request / merge request\n"
   ]
  }
 ],
 "metadata": {
  "colab": {
   "collapsed_sections": [
    "Y1g4EgT41MqJ",
    "SHsrGdy-5AZK",
    "W3BGjEYaf2UQ"
   ],
   "include_colab_link": true,
   "provenance": []
  },
  "kernelspec": {
   "display_name": "Python 3 (ipykernel)",
   "language": "python",
   "name": "python3"
  },
  "language_info": {
   "codemirror_mode": {
    "name": "ipython",
    "version": 3
   },
   "file_extension": ".py",
   "mimetype": "text/x-python",
   "name": "python",
   "nbconvert_exporter": "python",
   "pygments_lexer": "ipython3",
   "version": "3.9.7"
  },
  "vscode": {
   "interpreter": {
    "hash": "3f45e4e28fced15a12b4694155ea95b08e6e198f7a4414e8438d9413ea05e02f"
   }
  }
 },
 "nbformat": 4,
 "nbformat_minor": 1
}
