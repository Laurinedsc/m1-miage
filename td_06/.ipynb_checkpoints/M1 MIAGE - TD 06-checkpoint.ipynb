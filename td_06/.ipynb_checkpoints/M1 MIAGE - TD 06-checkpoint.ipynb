{
 "cells": [
  {
   "cell_type": "markdown",
   "metadata": {
    "id": "597Hu82gSNCZ"
   },
   "source": [
    "<img src=\"https://upload.wikimedia.org/wikipedia/fr/0/0b/Polytech_Lyon_logo.png\" alt=\"drawing\" height=\"200\"/>\n",
    "\n",
    "# Traitement de données & Programmation en Python\n",
    "---\n",
    "\n"
   ]
  },
  {
   "cell_type": "markdown",
   "metadata": {
    "id": "EA-XK862WiMt"
   },
   "source": [
    "# TD 06\n",
    "\n",
    "Traitement de données\n",
    "\n",
    "Elements à consulter:\n",
    "\n",
    "\n",
    "\n",
    "\n",
    "\n",
    "Doc                                   |             Link\n",
    "--------------------------------------|------------------------------------\n",
    "Github Helper      | [>link<](#scrollTo=Github_101)\n",
    "Python en 30 jours | [>link<](https://moncoachdata.com/courses/apprendre-python-en-30-jours/)\n",
    "Get started with pandas | [>link<](https://colab.research.google.com/notebooks/snippets/pandas.ipynb)"
   ]
  },
  {
   "cell_type": "markdown",
   "metadata": {
    "id": "Y1g4EgT41MqJ"
   },
   "source": [
    "## Intro\n",
    "\n",
    "Le premier bloc devrait toujours contenir les installs/imports dont on aura besoin pour le reste"
   ]
  },
  {
   "cell_type": "code",
   "execution_count": 219,
   "metadata": {
    "colab": {
     "base_uri": "https://localhost:8080/"
    },
    "executionInfo": {
     "elapsed": 18,
     "status": "ok",
     "timestamp": 1671047891011,
     "user": {
      "displayName": "Mohamed Ikbal Belbahri (MLP)",
      "userId": "07328248620844599905"
     },
     "user_tz": -60
    },
    "id": "yjiE8c51VoT0",
    "outputId": "971fd469-d5bf-4cac-bee1-b01c4e102c17"
   },
   "outputs": [
    {
     "name": "stdout",
     "output_type": "stream",
     "text": [
      "Python is awesome 👍\n"
     ]
    }
   ],
   "source": [
    "# Installs\n",
    "import pandas as pd\n",
    "import numpy as np\n",
    "import matplotlib.pyplot as plt\n",
    "print(\"Python is awesome 👍\")"
   ]
  },
  {
   "cell_type": "markdown",
   "metadata": {
    "id": "SHsrGdy-5AZK"
   },
   "source": [
    "## EX01\n",
    "### Dataframes\n",
    "\n",
    "* Importer la librairie pandas\n",
    "* lire dataset 'tv_shows.csv' dans une variable tv_data\n",
    "* Afficher les 10 premieres lignes du dataset\n",
    "* Créer une colonne \"sreaming_platform\" qui contient le nom de la plateforme de streaming en se basant sur les colonnes (hulu, prime, disney, netflix)\n",
    "* Drop les colonnes (hulu, prime, disney, netflix)\n",
    "* Afficher le nombre de shows par plateforme de streaming\n",
    "* Afficher la note moyenne (imdb) par plateforme de streaming\n",
    "* Assigner a une variable top_shows, les meilleurs shows par plateforme de streaming et afficher cette dernière\n",
    "> bonus \n",
    "* Faire un graphique avec le nombre de shows par année (sur Y, et sur l'axe X les années) par plateforme de streaming (en series). Libres sur le choix du graphique [help](https://pandas.pydata.org/docs/reference/api/pandas.DataFrame.plot.bar.html)"
   ]
  },
  {
   "cell_type": "code",
   "execution_count": 109,
   "metadata": {
    "executionInfo": {
     "elapsed": 5,
     "status": "ok",
     "timestamp": 1671091199158,
     "user": {
      "displayName": "Mohamed Ikbal Belbahri (MLP)",
      "userId": "07328248620844599905"
     },
     "user_tz": -60
    },
    "id": "n_jOsgGllUhC"
   },
   "outputs": [
    {
     "data": {
      "text/html": [
       "<div>\n",
       "<style scoped>\n",
       "    .dataframe tbody tr th:only-of-type {\n",
       "        vertical-align: middle;\n",
       "    }\n",
       "\n",
       "    .dataframe tbody tr th {\n",
       "        vertical-align: top;\n",
       "    }\n",
       "\n",
       "    .dataframe thead th {\n",
       "        text-align: right;\n",
       "    }\n",
       "</style>\n",
       "<table border=\"1\" class=\"dataframe\">\n",
       "  <thead>\n",
       "    <tr style=\"text-align: right;\">\n",
       "      <th></th>\n",
       "      <th>ID</th>\n",
       "      <th>Title</th>\n",
       "      <th>Year</th>\n",
       "      <th>Age</th>\n",
       "      <th>IMDb</th>\n",
       "      <th>Rotten Tomatoes</th>\n",
       "      <th>Netflix</th>\n",
       "      <th>Hulu</th>\n",
       "      <th>Prime Video</th>\n",
       "      <th>Disney+</th>\n",
       "      <th>Type</th>\n",
       "    </tr>\n",
       "  </thead>\n",
       "  <tbody>\n",
       "    <tr>\n",
       "      <th>0</th>\n",
       "      <td>1</td>\n",
       "      <td>Breaking Bad</td>\n",
       "      <td>2008</td>\n",
       "      <td>18+</td>\n",
       "      <td>9.4/10</td>\n",
       "      <td>100/100</td>\n",
       "      <td>1</td>\n",
       "      <td>0</td>\n",
       "      <td>0</td>\n",
       "      <td>0</td>\n",
       "      <td>1</td>\n",
       "    </tr>\n",
       "    <tr>\n",
       "      <th>1</th>\n",
       "      <td>2</td>\n",
       "      <td>Stranger Things</td>\n",
       "      <td>2016</td>\n",
       "      <td>16+</td>\n",
       "      <td>8.7/10</td>\n",
       "      <td>96/100</td>\n",
       "      <td>1</td>\n",
       "      <td>0</td>\n",
       "      <td>0</td>\n",
       "      <td>0</td>\n",
       "      <td>1</td>\n",
       "    </tr>\n",
       "    <tr>\n",
       "      <th>2</th>\n",
       "      <td>3</td>\n",
       "      <td>Attack on Titan</td>\n",
       "      <td>2013</td>\n",
       "      <td>18+</td>\n",
       "      <td>9.0/10</td>\n",
       "      <td>95/100</td>\n",
       "      <td>1</td>\n",
       "      <td>1</td>\n",
       "      <td>0</td>\n",
       "      <td>0</td>\n",
       "      <td>1</td>\n",
       "    </tr>\n",
       "    <tr>\n",
       "      <th>3</th>\n",
       "      <td>4</td>\n",
       "      <td>Better Call Saul</td>\n",
       "      <td>2015</td>\n",
       "      <td>18+</td>\n",
       "      <td>8.8/10</td>\n",
       "      <td>94/100</td>\n",
       "      <td>1</td>\n",
       "      <td>0</td>\n",
       "      <td>0</td>\n",
       "      <td>0</td>\n",
       "      <td>1</td>\n",
       "    </tr>\n",
       "    <tr>\n",
       "      <th>4</th>\n",
       "      <td>5</td>\n",
       "      <td>Dark</td>\n",
       "      <td>2017</td>\n",
       "      <td>16+</td>\n",
       "      <td>8.8/10</td>\n",
       "      <td>93/100</td>\n",
       "      <td>1</td>\n",
       "      <td>0</td>\n",
       "      <td>0</td>\n",
       "      <td>0</td>\n",
       "      <td>1</td>\n",
       "    </tr>\n",
       "    <tr>\n",
       "      <th>5</th>\n",
       "      <td>6</td>\n",
       "      <td>Avatar: The Last Airbender</td>\n",
       "      <td>2005</td>\n",
       "      <td>7+</td>\n",
       "      <td>9.3/10</td>\n",
       "      <td>93/100</td>\n",
       "      <td>1</td>\n",
       "      <td>0</td>\n",
       "      <td>1</td>\n",
       "      <td>0</td>\n",
       "      <td>1</td>\n",
       "    </tr>\n",
       "    <tr>\n",
       "      <th>6</th>\n",
       "      <td>7</td>\n",
       "      <td>Peaky Blinders</td>\n",
       "      <td>2013</td>\n",
       "      <td>18+</td>\n",
       "      <td>8.8/10</td>\n",
       "      <td>93/100</td>\n",
       "      <td>1</td>\n",
       "      <td>0</td>\n",
       "      <td>0</td>\n",
       "      <td>0</td>\n",
       "      <td>1</td>\n",
       "    </tr>\n",
       "    <tr>\n",
       "      <th>7</th>\n",
       "      <td>8</td>\n",
       "      <td>The Walking Dead</td>\n",
       "      <td>2010</td>\n",
       "      <td>18+</td>\n",
       "      <td>8.2/10</td>\n",
       "      <td>93/100</td>\n",
       "      <td>1</td>\n",
       "      <td>0</td>\n",
       "      <td>0</td>\n",
       "      <td>0</td>\n",
       "      <td>1</td>\n",
       "    </tr>\n",
       "    <tr>\n",
       "      <th>8</th>\n",
       "      <td>9</td>\n",
       "      <td>Black Mirror</td>\n",
       "      <td>2011</td>\n",
       "      <td>18+</td>\n",
       "      <td>8.8/10</td>\n",
       "      <td>92/100</td>\n",
       "      <td>1</td>\n",
       "      <td>0</td>\n",
       "      <td>0</td>\n",
       "      <td>0</td>\n",
       "      <td>1</td>\n",
       "    </tr>\n",
       "    <tr>\n",
       "      <th>9</th>\n",
       "      <td>10</td>\n",
       "      <td>The Queen's Gambit</td>\n",
       "      <td>2020</td>\n",
       "      <td>18+</td>\n",
       "      <td>8.6/10</td>\n",
       "      <td>92/100</td>\n",
       "      <td>1</td>\n",
       "      <td>0</td>\n",
       "      <td>0</td>\n",
       "      <td>0</td>\n",
       "      <td>1</td>\n",
       "    </tr>\n",
       "  </tbody>\n",
       "</table>\n",
       "</div>"
      ],
      "text/plain": [
       "   ID                       Title  Year  Age    IMDb Rotten Tomatoes  Netflix  \\\n",
       "0   1                Breaking Bad  2008  18+  9.4/10         100/100        1   \n",
       "1   2             Stranger Things  2016  16+  8.7/10          96/100        1   \n",
       "2   3             Attack on Titan  2013  18+  9.0/10          95/100        1   \n",
       "3   4            Better Call Saul  2015  18+  8.8/10          94/100        1   \n",
       "4   5                        Dark  2017  16+  8.8/10          93/100        1   \n",
       "5   6  Avatar: The Last Airbender  2005   7+  9.3/10          93/100        1   \n",
       "6   7              Peaky Blinders  2013  18+  8.8/10          93/100        1   \n",
       "7   8            The Walking Dead  2010  18+  8.2/10          93/100        1   \n",
       "8   9                Black Mirror  2011  18+  8.8/10          92/100        1   \n",
       "9  10          The Queen's Gambit  2020  18+  8.6/10          92/100        1   \n",
       "\n",
       "   Hulu  Prime Video  Disney+  Type  \n",
       "0     0            0        0     1  \n",
       "1     0            0        0     1  \n",
       "2     1            0        0     1  \n",
       "3     0            0        0     1  \n",
       "4     0            0        0     1  \n",
       "5     0            1        0     1  \n",
       "6     0            0        0     1  \n",
       "7     0            0        0     1  \n",
       "8     0            0        0     1  \n",
       "9     0            0        0     1  "
      ]
     },
     "execution_count": 109,
     "metadata": {},
     "output_type": "execute_result"
    }
   ],
   "source": [
    "# lire dataset 'tv_shows.csv' dans une variable tv_data\n",
    "filepath = './tv_shows.csv'\n",
    "tv_data = pd.read_csv(filepath,delimiter='|')\n",
    "# Afficher les 10 premieres lignes du dataset\n",
    "tv_data.head(10)\n"
   ]
  },
  {
   "cell_type": "code",
   "execution_count": 112,
   "metadata": {},
   "outputs": [
    {
     "name": "stdout",
     "output_type": "stream",
     "text": [
      "Index(['Netflix', 'Hulu', 'Prime Video', 'Disney+'], dtype='object')\n"
     ]
    },
    {
     "name": "stderr",
     "output_type": "stream",
     "text": [
      "C:\\Users\\malas\\anaconda3\\lib\\site-packages\\pandas\\core\\frame.py:4906: SettingWithCopyWarning: \n",
      "A value is trying to be set on a copy of a slice from a DataFrame\n",
      "\n",
      "See the caveats in the documentation: https://pandas.pydata.org/pandas-docs/stable/user_guide/indexing.html#returning-a-view-versus-a-copy\n",
      "  return super().drop(\n"
     ]
    },
    {
     "data": {
      "text/html": [
       "<div>\n",
       "<style scoped>\n",
       "    .dataframe tbody tr th:only-of-type {\n",
       "        vertical-align: middle;\n",
       "    }\n",
       "\n",
       "    .dataframe tbody tr th {\n",
       "        vertical-align: top;\n",
       "    }\n",
       "\n",
       "    .dataframe thead th {\n",
       "        text-align: right;\n",
       "    }\n",
       "</style>\n",
       "<table border=\"1\" class=\"dataframe\">\n",
       "  <thead>\n",
       "    <tr style=\"text-align: right;\">\n",
       "      <th></th>\n",
       "      <th>ID</th>\n",
       "      <th>Title</th>\n",
       "      <th>Year</th>\n",
       "      <th>Age</th>\n",
       "      <th>IMDb</th>\n",
       "      <th>Rotten Tomatoes</th>\n",
       "      <th>Type</th>\n",
       "      <th>streaming_platform</th>\n",
       "    </tr>\n",
       "  </thead>\n",
       "  <tbody>\n",
       "    <tr>\n",
       "      <th>0</th>\n",
       "      <td>1</td>\n",
       "      <td>Breaking Bad</td>\n",
       "      <td>2008</td>\n",
       "      <td>18+</td>\n",
       "      <td>9.4/10</td>\n",
       "      <td>100/100</td>\n",
       "      <td>1</td>\n",
       "      <td>Netflix</td>\n",
       "    </tr>\n",
       "    <tr>\n",
       "      <th>1</th>\n",
       "      <td>2</td>\n",
       "      <td>Stranger Things</td>\n",
       "      <td>2016</td>\n",
       "      <td>16+</td>\n",
       "      <td>8.7/10</td>\n",
       "      <td>96/100</td>\n",
       "      <td>1</td>\n",
       "      <td>Netflix</td>\n",
       "    </tr>\n",
       "    <tr>\n",
       "      <th>2</th>\n",
       "      <td>3</td>\n",
       "      <td>Attack on Titan</td>\n",
       "      <td>2013</td>\n",
       "      <td>18+</td>\n",
       "      <td>9.0/10</td>\n",
       "      <td>95/100</td>\n",
       "      <td>1</td>\n",
       "      <td>Netflix</td>\n",
       "    </tr>\n",
       "    <tr>\n",
       "      <th>3</th>\n",
       "      <td>4</td>\n",
       "      <td>Better Call Saul</td>\n",
       "      <td>2015</td>\n",
       "      <td>18+</td>\n",
       "      <td>8.8/10</td>\n",
       "      <td>94/100</td>\n",
       "      <td>1</td>\n",
       "      <td>Netflix</td>\n",
       "    </tr>\n",
       "    <tr>\n",
       "      <th>4</th>\n",
       "      <td>5</td>\n",
       "      <td>Dark</td>\n",
       "      <td>2017</td>\n",
       "      <td>16+</td>\n",
       "      <td>8.8/10</td>\n",
       "      <td>93/100</td>\n",
       "      <td>1</td>\n",
       "      <td>Netflix</td>\n",
       "    </tr>\n",
       "  </tbody>\n",
       "</table>\n",
       "</div>"
      ],
      "text/plain": [
       "   ID             Title  Year  Age    IMDb Rotten Tomatoes  Type  \\\n",
       "0   1      Breaking Bad  2008  18+  9.4/10         100/100     1   \n",
       "1   2   Stranger Things  2016  16+  8.7/10          96/100     1   \n",
       "2   3   Attack on Titan  2013  18+  9.0/10          95/100     1   \n",
       "3   4  Better Call Saul  2015  18+  8.8/10          94/100     1   \n",
       "4   5              Dark  2017  16+  8.8/10          93/100     1   \n",
       "\n",
       "  streaming_platform  \n",
       "0            Netflix  \n",
       "1            Netflix  \n",
       "2            Netflix  \n",
       "3            Netflix  \n",
       "4            Netflix  "
      ]
     },
     "execution_count": 112,
     "metadata": {},
     "output_type": "execute_result"
    }
   ],
   "source": [
    "# Créer une colonne \"streaming_platform\" qui contient le nom de la plateforme de streaming en se basant sur\n",
    "# les colonnes (hulu, prime, disney, netflix)\n",
    "cols = tv_data.columns\n",
    "platform = cols[6:10]\n",
    "print(platform)\n",
    "#créer une dataframe vide\n",
    "non_unique_tv_data = pd.DataFrame()\n",
    "\n",
    "for p in platform:\n",
    "    filter_data = tv_data.loc[tv_data[p] == 1]\n",
    "    filter_data.drop(columns=platform, inplace=True)\n",
    "    filter_data = filter_data.assign(streaming_platform = p)\n",
    "    non_unique_tv_data = non_unique_tv_data.append(filter_data,ignore_index=True,sort=None)\n",
    "    \n",
    "non_unique_tv_data.head()\n",
    "\n"
   ]
  },
  {
   "cell_type": "code",
   "execution_count": 185,
   "metadata": {},
   "outputs": [
    {
     "name": "stdout",
     "output_type": "stream",
     "text": [
      "Index(['Netflix', 'Hulu', 'Prime Video', 'Disney+'], dtype='object')\n"
     ]
    }
   ],
   "source": [
    "#Afficher le nombre de shows par plateforme de streaming\n",
    "#Afficher la note moyenne (imdb) par plateforme de streaming  \n",
    "nb_shows_par_platform= {}\n",
    "notes_moyennes = {}\n",
    "top_shows = {}\n",
    "print(platform)\n",
    "for p in platform :\n",
    "    nb_shows = non_unique_tv_data.loc[(non_unique_tv_data['streaming_platform'] == p),'streaming_platform'].count()\n",
    "    nb_shows_par_platform[p] = nb_shows\n",
    "    notes = non_unique_tv_data.loc[(non_unique_tv_data['streaming_platform'] == p),'IMDb'].str.split(\"/\",expand=True)\n",
    "    notes = notes.astype(dict.fromkeys(notes.columns,float))\n",
    "    notes_moyennes[p] = round(notes[0].mean(),2)\n",
    "    liste_index = notes.index[notes[0]==notes[0].max()]\n",
    "    top_shows[p] = non_unique_tv_data.loc[liste_index,\"Title\"].tolist()\n"
   ]
  },
  {
   "cell_type": "code",
   "execution_count": 193,
   "metadata": {},
   "outputs": [],
   "source": [
    "def afficherDict(dict) :\n",
    "    for key,element in dict.items() :\n",
    "        print(f\"{key} : {element}\")"
   ]
  },
  {
   "cell_type": "code",
   "execution_count": 191,
   "metadata": {},
   "outputs": [],
   "source": [
    "def afficherDictListe(dict) :\n",
    "    for key,liste in dict.items() :\n",
    "        print(key,\" : \")\n",
    "        for element in liste :\n",
    "            print(f\"\\t {element}\")"
   ]
  },
  {
   "cell_type": "code",
   "execution_count": 194,
   "metadata": {},
   "outputs": [
    {
     "name": "stdout",
     "output_type": "stream",
     "text": [
      "Nombre de shows par plateforme de streaming : \n",
      "\n",
      "Netflix : 1971\n",
      "Hulu : 1621\n",
      "Prime Video : 1831\n",
      "Disney+ : 351\n"
     ]
    }
   ],
   "source": [
    "print(f\"Nombre de shows par plateforme de streaming : \\n\")\n",
    "afficherDict(nb_shows_par_platform)"
   ]
  },
  {
   "cell_type": "code",
   "execution_count": 195,
   "metadata": {},
   "outputs": [
    {
     "name": "stdout",
     "output_type": "stream",
     "text": [
      "La note moyenne (IMDb) par plateforme de streaming\n",
      "\n",
      "Netflix : 7.11\n",
      "Hulu : 7.08\n",
      "Prime Video : 7.15\n",
      "Disney+ : 6.97\n"
     ]
    }
   ],
   "source": [
    "print(f\"La note moyenne (IMDb) par plateforme de streaming\\n\")\n",
    "afficherDict(notes_moyennes)"
   ]
  },
  {
   "cell_type": "code",
   "execution_count": 196,
   "metadata": {},
   "outputs": [
    {
     "name": "stdout",
     "output_type": "stream",
     "text": [
      "Les meilleurs shows par plateforme de streaming\n",
      "\n",
      "Netflix  : \n",
      "\t Breaking Bad\n",
      "Hulu  : \n",
      "\t Cosmos\n",
      "\t Hungry Henry\n",
      "Prime Video  : \n",
      "\t The Secret World of Nature: Spain\n",
      "Disney+  : \n",
      "\t Bluey\n"
     ]
    }
   ],
   "source": [
    "#Assigner a une variable top_shows, les meilleurs shows par plateforme de streaming et afficher cette dernière\n",
    "print(f\"Les meilleurs shows par plateforme de streaming\\n\")\n",
    "afficherDictListe(top_shows)"
   ]
  },
  {
   "cell_type": "code",
   "execution_count": 245,
   "metadata": {},
   "outputs": [],
   "source": [
    "#Faire un graphique avec le nombre de shows par année (sur Y, et sur l'axe X les années) par plateforme de streaming (en series). Libres sur le choix du graphique help\n",
    "years = sorted(tv_data['Year'].unique())\n",
    "dict_nb_shows = {}\n",
    "#print(years)\n",
    "for p in platform :\n",
    "    array_nb_shows = []\n",
    "    for year in years :\n",
    "        nb_shows = non_unique_tv_data.loc[(non_unique_tv_data['streaming_platform'] == p) & (non_unique_tv_data['Year'] == year ),'streaming_platform'].count()\n",
    "        array_nb_shows.append(nb_shows)\n",
    "    dict_nb_shows[p] = array_nb_shows"
   ]
  },
  {
   "cell_type": "code",
   "execution_count": 229,
   "metadata": {},
   "outputs": [
    {
     "data": {
      "image/png": "[encoded data removed]",
      "text/plain": [
       "<Figure size 864x432 with 1 Axes>"
      ]
     },
     "metadata": {
      "needs_background": "light"
     },
     "output_type": "display_data"
    }
   ],
   "source": [
    "#visualization\n",
    "plt.figure(figsize=(12,6))\n",
    "for p in platform :\n",
    "    plt.plot(years,dict_nb_shows[p],label=p)\n",
    "plt.title(\"Nombre de shows par année par plateforme de streaming\")\n",
    "plt.xlabel(\"Années\")\n",
    "plt.ylabel(\"Nombre de shows\")\n",
    "plt.legend()\n",
    "plt.show()"
   ]
  },
  {
   "cell_type": "code",
   "execution_count": 249,
   "metadata": {},
   "outputs": [
    {
     "data": {
      "text/html": [
       "<div>\n",
       "<style scoped>\n",
       "    .dataframe tbody tr th:only-of-type {\n",
       "        vertical-align: middle;\n",
       "    }\n",
       "\n",
       "    .dataframe tbody tr th {\n",
       "        vertical-align: top;\n",
       "    }\n",
       "\n",
       "    .dataframe thead th {\n",
       "        text-align: right;\n",
       "    }\n",
       "</style>\n",
       "<table border=\"1\" class=\"dataframe\">\n",
       "  <thead>\n",
       "    <tr style=\"text-align: right;\">\n",
       "      <th></th>\n",
       "      <th>Years</th>\n",
       "      <th>Netflix</th>\n",
       "      <th>Hulu</th>\n",
       "      <th>Prime Video</th>\n",
       "      <th>Disney+</th>\n",
       "    </tr>\n",
       "  </thead>\n",
       "  <tbody>\n",
       "    <tr>\n",
       "      <th>0</th>\n",
       "      <td>1904</td>\n",
       "      <td>0</td>\n",
       "      <td>0</td>\n",
       "      <td>1</td>\n",
       "      <td>0</td>\n",
       "    </tr>\n",
       "    <tr>\n",
       "      <th>1</th>\n",
       "      <td>1931</td>\n",
       "      <td>0</td>\n",
       "      <td>1</td>\n",
       "      <td>0</td>\n",
       "      <td>0</td>\n",
       "    </tr>\n",
       "    <tr>\n",
       "      <th>2</th>\n",
       "      <td>1932</td>\n",
       "      <td>0</td>\n",
       "      <td>0</td>\n",
       "      <td>1</td>\n",
       "      <td>0</td>\n",
       "    </tr>\n",
       "    <tr>\n",
       "      <th>3</th>\n",
       "      <td>1934</td>\n",
       "      <td>0</td>\n",
       "      <td>1</td>\n",
       "      <td>0</td>\n",
       "      <td>0</td>\n",
       "    </tr>\n",
       "    <tr>\n",
       "      <th>4</th>\n",
       "      <td>1943</td>\n",
       "      <td>0</td>\n",
       "      <td>0</td>\n",
       "      <td>1</td>\n",
       "      <td>0</td>\n",
       "    </tr>\n",
       "    <tr>\n",
       "      <th>...</th>\n",
       "      <td>...</td>\n",
       "      <td>...</td>\n",
       "      <td>...</td>\n",
       "      <td>...</td>\n",
       "      <td>...</td>\n",
       "    </tr>\n",
       "    <tr>\n",
       "      <th>73</th>\n",
       "      <td>2017</td>\n",
       "      <td>216</td>\n",
       "      <td>110</td>\n",
       "      <td>270</td>\n",
       "      <td>29</td>\n",
       "    </tr>\n",
       "    <tr>\n",
       "      <th>74</th>\n",
       "      <td>2018</td>\n",
       "      <td>305</td>\n",
       "      <td>103</td>\n",
       "      <td>147</td>\n",
       "      <td>30</td>\n",
       "    </tr>\n",
       "    <tr>\n",
       "      <th>75</th>\n",
       "      <td>2019</td>\n",
       "      <td>317</td>\n",
       "      <td>117</td>\n",
       "      <td>52</td>\n",
       "      <td>39</td>\n",
       "    </tr>\n",
       "    <tr>\n",
       "      <th>76</th>\n",
       "      <td>2020</td>\n",
       "      <td>307</td>\n",
       "      <td>99</td>\n",
       "      <td>53</td>\n",
       "      <td>43</td>\n",
       "    </tr>\n",
       "    <tr>\n",
       "      <th>77</th>\n",
       "      <td>2021</td>\n",
       "      <td>146</td>\n",
       "      <td>36</td>\n",
       "      <td>23</td>\n",
       "      <td>25</td>\n",
       "    </tr>\n",
       "  </tbody>\n",
       "</table>\n",
       "<p>78 rows × 5 columns</p>\n",
       "</div>"
      ],
      "text/plain": [
       "    Years  Netflix  Hulu  Prime Video  Disney+\n",
       "0    1904        0     0            1        0\n",
       "1    1931        0     1            0        0\n",
       "2    1932        0     0            1        0\n",
       "3    1934        0     1            0        0\n",
       "4    1943        0     0            1        0\n",
       "..    ...      ...   ...          ...      ...\n",
       "73   2017      216   110          270       29\n",
       "74   2018      305   103          147       30\n",
       "75   2019      317   117           52       39\n",
       "76   2020      307    99           53       43\n",
       "77   2021      146    36           23       25\n",
       "\n",
       "[78 rows x 5 columns]"
      ]
     },
     "execution_count": 249,
     "metadata": {},
     "output_type": "execute_result"
    }
   ],
   "source": [
    "df = pd.DataFrame(dict_nb_shows)\n",
    "df.insert(0,\"Years\",years)\n",
    "df"
   ]
  },
  {
   "cell_type": "code",
   "execution_count": 254,
   "metadata": {},
   "outputs": [
    {
     "data": {
      "image/png": "[encoded data removed]",
      "text/plain": [
       "<Figure size 1080x648 with 1 Axes>"
      ]
     },
     "metadata": {
      "needs_background": "light"
     },
     "output_type": "display_data"
    }
   ],
   "source": [
    "ax = df.plot.bar(x= \"Years\", stacked=True, figsize=(15,9), xlabel=\"Années\", ylabel= \"Nombre de shows\"\n",
    "                , title=\"Nombre de shows par année par plateforme de streaming\")"
   ]
  },
  {
   "cell_type": "markdown",
   "metadata": {
    "id": "Q8WBS9oVKcWs"
   },
   "source": [
    "##EX02\n",
    "### Pandas Power\n",
    "\n",
    "TBD (apres la pause)"
   ]
  },
  {
   "cell_type": "code",
   "execution_count": 8,
   "metadata": {
    "executionInfo": {
     "elapsed": 1298,
     "status": "ok",
     "timestamp": 1671092900485,
     "user": {
      "displayName": "Mohamed Ikbal Belbahri (MLP)",
      "userId": "07328248620844599905"
     },
     "user_tz": -60
    },
    "id": "EjbTgYNbCaIj"
   },
   "outputs": [],
   "source": [
    "# Code here\n"
   ]
  }
 ],
 "metadata": {
  "colab": {
   "provenance": [
    {
     "file_id": "1paH7Fisr-efmtIiO-1Ab3owCJjfDE4v_",
     "timestamp": 1671047849633
    },
    {
     "file_id": "1zl-_Eb4yoPaEZETfcgwMT3t1f2WvzCTP",
     "timestamp": 1669822250874
    },
    {
     "file_id": "10r0ra7GNEYtrBFgJzzxdTdUmyASLaFac",
     "timestamp": 1668549623925
    },
    {
     "file_id": "1VxTxySDy1nHxi76Wmt1Y8PNFgQXUfaAI",
     "timestamp": 1666854248665
    },
    {
     "file_id": "1GUBWlzuW-AJq29Cci_ysjvctaj2392KH",
     "timestamp": 1666799264156
    },
    {
     "file_id": "1C8pBAb5MVuZLc-Ijxah2iD7OYnHEDbL3",
     "timestamp": 1655373401969
    }
   ]
  },
  "kernelspec": {
   "display_name": "Python 3 (ipykernel)",
   "language": "python",
   "name": "python3"
  },
  "language_info": {
   "codemirror_mode": {
    "name": "ipython",
    "version": 3
   },
   "file_extension": ".py",
   "mimetype": "text/x-python",
   "name": "python",
   "nbconvert_exporter": "python",
   "pygments_lexer": "ipython3",
   "version": "3.9.7"
  }
 },
 "nbformat": 4,
 "nbformat_minor": 1
}
